{
 "cells": [
  {
   "cell_type": "code",
   "execution_count": 23,
   "metadata": {},
   "outputs": [],
   "source": [
    "import pandas as pd"
   ]
  },
  {
   "cell_type": "code",
   "execution_count": 24,
   "metadata": {},
   "outputs": [
    {
     "data": {
      "text/html": [
       "<div>\n",
       "<style scoped>\n",
       "    .dataframe tbody tr th:only-of-type {\n",
       "        vertical-align: middle;\n",
       "    }\n",
       "\n",
       "    .dataframe tbody tr th {\n",
       "        vertical-align: top;\n",
       "    }\n",
       "\n",
       "    .dataframe thead th {\n",
       "        text-align: right;\n",
       "    }\n",
       "</style>\n",
       "<table border=\"1\" class=\"dataframe\">\n",
       "  <thead>\n",
       "    <tr style=\"text-align: right;\">\n",
       "      <th></th>\n",
       "      <th>TransactionNo</th>\n",
       "      <th>Items</th>\n",
       "      <th>DateTime</th>\n",
       "      <th>Daypart</th>\n",
       "      <th>DayType</th>\n",
       "    </tr>\n",
       "  </thead>\n",
       "  <tbody>\n",
       "    <tr>\n",
       "      <th>0</th>\n",
       "      <td>1</td>\n",
       "      <td>Bread</td>\n",
       "      <td>2016-10-30 09:58:11</td>\n",
       "      <td>Morning</td>\n",
       "      <td>Weekend</td>\n",
       "    </tr>\n",
       "    <tr>\n",
       "      <th>1</th>\n",
       "      <td>2</td>\n",
       "      <td>Scandinavian</td>\n",
       "      <td>2016-10-30 10:05:34</td>\n",
       "      <td>Morning</td>\n",
       "      <td>Weekend</td>\n",
       "    </tr>\n",
       "    <tr>\n",
       "      <th>2</th>\n",
       "      <td>2</td>\n",
       "      <td>Scandinavian</td>\n",
       "      <td>2016-10-30 10:05:34</td>\n",
       "      <td>Morning</td>\n",
       "      <td>Weekend</td>\n",
       "    </tr>\n",
       "    <tr>\n",
       "      <th>3</th>\n",
       "      <td>3</td>\n",
       "      <td>Hot chocolate</td>\n",
       "      <td>2016-10-30 10:07:57</td>\n",
       "      <td>Morning</td>\n",
       "      <td>Weekend</td>\n",
       "    </tr>\n",
       "    <tr>\n",
       "      <th>4</th>\n",
       "      <td>3</td>\n",
       "      <td>Jam</td>\n",
       "      <td>2016-10-30 10:07:57</td>\n",
       "      <td>Morning</td>\n",
       "      <td>Weekend</td>\n",
       "    </tr>\n",
       "    <tr>\n",
       "      <th>...</th>\n",
       "      <td>...</td>\n",
       "      <td>...</td>\n",
       "      <td>...</td>\n",
       "      <td>...</td>\n",
       "      <td>...</td>\n",
       "    </tr>\n",
       "    <tr>\n",
       "      <th>20502</th>\n",
       "      <td>9682</td>\n",
       "      <td>Coffee</td>\n",
       "      <td>2017-09-04 14:32:58</td>\n",
       "      <td>Afternoon</td>\n",
       "      <td>Weekend</td>\n",
       "    </tr>\n",
       "    <tr>\n",
       "      <th>20503</th>\n",
       "      <td>9682</td>\n",
       "      <td>Tea</td>\n",
       "      <td>2017-09-04 14:32:58</td>\n",
       "      <td>Afternoon</td>\n",
       "      <td>Weekend</td>\n",
       "    </tr>\n",
       "    <tr>\n",
       "      <th>20504</th>\n",
       "      <td>9683</td>\n",
       "      <td>Coffee</td>\n",
       "      <td>2017-09-04 14:57:06</td>\n",
       "      <td>Afternoon</td>\n",
       "      <td>Weekend</td>\n",
       "    </tr>\n",
       "    <tr>\n",
       "      <th>20505</th>\n",
       "      <td>9683</td>\n",
       "      <td>Pastry</td>\n",
       "      <td>2017-09-04 14:57:06</td>\n",
       "      <td>Afternoon</td>\n",
       "      <td>Weekend</td>\n",
       "    </tr>\n",
       "    <tr>\n",
       "      <th>20506</th>\n",
       "      <td>9684</td>\n",
       "      <td>Smoothies</td>\n",
       "      <td>2017-09-04 15:04:24</td>\n",
       "      <td>Afternoon</td>\n",
       "      <td>Weekend</td>\n",
       "    </tr>\n",
       "  </tbody>\n",
       "</table>\n",
       "<p>20507 rows × 5 columns</p>\n",
       "</div>"
      ],
      "text/plain": [
       "       TransactionNo          Items             DateTime    Daypart  DayType\n",
       "0                  1          Bread  2016-10-30 09:58:11    Morning  Weekend\n",
       "1                  2   Scandinavian  2016-10-30 10:05:34    Morning  Weekend\n",
       "2                  2   Scandinavian  2016-10-30 10:05:34    Morning  Weekend\n",
       "3                  3  Hot chocolate  2016-10-30 10:07:57    Morning  Weekend\n",
       "4                  3            Jam  2016-10-30 10:07:57    Morning  Weekend\n",
       "...              ...            ...                  ...        ...      ...\n",
       "20502           9682         Coffee  2017-09-04 14:32:58  Afternoon  Weekend\n",
       "20503           9682            Tea  2017-09-04 14:32:58  Afternoon  Weekend\n",
       "20504           9683         Coffee  2017-09-04 14:57:06  Afternoon  Weekend\n",
       "20505           9683         Pastry  2017-09-04 14:57:06  Afternoon  Weekend\n",
       "20506           9684      Smoothies  2017-09-04 15:04:24  Afternoon  Weekend\n",
       "\n",
       "[20507 rows x 5 columns]"
      ]
     },
     "execution_count": 24,
     "metadata": {},
     "output_type": "execute_result"
    }
   ],
   "source": [
    "df = pd.read_csv('data/Bakery2.csv')\n",
    "df"
   ]
  },
  {
   "cell_type": "code",
   "execution_count": 4,
   "metadata": {},
   "outputs": [],
   "source": [
    "def dt(x):\n",
    "    return x.split(' ')[0]\n",
    "df['date'] = df.DateTime.apply(dt)"
   ]
  },
  {
   "cell_type": "code",
   "execution_count": 6,
   "metadata": {},
   "outputs": [
    {
     "data": {
      "text/html": [
       "<div>\n",
       "<style scoped>\n",
       "    .dataframe tbody tr th:only-of-type {\n",
       "        vertical-align: middle;\n",
       "    }\n",
       "\n",
       "    .dataframe tbody tr th {\n",
       "        vertical-align: top;\n",
       "    }\n",
       "\n",
       "    .dataframe thead th {\n",
       "        text-align: right;\n",
       "    }\n",
       "</style>\n",
       "<table border=\"1\" class=\"dataframe\">\n",
       "  <thead>\n",
       "    <tr style=\"text-align: right;\">\n",
       "      <th></th>\n",
       "      <th>TransactionNo</th>\n",
       "      <th>Items</th>\n",
       "      <th>DateTime</th>\n",
       "      <th>Daypart</th>\n",
       "      <th>DayType</th>\n",
       "      <th>date</th>\n",
       "    </tr>\n",
       "  </thead>\n",
       "  <tbody>\n",
       "    <tr>\n",
       "      <th>0</th>\n",
       "      <td>1</td>\n",
       "      <td>Bread</td>\n",
       "      <td>2016-10-30 09:58:11</td>\n",
       "      <td>Morning</td>\n",
       "      <td>Weekend</td>\n",
       "      <td>2016-10-30</td>\n",
       "    </tr>\n",
       "    <tr>\n",
       "      <th>1</th>\n",
       "      <td>2</td>\n",
       "      <td>Scandinavian</td>\n",
       "      <td>2016-10-30 10:05:34</td>\n",
       "      <td>Morning</td>\n",
       "      <td>Weekend</td>\n",
       "      <td>2016-10-30</td>\n",
       "    </tr>\n",
       "    <tr>\n",
       "      <th>2</th>\n",
       "      <td>2</td>\n",
       "      <td>Scandinavian</td>\n",
       "      <td>2016-10-30 10:05:34</td>\n",
       "      <td>Morning</td>\n",
       "      <td>Weekend</td>\n",
       "      <td>2016-10-30</td>\n",
       "    </tr>\n",
       "    <tr>\n",
       "      <th>3</th>\n",
       "      <td>3</td>\n",
       "      <td>Hot chocolate</td>\n",
       "      <td>2016-10-30 10:07:57</td>\n",
       "      <td>Morning</td>\n",
       "      <td>Weekend</td>\n",
       "      <td>2016-10-30</td>\n",
       "    </tr>\n",
       "    <tr>\n",
       "      <th>4</th>\n",
       "      <td>3</td>\n",
       "      <td>Jam</td>\n",
       "      <td>2016-10-30 10:07:57</td>\n",
       "      <td>Morning</td>\n",
       "      <td>Weekend</td>\n",
       "      <td>2016-10-30</td>\n",
       "    </tr>\n",
       "    <tr>\n",
       "      <th>...</th>\n",
       "      <td>...</td>\n",
       "      <td>...</td>\n",
       "      <td>...</td>\n",
       "      <td>...</td>\n",
       "      <td>...</td>\n",
       "      <td>...</td>\n",
       "    </tr>\n",
       "    <tr>\n",
       "      <th>20502</th>\n",
       "      <td>9682</td>\n",
       "      <td>Coffee</td>\n",
       "      <td>2017-09-04 14:32:58</td>\n",
       "      <td>Afternoon</td>\n",
       "      <td>Weekend</td>\n",
       "      <td>2017-09-04</td>\n",
       "    </tr>\n",
       "    <tr>\n",
       "      <th>20503</th>\n",
       "      <td>9682</td>\n",
       "      <td>Tea</td>\n",
       "      <td>2017-09-04 14:32:58</td>\n",
       "      <td>Afternoon</td>\n",
       "      <td>Weekend</td>\n",
       "      <td>2017-09-04</td>\n",
       "    </tr>\n",
       "    <tr>\n",
       "      <th>20504</th>\n",
       "      <td>9683</td>\n",
       "      <td>Coffee</td>\n",
       "      <td>2017-09-04 14:57:06</td>\n",
       "      <td>Afternoon</td>\n",
       "      <td>Weekend</td>\n",
       "      <td>2017-09-04</td>\n",
       "    </tr>\n",
       "    <tr>\n",
       "      <th>20505</th>\n",
       "      <td>9683</td>\n",
       "      <td>Pastry</td>\n",
       "      <td>2017-09-04 14:57:06</td>\n",
       "      <td>Afternoon</td>\n",
       "      <td>Weekend</td>\n",
       "      <td>2017-09-04</td>\n",
       "    </tr>\n",
       "    <tr>\n",
       "      <th>20506</th>\n",
       "      <td>9684</td>\n",
       "      <td>Smoothies</td>\n",
       "      <td>2017-09-04 15:04:24</td>\n",
       "      <td>Afternoon</td>\n",
       "      <td>Weekend</td>\n",
       "      <td>2017-09-04</td>\n",
       "    </tr>\n",
       "  </tbody>\n",
       "</table>\n",
       "<p>20507 rows × 6 columns</p>\n",
       "</div>"
      ],
      "text/plain": [
       "       TransactionNo          Items             DateTime    Daypart  DayType  \\\n",
       "0                  1          Bread  2016-10-30 09:58:11    Morning  Weekend   \n",
       "1                  2   Scandinavian  2016-10-30 10:05:34    Morning  Weekend   \n",
       "2                  2   Scandinavian  2016-10-30 10:05:34    Morning  Weekend   \n",
       "3                  3  Hot chocolate  2016-10-30 10:07:57    Morning  Weekend   \n",
       "4                  3            Jam  2016-10-30 10:07:57    Morning  Weekend   \n",
       "...              ...            ...                  ...        ...      ...   \n",
       "20502           9682         Coffee  2017-09-04 14:32:58  Afternoon  Weekend   \n",
       "20503           9682            Tea  2017-09-04 14:32:58  Afternoon  Weekend   \n",
       "20504           9683         Coffee  2017-09-04 14:57:06  Afternoon  Weekend   \n",
       "20505           9683         Pastry  2017-09-04 14:57:06  Afternoon  Weekend   \n",
       "20506           9684      Smoothies  2017-09-04 15:04:24  Afternoon  Weekend   \n",
       "\n",
       "             date  \n",
       "0      2016-10-30  \n",
       "1      2016-10-30  \n",
       "2      2016-10-30  \n",
       "3      2016-10-30  \n",
       "4      2016-10-30  \n",
       "...           ...  \n",
       "20502  2017-09-04  \n",
       "20503  2017-09-04  \n",
       "20504  2017-09-04  \n",
       "20505  2017-09-04  \n",
       "20506  2017-09-04  \n",
       "\n",
       "[20507 rows x 6 columns]"
      ]
     },
     "execution_count": 6,
     "metadata": {},
     "output_type": "execute_result"
    }
   ],
   "source": [
    "df"
   ]
  },
  {
   "cell_type": "code",
   "execution_count": 7,
   "metadata": {},
   "outputs": [],
   "source": [
    "def time(x):\n",
    "    return x.split(' ')[1]\n",
    "df['time'] = df.DateTime.apply(time)"
   ]
  },
  {
   "cell_type": "code",
   "execution_count": 8,
   "metadata": {},
   "outputs": [
    {
     "data": {
      "text/html": [
       "<div>\n",
       "<style scoped>\n",
       "    .dataframe tbody tr th:only-of-type {\n",
       "        vertical-align: middle;\n",
       "    }\n",
       "\n",
       "    .dataframe tbody tr th {\n",
       "        vertical-align: top;\n",
       "    }\n",
       "\n",
       "    .dataframe thead th {\n",
       "        text-align: right;\n",
       "    }\n",
       "</style>\n",
       "<table border=\"1\" class=\"dataframe\">\n",
       "  <thead>\n",
       "    <tr style=\"text-align: right;\">\n",
       "      <th></th>\n",
       "      <th>TransactionNo</th>\n",
       "      <th>Items</th>\n",
       "      <th>DateTime</th>\n",
       "      <th>Daypart</th>\n",
       "      <th>DayType</th>\n",
       "      <th>date</th>\n",
       "      <th>time</th>\n",
       "    </tr>\n",
       "  </thead>\n",
       "  <tbody>\n",
       "    <tr>\n",
       "      <th>0</th>\n",
       "      <td>1</td>\n",
       "      <td>Bread</td>\n",
       "      <td>2016-10-30 09:58:11</td>\n",
       "      <td>Morning</td>\n",
       "      <td>Weekend</td>\n",
       "      <td>2016-10-30</td>\n",
       "      <td>09:58:11</td>\n",
       "    </tr>\n",
       "    <tr>\n",
       "      <th>1</th>\n",
       "      <td>2</td>\n",
       "      <td>Scandinavian</td>\n",
       "      <td>2016-10-30 10:05:34</td>\n",
       "      <td>Morning</td>\n",
       "      <td>Weekend</td>\n",
       "      <td>2016-10-30</td>\n",
       "      <td>10:05:34</td>\n",
       "    </tr>\n",
       "    <tr>\n",
       "      <th>2</th>\n",
       "      <td>2</td>\n",
       "      <td>Scandinavian</td>\n",
       "      <td>2016-10-30 10:05:34</td>\n",
       "      <td>Morning</td>\n",
       "      <td>Weekend</td>\n",
       "      <td>2016-10-30</td>\n",
       "      <td>10:05:34</td>\n",
       "    </tr>\n",
       "    <tr>\n",
       "      <th>3</th>\n",
       "      <td>3</td>\n",
       "      <td>Hot chocolate</td>\n",
       "      <td>2016-10-30 10:07:57</td>\n",
       "      <td>Morning</td>\n",
       "      <td>Weekend</td>\n",
       "      <td>2016-10-30</td>\n",
       "      <td>10:07:57</td>\n",
       "    </tr>\n",
       "    <tr>\n",
       "      <th>4</th>\n",
       "      <td>3</td>\n",
       "      <td>Jam</td>\n",
       "      <td>2016-10-30 10:07:57</td>\n",
       "      <td>Morning</td>\n",
       "      <td>Weekend</td>\n",
       "      <td>2016-10-30</td>\n",
       "      <td>10:07:57</td>\n",
       "    </tr>\n",
       "    <tr>\n",
       "      <th>...</th>\n",
       "      <td>...</td>\n",
       "      <td>...</td>\n",
       "      <td>...</td>\n",
       "      <td>...</td>\n",
       "      <td>...</td>\n",
       "      <td>...</td>\n",
       "      <td>...</td>\n",
       "    </tr>\n",
       "    <tr>\n",
       "      <th>20502</th>\n",
       "      <td>9682</td>\n",
       "      <td>Coffee</td>\n",
       "      <td>2017-09-04 14:32:58</td>\n",
       "      <td>Afternoon</td>\n",
       "      <td>Weekend</td>\n",
       "      <td>2017-09-04</td>\n",
       "      <td>14:32:58</td>\n",
       "    </tr>\n",
       "    <tr>\n",
       "      <th>20503</th>\n",
       "      <td>9682</td>\n",
       "      <td>Tea</td>\n",
       "      <td>2017-09-04 14:32:58</td>\n",
       "      <td>Afternoon</td>\n",
       "      <td>Weekend</td>\n",
       "      <td>2017-09-04</td>\n",
       "      <td>14:32:58</td>\n",
       "    </tr>\n",
       "    <tr>\n",
       "      <th>20504</th>\n",
       "      <td>9683</td>\n",
       "      <td>Coffee</td>\n",
       "      <td>2017-09-04 14:57:06</td>\n",
       "      <td>Afternoon</td>\n",
       "      <td>Weekend</td>\n",
       "      <td>2017-09-04</td>\n",
       "      <td>14:57:06</td>\n",
       "    </tr>\n",
       "    <tr>\n",
       "      <th>20505</th>\n",
       "      <td>9683</td>\n",
       "      <td>Pastry</td>\n",
       "      <td>2017-09-04 14:57:06</td>\n",
       "      <td>Afternoon</td>\n",
       "      <td>Weekend</td>\n",
       "      <td>2017-09-04</td>\n",
       "      <td>14:57:06</td>\n",
       "    </tr>\n",
       "    <tr>\n",
       "      <th>20506</th>\n",
       "      <td>9684</td>\n",
       "      <td>Smoothies</td>\n",
       "      <td>2017-09-04 15:04:24</td>\n",
       "      <td>Afternoon</td>\n",
       "      <td>Weekend</td>\n",
       "      <td>2017-09-04</td>\n",
       "      <td>15:04:24</td>\n",
       "    </tr>\n",
       "  </tbody>\n",
       "</table>\n",
       "<p>20507 rows × 7 columns</p>\n",
       "</div>"
      ],
      "text/plain": [
       "       TransactionNo          Items             DateTime    Daypart  DayType  \\\n",
       "0                  1          Bread  2016-10-30 09:58:11    Morning  Weekend   \n",
       "1                  2   Scandinavian  2016-10-30 10:05:34    Morning  Weekend   \n",
       "2                  2   Scandinavian  2016-10-30 10:05:34    Morning  Weekend   \n",
       "3                  3  Hot chocolate  2016-10-30 10:07:57    Morning  Weekend   \n",
       "4                  3            Jam  2016-10-30 10:07:57    Morning  Weekend   \n",
       "...              ...            ...                  ...        ...      ...   \n",
       "20502           9682         Coffee  2017-09-04 14:32:58  Afternoon  Weekend   \n",
       "20503           9682            Tea  2017-09-04 14:32:58  Afternoon  Weekend   \n",
       "20504           9683         Coffee  2017-09-04 14:57:06  Afternoon  Weekend   \n",
       "20505           9683         Pastry  2017-09-04 14:57:06  Afternoon  Weekend   \n",
       "20506           9684      Smoothies  2017-09-04 15:04:24  Afternoon  Weekend   \n",
       "\n",
       "             date      time  \n",
       "0      2016-10-30  09:58:11  \n",
       "1      2016-10-30  10:05:34  \n",
       "2      2016-10-30  10:05:34  \n",
       "3      2016-10-30  10:07:57  \n",
       "4      2016-10-30  10:07:57  \n",
       "...           ...       ...  \n",
       "20502  2017-09-04  14:32:58  \n",
       "20503  2017-09-04  14:32:58  \n",
       "20504  2017-09-04  14:57:06  \n",
       "20505  2017-09-04  14:57:06  \n",
       "20506  2017-09-04  15:04:24  \n",
       "\n",
       "[20507 rows x 7 columns]"
      ]
     },
     "execution_count": 8,
     "metadata": {},
     "output_type": "execute_result"
    }
   ],
   "source": [
    "df"
   ]
  },
  {
   "cell_type": "code",
   "execution_count": 16,
   "metadata": {},
   "outputs": [],
   "source": [
    "df.to_csv('data/Bakery.csv')"
   ]
  },
  {
   "cell_type": "code",
   "execution_count": 4,
   "metadata": {},
   "outputs": [
    {
     "data": {
      "text/plain": [
       "94"
      ]
     },
     "execution_count": 4,
     "metadata": {},
     "output_type": "execute_result"
    }
   ],
   "source": [
    "len(df.Items.unique())"
   ]
  },
  {
   "cell_type": "code",
   "execution_count": 14,
   "metadata": {},
   "outputs": [],
   "source": [
    "ser_items_grouped = df.groupby(['Items']).size().sort_values(ascending=False)\n",
    "top_10_items = ser_items_grouped[:10]\n",
    "rest_items = ser_items_grouped[10:]"
   ]
  },
  {
   "cell_type": "code",
   "execution_count": 11,
   "metadata": {},
   "outputs": [
    {
     "data": {
      "application/vnd.plotly.v1+json": {
       "config": {
        "plotlyServerURL": "https://plot.ly"
       },
       "data": [
        {
         "alignmentgroup": "True",
         "cliponaxis": false,
         "hovertemplate": "index=%{x}<br>y=%{y}<extra></extra>",
         "legendgroup": "",
         "marker": {
          "color": "#636efa",
          "pattern": {
           "shape": ""
          }
         },
         "name": "",
         "offsetgroup": "",
         "orientation": "v",
         "showlegend": false,
         "textangle": 0,
         "textfont": {
          "size": 12
         },
         "textposition": "outside",
         "texttemplate": "%{y:.2s}",
         "type": "bar",
         "x": [
          "Coffee",
          "Bread",
          "Tea",
          "Cake",
          "Pastry",
          "Sandwich",
          "Medialuna",
          "Hot chocolate",
          "Cookies",
          "Brownie"
         ],
         "xaxis": "x",
         "y": [
          5471,
          3325,
          1435,
          1025,
          856,
          771,
          616,
          590,
          540,
          379
         ],
         "yaxis": "y"
        }
       ],
       "layout": {
        "barmode": "relative",
        "legend": {
         "tracegroupgap": 0
        },
        "template": {
         "data": {
          "bar": [
           {
            "error_x": {
             "color": "#2a3f5f"
            },
            "error_y": {
             "color": "#2a3f5f"
            },
            "marker": {
             "line": {
              "color": "#E5ECF6",
              "width": 0.5
             },
             "pattern": {
              "fillmode": "overlay",
              "size": 10,
              "solidity": 0.2
             }
            },
            "type": "bar"
           }
          ],
          "barpolar": [
           {
            "marker": {
             "line": {
              "color": "#E5ECF6",
              "width": 0.5
             },
             "pattern": {
              "fillmode": "overlay",
              "size": 10,
              "solidity": 0.2
             }
            },
            "type": "barpolar"
           }
          ],
          "carpet": [
           {
            "aaxis": {
             "endlinecolor": "#2a3f5f",
             "gridcolor": "white",
             "linecolor": "white",
             "minorgridcolor": "white",
             "startlinecolor": "#2a3f5f"
            },
            "baxis": {
             "endlinecolor": "#2a3f5f",
             "gridcolor": "white",
             "linecolor": "white",
             "minorgridcolor": "white",
             "startlinecolor": "#2a3f5f"
            },
            "type": "carpet"
           }
          ],
          "choropleth": [
           {
            "colorbar": {
             "outlinewidth": 0,
             "ticks": ""
            },
            "type": "choropleth"
           }
          ],
          "contour": [
           {
            "colorbar": {
             "outlinewidth": 0,
             "ticks": ""
            },
            "colorscale": [
             [
              0,
              "#0d0887"
             ],
             [
              0.1111111111111111,
              "#46039f"
             ],
             [
              0.2222222222222222,
              "#7201a8"
             ],
             [
              0.3333333333333333,
              "#9c179e"
             ],
             [
              0.4444444444444444,
              "#bd3786"
             ],
             [
              0.5555555555555556,
              "#d8576b"
             ],
             [
              0.6666666666666666,
              "#ed7953"
             ],
             [
              0.7777777777777778,
              "#fb9f3a"
             ],
             [
              0.8888888888888888,
              "#fdca26"
             ],
             [
              1,
              "#f0f921"
             ]
            ],
            "type": "contour"
           }
          ],
          "contourcarpet": [
           {
            "colorbar": {
             "outlinewidth": 0,
             "ticks": ""
            },
            "type": "contourcarpet"
           }
          ],
          "heatmap": [
           {
            "colorbar": {
             "outlinewidth": 0,
             "ticks": ""
            },
            "colorscale": [
             [
              0,
              "#0d0887"
             ],
             [
              0.1111111111111111,
              "#46039f"
             ],
             [
              0.2222222222222222,
              "#7201a8"
             ],
             [
              0.3333333333333333,
              "#9c179e"
             ],
             [
              0.4444444444444444,
              "#bd3786"
             ],
             [
              0.5555555555555556,
              "#d8576b"
             ],
             [
              0.6666666666666666,
              "#ed7953"
             ],
             [
              0.7777777777777778,
              "#fb9f3a"
             ],
             [
              0.8888888888888888,
              "#fdca26"
             ],
             [
              1,
              "#f0f921"
             ]
            ],
            "type": "heatmap"
           }
          ],
          "heatmapgl": [
           {
            "colorbar": {
             "outlinewidth": 0,
             "ticks": ""
            },
            "colorscale": [
             [
              0,
              "#0d0887"
             ],
             [
              0.1111111111111111,
              "#46039f"
             ],
             [
              0.2222222222222222,
              "#7201a8"
             ],
             [
              0.3333333333333333,
              "#9c179e"
             ],
             [
              0.4444444444444444,
              "#bd3786"
             ],
             [
              0.5555555555555556,
              "#d8576b"
             ],
             [
              0.6666666666666666,
              "#ed7953"
             ],
             [
              0.7777777777777778,
              "#fb9f3a"
             ],
             [
              0.8888888888888888,
              "#fdca26"
             ],
             [
              1,
              "#f0f921"
             ]
            ],
            "type": "heatmapgl"
           }
          ],
          "histogram": [
           {
            "marker": {
             "pattern": {
              "fillmode": "overlay",
              "size": 10,
              "solidity": 0.2
             }
            },
            "type": "histogram"
           }
          ],
          "histogram2d": [
           {
            "colorbar": {
             "outlinewidth": 0,
             "ticks": ""
            },
            "colorscale": [
             [
              0,
              "#0d0887"
             ],
             [
              0.1111111111111111,
              "#46039f"
             ],
             [
              0.2222222222222222,
              "#7201a8"
             ],
             [
              0.3333333333333333,
              "#9c179e"
             ],
             [
              0.4444444444444444,
              "#bd3786"
             ],
             [
              0.5555555555555556,
              "#d8576b"
             ],
             [
              0.6666666666666666,
              "#ed7953"
             ],
             [
              0.7777777777777778,
              "#fb9f3a"
             ],
             [
              0.8888888888888888,
              "#fdca26"
             ],
             [
              1,
              "#f0f921"
             ]
            ],
            "type": "histogram2d"
           }
          ],
          "histogram2dcontour": [
           {
            "colorbar": {
             "outlinewidth": 0,
             "ticks": ""
            },
            "colorscale": [
             [
              0,
              "#0d0887"
             ],
             [
              0.1111111111111111,
              "#46039f"
             ],
             [
              0.2222222222222222,
              "#7201a8"
             ],
             [
              0.3333333333333333,
              "#9c179e"
             ],
             [
              0.4444444444444444,
              "#bd3786"
             ],
             [
              0.5555555555555556,
              "#d8576b"
             ],
             [
              0.6666666666666666,
              "#ed7953"
             ],
             [
              0.7777777777777778,
              "#fb9f3a"
             ],
             [
              0.8888888888888888,
              "#fdca26"
             ],
             [
              1,
              "#f0f921"
             ]
            ],
            "type": "histogram2dcontour"
           }
          ],
          "mesh3d": [
           {
            "colorbar": {
             "outlinewidth": 0,
             "ticks": ""
            },
            "type": "mesh3d"
           }
          ],
          "parcoords": [
           {
            "line": {
             "colorbar": {
              "outlinewidth": 0,
              "ticks": ""
             }
            },
            "type": "parcoords"
           }
          ],
          "pie": [
           {
            "automargin": true,
            "type": "pie"
           }
          ],
          "scatter": [
           {
            "fillpattern": {
             "fillmode": "overlay",
             "size": 10,
             "solidity": 0.2
            },
            "type": "scatter"
           }
          ],
          "scatter3d": [
           {
            "line": {
             "colorbar": {
              "outlinewidth": 0,
              "ticks": ""
             }
            },
            "marker": {
             "colorbar": {
              "outlinewidth": 0,
              "ticks": ""
             }
            },
            "type": "scatter3d"
           }
          ],
          "scattercarpet": [
           {
            "marker": {
             "colorbar": {
              "outlinewidth": 0,
              "ticks": ""
             }
            },
            "type": "scattercarpet"
           }
          ],
          "scattergeo": [
           {
            "marker": {
             "colorbar": {
              "outlinewidth": 0,
              "ticks": ""
             }
            },
            "type": "scattergeo"
           }
          ],
          "scattergl": [
           {
            "marker": {
             "colorbar": {
              "outlinewidth": 0,
              "ticks": ""
             }
            },
            "type": "scattergl"
           }
          ],
          "scattermapbox": [
           {
            "marker": {
             "colorbar": {
              "outlinewidth": 0,
              "ticks": ""
             }
            },
            "type": "scattermapbox"
           }
          ],
          "scatterpolar": [
           {
            "marker": {
             "colorbar": {
              "outlinewidth": 0,
              "ticks": ""
             }
            },
            "type": "scatterpolar"
           }
          ],
          "scatterpolargl": [
           {
            "marker": {
             "colorbar": {
              "outlinewidth": 0,
              "ticks": ""
             }
            },
            "type": "scatterpolargl"
           }
          ],
          "scatterternary": [
           {
            "marker": {
             "colorbar": {
              "outlinewidth": 0,
              "ticks": ""
             }
            },
            "type": "scatterternary"
           }
          ],
          "surface": [
           {
            "colorbar": {
             "outlinewidth": 0,
             "ticks": ""
            },
            "colorscale": [
             [
              0,
              "#0d0887"
             ],
             [
              0.1111111111111111,
              "#46039f"
             ],
             [
              0.2222222222222222,
              "#7201a8"
             ],
             [
              0.3333333333333333,
              "#9c179e"
             ],
             [
              0.4444444444444444,
              "#bd3786"
             ],
             [
              0.5555555555555556,
              "#d8576b"
             ],
             [
              0.6666666666666666,
              "#ed7953"
             ],
             [
              0.7777777777777778,
              "#fb9f3a"
             ],
             [
              0.8888888888888888,
              "#fdca26"
             ],
             [
              1,
              "#f0f921"
             ]
            ],
            "type": "surface"
           }
          ],
          "table": [
           {
            "cells": {
             "fill": {
              "color": "#EBF0F8"
             },
             "line": {
              "color": "white"
             }
            },
            "header": {
             "fill": {
              "color": "#C8D4E3"
             },
             "line": {
              "color": "white"
             }
            },
            "type": "table"
           }
          ]
         },
         "layout": {
          "annotationdefaults": {
           "arrowcolor": "#2a3f5f",
           "arrowhead": 0,
           "arrowwidth": 1
          },
          "autotypenumbers": "strict",
          "coloraxis": {
           "colorbar": {
            "outlinewidth": 0,
            "ticks": ""
           }
          },
          "colorscale": {
           "diverging": [
            [
             0,
             "#8e0152"
            ],
            [
             0.1,
             "#c51b7d"
            ],
            [
             0.2,
             "#de77ae"
            ],
            [
             0.3,
             "#f1b6da"
            ],
            [
             0.4,
             "#fde0ef"
            ],
            [
             0.5,
             "#f7f7f7"
            ],
            [
             0.6,
             "#e6f5d0"
            ],
            [
             0.7,
             "#b8e186"
            ],
            [
             0.8,
             "#7fbc41"
            ],
            [
             0.9,
             "#4d9221"
            ],
            [
             1,
             "#276419"
            ]
           ],
           "sequential": [
            [
             0,
             "#0d0887"
            ],
            [
             0.1111111111111111,
             "#46039f"
            ],
            [
             0.2222222222222222,
             "#7201a8"
            ],
            [
             0.3333333333333333,
             "#9c179e"
            ],
            [
             0.4444444444444444,
             "#bd3786"
            ],
            [
             0.5555555555555556,
             "#d8576b"
            ],
            [
             0.6666666666666666,
             "#ed7953"
            ],
            [
             0.7777777777777778,
             "#fb9f3a"
            ],
            [
             0.8888888888888888,
             "#fdca26"
            ],
            [
             1,
             "#f0f921"
            ]
           ],
           "sequentialminus": [
            [
             0,
             "#0d0887"
            ],
            [
             0.1111111111111111,
             "#46039f"
            ],
            [
             0.2222222222222222,
             "#7201a8"
            ],
            [
             0.3333333333333333,
             "#9c179e"
            ],
            [
             0.4444444444444444,
             "#bd3786"
            ],
            [
             0.5555555555555556,
             "#d8576b"
            ],
            [
             0.6666666666666666,
             "#ed7953"
            ],
            [
             0.7777777777777778,
             "#fb9f3a"
            ],
            [
             0.8888888888888888,
             "#fdca26"
            ],
            [
             1,
             "#f0f921"
            ]
           ]
          },
          "colorway": [
           "#636efa",
           "#EF553B",
           "#00cc96",
           "#ab63fa",
           "#FFA15A",
           "#19d3f3",
           "#FF6692",
           "#B6E880",
           "#FF97FF",
           "#FECB52"
          ],
          "font": {
           "color": "#2a3f5f"
          },
          "geo": {
           "bgcolor": "white",
           "lakecolor": "white",
           "landcolor": "#E5ECF6",
           "showlakes": true,
           "showland": true,
           "subunitcolor": "white"
          },
          "hoverlabel": {
           "align": "left"
          },
          "hovermode": "closest",
          "mapbox": {
           "style": "light"
          },
          "paper_bgcolor": "white",
          "plot_bgcolor": "#E5ECF6",
          "polar": {
           "angularaxis": {
            "gridcolor": "white",
            "linecolor": "white",
            "ticks": ""
           },
           "bgcolor": "#E5ECF6",
           "radialaxis": {
            "gridcolor": "white",
            "linecolor": "white",
            "ticks": ""
           }
          },
          "scene": {
           "xaxis": {
            "backgroundcolor": "#E5ECF6",
            "gridcolor": "white",
            "gridwidth": 2,
            "linecolor": "white",
            "showbackground": true,
            "ticks": "",
            "zerolinecolor": "white"
           },
           "yaxis": {
            "backgroundcolor": "#E5ECF6",
            "gridcolor": "white",
            "gridwidth": 2,
            "linecolor": "white",
            "showbackground": true,
            "ticks": "",
            "zerolinecolor": "white"
           },
           "zaxis": {
            "backgroundcolor": "#E5ECF6",
            "gridcolor": "white",
            "gridwidth": 2,
            "linecolor": "white",
            "showbackground": true,
            "ticks": "",
            "zerolinecolor": "white"
           }
          },
          "shapedefaults": {
           "line": {
            "color": "#2a3f5f"
           }
          },
          "ternary": {
           "aaxis": {
            "gridcolor": "white",
            "linecolor": "white",
            "ticks": ""
           },
           "baxis": {
            "gridcolor": "white",
            "linecolor": "white",
            "ticks": ""
           },
           "bgcolor": "#E5ECF6",
           "caxis": {
            "gridcolor": "white",
            "linecolor": "white",
            "ticks": ""
           }
          },
          "title": {
           "x": 0.05
          },
          "xaxis": {
           "automargin": true,
           "gridcolor": "white",
           "linecolor": "white",
           "ticks": "",
           "title": {
            "standoff": 15
           },
           "zerolinecolor": "white",
           "zerolinewidth": 2
          },
          "yaxis": {
           "automargin": true,
           "gridcolor": "white",
           "linecolor": "white",
           "ticks": "",
           "title": {
            "standoff": 15
           },
           "zerolinecolor": "white",
           "zerolinewidth": 2
          }
         }
        },
        "title": {
         "text": "Top 10 Sold Items"
        },
        "xaxis": {
         "anchor": "y",
         "domain": [
          0,
          1
         ],
         "title": {
          "text": "index"
         }
        },
        "yaxis": {
         "anchor": "x",
         "domain": [
          0,
          1
         ],
         "title": {
          "text": "y"
         }
        }
       }
      }
     },
     "metadata": {},
     "output_type": "display_data"
    }
   ],
   "source": [
    "import plotly.express as px\n",
    "\n",
    "fig = px.bar(top_10_items, x=top_10_items.index, y=top_10_items.values, text_auto='.2s',\n",
    "            title=\"Top 10 Sold Items\")\n",
    "fig.update_traces(textfont_size=12, textangle=0, textposition=\"outside\", cliponaxis=False)\n",
    "fig.show()"
   ]
  },
  {
   "cell_type": "code",
   "execution_count": 12,
   "metadata": {},
   "outputs": [
    {
     "data": {
      "application/vnd.plotly.v1+json": {
       "config": {
        "plotlyServerURL": "https://plot.ly"
       },
       "data": [
        {
         "alignmentgroup": "True",
         "cliponaxis": false,
         "hovertemplate": "index=%{x}<br>y=%{y}<extra></extra>",
         "legendgroup": "",
         "marker": {
          "color": "#636efa",
          "pattern": {
           "shape": ""
          }
         },
         "name": "",
         "offsetgroup": "",
         "orientation": "v",
         "showlegend": false,
         "textangle": 0,
         "textfont": {
          "size": 12
         },
         "textposition": "outside",
         "texttemplate": "%{y:.2s}",
         "type": "bar",
         "x": [
          "Farm House",
          "Muffin",
          "Juice",
          "Alfajores",
          "Soup",
          "Scone",
          "Toast",
          "Scandinavian",
          "Truffles",
          "Coke",
          "Spanish Brunch",
          "Fudge",
          "Baguette",
          "Jam",
          "Tiffin",
          "Mineral water",
          "Jammie Dodgers",
          "Chicken Stew",
          "Hearty & Seasonal",
          "Salad",
          "Frittata",
          "Smoothies",
          "Keeping It Local",
          "The Nomad",
          "Vegan mincepie",
          "Focaccia",
          "Bakewell",
          "Tartine",
          "Afternoon with the baker",
          "Extra Salami or Feta",
          "Art Tray",
          "Eggs",
          "Granola",
          "Tshirt",
          "My-5 Fruit Shoot",
          "Ella's Kitchen Pouches",
          "Vegan Feast",
          "Crisps",
          "Valentine's card",
          "Dulce de Leche",
          "Kids biscuit",
          "Pick and Mix Bowls",
          "Duck egg",
          "Mighty Protein",
          "Tacos/Fajita",
          "Christmas common",
          "Chocolates",
          "Postcard",
          "Gingerbread syrup",
          "Drinking chocolate spoons ",
          "Muesli",
          "Nomad bag",
          "Empanadas",
          "Coffee granules ",
          "Argentina Night",
          "Victorian Sponge",
          "Pintxos",
          "Honey",
          "Crepes",
          "Basket",
          "Lemon and coconut",
          "Half slice Monster ",
          "Bare Popcorn",
          "Mortimer",
          "Panatone",
          "Bread Pudding",
          "Cherry me Dried fruit",
          "Caramel bites",
          "Brioche and salami",
          "Raspberry shortbread sandwich",
          "Fairy Doors",
          "Spread",
          "Siblings",
          "Chimichurri Oil",
          "Bowl Nic Pitt",
          "Hack the stack",
          "Bacon",
          "Polenta",
          "The BART",
          "Chicken sand",
          "Gift voucher",
          "Olum & polenta",
          "Raw bars",
          "Adjustment"
         ],
         "xaxis": "x",
         "y": [
          374,
          370,
          369,
          369,
          342,
          327,
          318,
          277,
          193,
          185,
          172,
          159,
          152,
          149,
          146,
          136,
          125,
          123,
          107,
          99,
          81,
          77,
          63,
          58,
          54,
          54,
          48,
          47,
          44,
          38,
          38,
          28,
          28,
          21,
          18,
          17,
          16,
          14,
          13,
          13,
          12,
          12,
          12,
          11,
          11,
          11,
          10,
          10,
          9,
          8,
          8,
          8,
          7,
          7,
          7,
          7,
          6,
          6,
          6,
          6,
          6,
          6,
          5,
          5,
          5,
          4,
          3,
          3,
          3,
          3,
          2,
          2,
          2,
          2,
          2,
          2,
          1,
          1,
          1,
          1,
          1,
          1,
          1,
          1
         ],
         "yaxis": "y"
        }
       ],
       "layout": {
        "barmode": "relative",
        "legend": {
         "tracegroupgap": 0
        },
        "template": {
         "data": {
          "bar": [
           {
            "error_x": {
             "color": "#2a3f5f"
            },
            "error_y": {
             "color": "#2a3f5f"
            },
            "marker": {
             "line": {
              "color": "#E5ECF6",
              "width": 0.5
             },
             "pattern": {
              "fillmode": "overlay",
              "size": 10,
              "solidity": 0.2
             }
            },
            "type": "bar"
           }
          ],
          "barpolar": [
           {
            "marker": {
             "line": {
              "color": "#E5ECF6",
              "width": 0.5
             },
             "pattern": {
              "fillmode": "overlay",
              "size": 10,
              "solidity": 0.2
             }
            },
            "type": "barpolar"
           }
          ],
          "carpet": [
           {
            "aaxis": {
             "endlinecolor": "#2a3f5f",
             "gridcolor": "white",
             "linecolor": "white",
             "minorgridcolor": "white",
             "startlinecolor": "#2a3f5f"
            },
            "baxis": {
             "endlinecolor": "#2a3f5f",
             "gridcolor": "white",
             "linecolor": "white",
             "minorgridcolor": "white",
             "startlinecolor": "#2a3f5f"
            },
            "type": "carpet"
           }
          ],
          "choropleth": [
           {
            "colorbar": {
             "outlinewidth": 0,
             "ticks": ""
            },
            "type": "choropleth"
           }
          ],
          "contour": [
           {
            "colorbar": {
             "outlinewidth": 0,
             "ticks": ""
            },
            "colorscale": [
             [
              0,
              "#0d0887"
             ],
             [
              0.1111111111111111,
              "#46039f"
             ],
             [
              0.2222222222222222,
              "#7201a8"
             ],
             [
              0.3333333333333333,
              "#9c179e"
             ],
             [
              0.4444444444444444,
              "#bd3786"
             ],
             [
              0.5555555555555556,
              "#d8576b"
             ],
             [
              0.6666666666666666,
              "#ed7953"
             ],
             [
              0.7777777777777778,
              "#fb9f3a"
             ],
             [
              0.8888888888888888,
              "#fdca26"
             ],
             [
              1,
              "#f0f921"
             ]
            ],
            "type": "contour"
           }
          ],
          "contourcarpet": [
           {
            "colorbar": {
             "outlinewidth": 0,
             "ticks": ""
            },
            "type": "contourcarpet"
           }
          ],
          "heatmap": [
           {
            "colorbar": {
             "outlinewidth": 0,
             "ticks": ""
            },
            "colorscale": [
             [
              0,
              "#0d0887"
             ],
             [
              0.1111111111111111,
              "#46039f"
             ],
             [
              0.2222222222222222,
              "#7201a8"
             ],
             [
              0.3333333333333333,
              "#9c179e"
             ],
             [
              0.4444444444444444,
              "#bd3786"
             ],
             [
              0.5555555555555556,
              "#d8576b"
             ],
             [
              0.6666666666666666,
              "#ed7953"
             ],
             [
              0.7777777777777778,
              "#fb9f3a"
             ],
             [
              0.8888888888888888,
              "#fdca26"
             ],
             [
              1,
              "#f0f921"
             ]
            ],
            "type": "heatmap"
           }
          ],
          "heatmapgl": [
           {
            "colorbar": {
             "outlinewidth": 0,
             "ticks": ""
            },
            "colorscale": [
             [
              0,
              "#0d0887"
             ],
             [
              0.1111111111111111,
              "#46039f"
             ],
             [
              0.2222222222222222,
              "#7201a8"
             ],
             [
              0.3333333333333333,
              "#9c179e"
             ],
             [
              0.4444444444444444,
              "#bd3786"
             ],
             [
              0.5555555555555556,
              "#d8576b"
             ],
             [
              0.6666666666666666,
              "#ed7953"
             ],
             [
              0.7777777777777778,
              "#fb9f3a"
             ],
             [
              0.8888888888888888,
              "#fdca26"
             ],
             [
              1,
              "#f0f921"
             ]
            ],
            "type": "heatmapgl"
           }
          ],
          "histogram": [
           {
            "marker": {
             "pattern": {
              "fillmode": "overlay",
              "size": 10,
              "solidity": 0.2
             }
            },
            "type": "histogram"
           }
          ],
          "histogram2d": [
           {
            "colorbar": {
             "outlinewidth": 0,
             "ticks": ""
            },
            "colorscale": [
             [
              0,
              "#0d0887"
             ],
             [
              0.1111111111111111,
              "#46039f"
             ],
             [
              0.2222222222222222,
              "#7201a8"
             ],
             [
              0.3333333333333333,
              "#9c179e"
             ],
             [
              0.4444444444444444,
              "#bd3786"
             ],
             [
              0.5555555555555556,
              "#d8576b"
             ],
             [
              0.6666666666666666,
              "#ed7953"
             ],
             [
              0.7777777777777778,
              "#fb9f3a"
             ],
             [
              0.8888888888888888,
              "#fdca26"
             ],
             [
              1,
              "#f0f921"
             ]
            ],
            "type": "histogram2d"
           }
          ],
          "histogram2dcontour": [
           {
            "colorbar": {
             "outlinewidth": 0,
             "ticks": ""
            },
            "colorscale": [
             [
              0,
              "#0d0887"
             ],
             [
              0.1111111111111111,
              "#46039f"
             ],
             [
              0.2222222222222222,
              "#7201a8"
             ],
             [
              0.3333333333333333,
              "#9c179e"
             ],
             [
              0.4444444444444444,
              "#bd3786"
             ],
             [
              0.5555555555555556,
              "#d8576b"
             ],
             [
              0.6666666666666666,
              "#ed7953"
             ],
             [
              0.7777777777777778,
              "#fb9f3a"
             ],
             [
              0.8888888888888888,
              "#fdca26"
             ],
             [
              1,
              "#f0f921"
             ]
            ],
            "type": "histogram2dcontour"
           }
          ],
          "mesh3d": [
           {
            "colorbar": {
             "outlinewidth": 0,
             "ticks": ""
            },
            "type": "mesh3d"
           }
          ],
          "parcoords": [
           {
            "line": {
             "colorbar": {
              "outlinewidth": 0,
              "ticks": ""
             }
            },
            "type": "parcoords"
           }
          ],
          "pie": [
           {
            "automargin": true,
            "type": "pie"
           }
          ],
          "scatter": [
           {
            "fillpattern": {
             "fillmode": "overlay",
             "size": 10,
             "solidity": 0.2
            },
            "type": "scatter"
           }
          ],
          "scatter3d": [
           {
            "line": {
             "colorbar": {
              "outlinewidth": 0,
              "ticks": ""
             }
            },
            "marker": {
             "colorbar": {
              "outlinewidth": 0,
              "ticks": ""
             }
            },
            "type": "scatter3d"
           }
          ],
          "scattercarpet": [
           {
            "marker": {
             "colorbar": {
              "outlinewidth": 0,
              "ticks": ""
             }
            },
            "type": "scattercarpet"
           }
          ],
          "scattergeo": [
           {
            "marker": {
             "colorbar": {
              "outlinewidth": 0,
              "ticks": ""
             }
            },
            "type": "scattergeo"
           }
          ],
          "scattergl": [
           {
            "marker": {
             "colorbar": {
              "outlinewidth": 0,
              "ticks": ""
             }
            },
            "type": "scattergl"
           }
          ],
          "scattermapbox": [
           {
            "marker": {
             "colorbar": {
              "outlinewidth": 0,
              "ticks": ""
             }
            },
            "type": "scattermapbox"
           }
          ],
          "scatterpolar": [
           {
            "marker": {
             "colorbar": {
              "outlinewidth": 0,
              "ticks": ""
             }
            },
            "type": "scatterpolar"
           }
          ],
          "scatterpolargl": [
           {
            "marker": {
             "colorbar": {
              "outlinewidth": 0,
              "ticks": ""
             }
            },
            "type": "scatterpolargl"
           }
          ],
          "scatterternary": [
           {
            "marker": {
             "colorbar": {
              "outlinewidth": 0,
              "ticks": ""
             }
            },
            "type": "scatterternary"
           }
          ],
          "surface": [
           {
            "colorbar": {
             "outlinewidth": 0,
             "ticks": ""
            },
            "colorscale": [
             [
              0,
              "#0d0887"
             ],
             [
              0.1111111111111111,
              "#46039f"
             ],
             [
              0.2222222222222222,
              "#7201a8"
             ],
             [
              0.3333333333333333,
              "#9c179e"
             ],
             [
              0.4444444444444444,
              "#bd3786"
             ],
             [
              0.5555555555555556,
              "#d8576b"
             ],
             [
              0.6666666666666666,
              "#ed7953"
             ],
             [
              0.7777777777777778,
              "#fb9f3a"
             ],
             [
              0.8888888888888888,
              "#fdca26"
             ],
             [
              1,
              "#f0f921"
             ]
            ],
            "type": "surface"
           }
          ],
          "table": [
           {
            "cells": {
             "fill": {
              "color": "#EBF0F8"
             },
             "line": {
              "color": "white"
             }
            },
            "header": {
             "fill": {
              "color": "#C8D4E3"
             },
             "line": {
              "color": "white"
             }
            },
            "type": "table"
           }
          ]
         },
         "layout": {
          "annotationdefaults": {
           "arrowcolor": "#2a3f5f",
           "arrowhead": 0,
           "arrowwidth": 1
          },
          "autotypenumbers": "strict",
          "coloraxis": {
           "colorbar": {
            "outlinewidth": 0,
            "ticks": ""
           }
          },
          "colorscale": {
           "diverging": [
            [
             0,
             "#8e0152"
            ],
            [
             0.1,
             "#c51b7d"
            ],
            [
             0.2,
             "#de77ae"
            ],
            [
             0.3,
             "#f1b6da"
            ],
            [
             0.4,
             "#fde0ef"
            ],
            [
             0.5,
             "#f7f7f7"
            ],
            [
             0.6,
             "#e6f5d0"
            ],
            [
             0.7,
             "#b8e186"
            ],
            [
             0.8,
             "#7fbc41"
            ],
            [
             0.9,
             "#4d9221"
            ],
            [
             1,
             "#276419"
            ]
           ],
           "sequential": [
            [
             0,
             "#0d0887"
            ],
            [
             0.1111111111111111,
             "#46039f"
            ],
            [
             0.2222222222222222,
             "#7201a8"
            ],
            [
             0.3333333333333333,
             "#9c179e"
            ],
            [
             0.4444444444444444,
             "#bd3786"
            ],
            [
             0.5555555555555556,
             "#d8576b"
            ],
            [
             0.6666666666666666,
             "#ed7953"
            ],
            [
             0.7777777777777778,
             "#fb9f3a"
            ],
            [
             0.8888888888888888,
             "#fdca26"
            ],
            [
             1,
             "#f0f921"
            ]
           ],
           "sequentialminus": [
            [
             0,
             "#0d0887"
            ],
            [
             0.1111111111111111,
             "#46039f"
            ],
            [
             0.2222222222222222,
             "#7201a8"
            ],
            [
             0.3333333333333333,
             "#9c179e"
            ],
            [
             0.4444444444444444,
             "#bd3786"
            ],
            [
             0.5555555555555556,
             "#d8576b"
            ],
            [
             0.6666666666666666,
             "#ed7953"
            ],
            [
             0.7777777777777778,
             "#fb9f3a"
            ],
            [
             0.8888888888888888,
             "#fdca26"
            ],
            [
             1,
             "#f0f921"
            ]
           ]
          },
          "colorway": [
           "#636efa",
           "#EF553B",
           "#00cc96",
           "#ab63fa",
           "#FFA15A",
           "#19d3f3",
           "#FF6692",
           "#B6E880",
           "#FF97FF",
           "#FECB52"
          ],
          "font": {
           "color": "#2a3f5f"
          },
          "geo": {
           "bgcolor": "white",
           "lakecolor": "white",
           "landcolor": "#E5ECF6",
           "showlakes": true,
           "showland": true,
           "subunitcolor": "white"
          },
          "hoverlabel": {
           "align": "left"
          },
          "hovermode": "closest",
          "mapbox": {
           "style": "light"
          },
          "paper_bgcolor": "white",
          "plot_bgcolor": "#E5ECF6",
          "polar": {
           "angularaxis": {
            "gridcolor": "white",
            "linecolor": "white",
            "ticks": ""
           },
           "bgcolor": "#E5ECF6",
           "radialaxis": {
            "gridcolor": "white",
            "linecolor": "white",
            "ticks": ""
           }
          },
          "scene": {
           "xaxis": {
            "backgroundcolor": "#E5ECF6",
            "gridcolor": "white",
            "gridwidth": 2,
            "linecolor": "white",
            "showbackground": true,
            "ticks": "",
            "zerolinecolor": "white"
           },
           "yaxis": {
            "backgroundcolor": "#E5ECF6",
            "gridcolor": "white",
            "gridwidth": 2,
            "linecolor": "white",
            "showbackground": true,
            "ticks": "",
            "zerolinecolor": "white"
           },
           "zaxis": {
            "backgroundcolor": "#E5ECF6",
            "gridcolor": "white",
            "gridwidth": 2,
            "linecolor": "white",
            "showbackground": true,
            "ticks": "",
            "zerolinecolor": "white"
           }
          },
          "shapedefaults": {
           "line": {
            "color": "#2a3f5f"
           }
          },
          "ternary": {
           "aaxis": {
            "gridcolor": "white",
            "linecolor": "white",
            "ticks": ""
           },
           "baxis": {
            "gridcolor": "white",
            "linecolor": "white",
            "ticks": ""
           },
           "bgcolor": "#E5ECF6",
           "caxis": {
            "gridcolor": "white",
            "linecolor": "white",
            "ticks": ""
           }
          },
          "title": {
           "x": 0.05
          },
          "xaxis": {
           "automargin": true,
           "gridcolor": "white",
           "linecolor": "white",
           "ticks": "",
           "title": {
            "standoff": 15
           },
           "zerolinecolor": "white",
           "zerolinewidth": 2
          },
          "yaxis": {
           "automargin": true,
           "gridcolor": "white",
           "linecolor": "white",
           "ticks": "",
           "title": {
            "standoff": 15
           },
           "zerolinecolor": "white",
           "zerolinewidth": 2
          }
         }
        },
        "title": {
         "text": "Top 10 Sold Items"
        },
        "xaxis": {
         "anchor": "y",
         "domain": [
          0,
          1
         ],
         "title": {
          "text": "index"
         }
        },
        "yaxis": {
         "anchor": "x",
         "domain": [
          0,
          1
         ],
         "title": {
          "text": "y"
         }
        }
       }
      }
     },
     "metadata": {},
     "output_type": "display_data"
    }
   ],
   "source": [
    "import plotly.express as px\n",
    "\n",
    "fig = px.bar(rest_items, x=rest_items.index, y=rest_items.values, text_auto='.2s',\n",
    "            title=\"Top 10 Sold Items\")\n",
    "fig.update_traces(textfont_size=12, textangle=0, textposition=\"outside\", cliponaxis=False)\n",
    "fig.show()"
   ]
  },
  {
   "cell_type": "markdown",
   "metadata": {},
   "source": [
    "# Add Filiale"
   ]
  },
  {
   "cell_type": "code",
   "execution_count": 15,
   "metadata": {},
   "outputs": [
    {
     "data": {
      "text/html": [
       "<div>\n",
       "<style scoped>\n",
       "    .dataframe tbody tr th:only-of-type {\n",
       "        vertical-align: middle;\n",
       "    }\n",
       "\n",
       "    .dataframe tbody tr th {\n",
       "        vertical-align: top;\n",
       "    }\n",
       "\n",
       "    .dataframe thead th {\n",
       "        text-align: right;\n",
       "    }\n",
       "</style>\n",
       "<table border=\"1\" class=\"dataframe\">\n",
       "  <thead>\n",
       "    <tr style=\"text-align: right;\">\n",
       "      <th></th>\n",
       "      <th>TransactionNo</th>\n",
       "      <th>Items</th>\n",
       "      <th>DateTime</th>\n",
       "      <th>Daypart</th>\n",
       "      <th>DayType</th>\n",
       "    </tr>\n",
       "  </thead>\n",
       "  <tbody>\n",
       "    <tr>\n",
       "      <th>0</th>\n",
       "      <td>1</td>\n",
       "      <td>Bread</td>\n",
       "      <td>2016-10-30</td>\n",
       "      <td>Morning</td>\n",
       "      <td>Weekend</td>\n",
       "    </tr>\n",
       "    <tr>\n",
       "      <th>1</th>\n",
       "      <td>2</td>\n",
       "      <td>Scandinavian</td>\n",
       "      <td>2016-10-30</td>\n",
       "      <td>Morning</td>\n",
       "      <td>Weekend</td>\n",
       "    </tr>\n",
       "    <tr>\n",
       "      <th>2</th>\n",
       "      <td>2</td>\n",
       "      <td>Scandinavian</td>\n",
       "      <td>2016-10-30</td>\n",
       "      <td>Morning</td>\n",
       "      <td>Weekend</td>\n",
       "    </tr>\n",
       "    <tr>\n",
       "      <th>3</th>\n",
       "      <td>3</td>\n",
       "      <td>Hot chocolate</td>\n",
       "      <td>2016-10-30</td>\n",
       "      <td>Morning</td>\n",
       "      <td>Weekend</td>\n",
       "    </tr>\n",
       "    <tr>\n",
       "      <th>4</th>\n",
       "      <td>3</td>\n",
       "      <td>Jam</td>\n",
       "      <td>2016-10-30</td>\n",
       "      <td>Morning</td>\n",
       "      <td>Weekend</td>\n",
       "    </tr>\n",
       "  </tbody>\n",
       "</table>\n",
       "</div>"
      ],
      "text/plain": [
       "   TransactionNo          Items    DateTime  Daypart  DayType\n",
       "0              1          Bread  2016-10-30  Morning  Weekend\n",
       "1              2   Scandinavian  2016-10-30  Morning  Weekend\n",
       "2              2   Scandinavian  2016-10-30  Morning  Weekend\n",
       "3              3  Hot chocolate  2016-10-30  Morning  Weekend\n",
       "4              3            Jam  2016-10-30  Morning  Weekend"
      ]
     },
     "execution_count": 15,
     "metadata": {},
     "output_type": "execute_result"
    }
   ],
   "source": [
    "df.head()"
   ]
  },
  {
   "cell_type": "code",
   "execution_count": 14,
   "metadata": {},
   "outputs": [],
   "source": [
    "import random\n",
    "def add_location(x):\n",
    "    return random.choice(['Wallersdorf', 'Deggendorf', 'Plattling'])\n",
    "\n",
    "df['location'] = df.location.apply(add_location)"
   ]
  },
  {
   "cell_type": "code",
   "execution_count": 15,
   "metadata": {},
   "outputs": [
    {
     "data": {
      "text/html": [
       "<div>\n",
       "<style scoped>\n",
       "    .dataframe tbody tr th:only-of-type {\n",
       "        vertical-align: middle;\n",
       "    }\n",
       "\n",
       "    .dataframe tbody tr th {\n",
       "        vertical-align: top;\n",
       "    }\n",
       "\n",
       "    .dataframe thead th {\n",
       "        text-align: right;\n",
       "    }\n",
       "</style>\n",
       "<table border=\"1\" class=\"dataframe\">\n",
       "  <thead>\n",
       "    <tr style=\"text-align: right;\">\n",
       "      <th></th>\n",
       "      <th>TransactionNo</th>\n",
       "      <th>Items</th>\n",
       "      <th>DateTime</th>\n",
       "      <th>Daypart</th>\n",
       "      <th>DayType</th>\n",
       "      <th>date</th>\n",
       "      <th>time</th>\n",
       "      <th>location</th>\n",
       "    </tr>\n",
       "  </thead>\n",
       "  <tbody>\n",
       "    <tr>\n",
       "      <th>0</th>\n",
       "      <td>1</td>\n",
       "      <td>Bread</td>\n",
       "      <td>2016-10-30 09:58:11</td>\n",
       "      <td>Morning</td>\n",
       "      <td>Weekend</td>\n",
       "      <td>2016-10-30</td>\n",
       "      <td>09:58:11</td>\n",
       "      <td>Plattling</td>\n",
       "    </tr>\n",
       "    <tr>\n",
       "      <th>1</th>\n",
       "      <td>2</td>\n",
       "      <td>Scandinavian</td>\n",
       "      <td>2016-10-30 10:05:34</td>\n",
       "      <td>Morning</td>\n",
       "      <td>Weekend</td>\n",
       "      <td>2016-10-30</td>\n",
       "      <td>10:05:34</td>\n",
       "      <td>Plattling</td>\n",
       "    </tr>\n",
       "    <tr>\n",
       "      <th>2</th>\n",
       "      <td>2</td>\n",
       "      <td>Scandinavian</td>\n",
       "      <td>2016-10-30 10:05:34</td>\n",
       "      <td>Morning</td>\n",
       "      <td>Weekend</td>\n",
       "      <td>2016-10-30</td>\n",
       "      <td>10:05:34</td>\n",
       "      <td>Wallersdorf</td>\n",
       "    </tr>\n",
       "    <tr>\n",
       "      <th>3</th>\n",
       "      <td>3</td>\n",
       "      <td>Hot chocolate</td>\n",
       "      <td>2016-10-30 10:07:57</td>\n",
       "      <td>Morning</td>\n",
       "      <td>Weekend</td>\n",
       "      <td>2016-10-30</td>\n",
       "      <td>10:07:57</td>\n",
       "      <td>Deggendorf</td>\n",
       "    </tr>\n",
       "    <tr>\n",
       "      <th>4</th>\n",
       "      <td>3</td>\n",
       "      <td>Jam</td>\n",
       "      <td>2016-10-30 10:07:57</td>\n",
       "      <td>Morning</td>\n",
       "      <td>Weekend</td>\n",
       "      <td>2016-10-30</td>\n",
       "      <td>10:07:57</td>\n",
       "      <td>Wallersdorf</td>\n",
       "    </tr>\n",
       "    <tr>\n",
       "      <th>...</th>\n",
       "      <td>...</td>\n",
       "      <td>...</td>\n",
       "      <td>...</td>\n",
       "      <td>...</td>\n",
       "      <td>...</td>\n",
       "      <td>...</td>\n",
       "      <td>...</td>\n",
       "      <td>...</td>\n",
       "    </tr>\n",
       "    <tr>\n",
       "      <th>20502</th>\n",
       "      <td>9682</td>\n",
       "      <td>Coffee</td>\n",
       "      <td>2017-09-04 14:32:58</td>\n",
       "      <td>Afternoon</td>\n",
       "      <td>Weekend</td>\n",
       "      <td>2017-09-04</td>\n",
       "      <td>14:32:58</td>\n",
       "      <td>Wallersdorf</td>\n",
       "    </tr>\n",
       "    <tr>\n",
       "      <th>20503</th>\n",
       "      <td>9682</td>\n",
       "      <td>Tea</td>\n",
       "      <td>2017-09-04 14:32:58</td>\n",
       "      <td>Afternoon</td>\n",
       "      <td>Weekend</td>\n",
       "      <td>2017-09-04</td>\n",
       "      <td>14:32:58</td>\n",
       "      <td>Wallersdorf</td>\n",
       "    </tr>\n",
       "    <tr>\n",
       "      <th>20504</th>\n",
       "      <td>9683</td>\n",
       "      <td>Coffee</td>\n",
       "      <td>2017-09-04 14:57:06</td>\n",
       "      <td>Afternoon</td>\n",
       "      <td>Weekend</td>\n",
       "      <td>2017-09-04</td>\n",
       "      <td>14:57:06</td>\n",
       "      <td>Wallersdorf</td>\n",
       "    </tr>\n",
       "    <tr>\n",
       "      <th>20505</th>\n",
       "      <td>9683</td>\n",
       "      <td>Pastry</td>\n",
       "      <td>2017-09-04 14:57:06</td>\n",
       "      <td>Afternoon</td>\n",
       "      <td>Weekend</td>\n",
       "      <td>2017-09-04</td>\n",
       "      <td>14:57:06</td>\n",
       "      <td>Wallersdorf</td>\n",
       "    </tr>\n",
       "    <tr>\n",
       "      <th>20506</th>\n",
       "      <td>9684</td>\n",
       "      <td>Smoothies</td>\n",
       "      <td>2017-09-04 15:04:24</td>\n",
       "      <td>Afternoon</td>\n",
       "      <td>Weekend</td>\n",
       "      <td>2017-09-04</td>\n",
       "      <td>15:04:24</td>\n",
       "      <td>Wallersdorf</td>\n",
       "    </tr>\n",
       "  </tbody>\n",
       "</table>\n",
       "<p>20507 rows × 8 columns</p>\n",
       "</div>"
      ],
      "text/plain": [
       "       TransactionNo          Items             DateTime    Daypart  DayType  \\\n",
       "0                  1          Bread  2016-10-30 09:58:11    Morning  Weekend   \n",
       "1                  2   Scandinavian  2016-10-30 10:05:34    Morning  Weekend   \n",
       "2                  2   Scandinavian  2016-10-30 10:05:34    Morning  Weekend   \n",
       "3                  3  Hot chocolate  2016-10-30 10:07:57    Morning  Weekend   \n",
       "4                  3            Jam  2016-10-30 10:07:57    Morning  Weekend   \n",
       "...              ...            ...                  ...        ...      ...   \n",
       "20502           9682         Coffee  2017-09-04 14:32:58  Afternoon  Weekend   \n",
       "20503           9682            Tea  2017-09-04 14:32:58  Afternoon  Weekend   \n",
       "20504           9683         Coffee  2017-09-04 14:57:06  Afternoon  Weekend   \n",
       "20505           9683         Pastry  2017-09-04 14:57:06  Afternoon  Weekend   \n",
       "20506           9684      Smoothies  2017-09-04 15:04:24  Afternoon  Weekend   \n",
       "\n",
       "             date      time     location  \n",
       "0      2016-10-30  09:58:11    Plattling  \n",
       "1      2016-10-30  10:05:34    Plattling  \n",
       "2      2016-10-30  10:05:34  Wallersdorf  \n",
       "3      2016-10-30  10:07:57   Deggendorf  \n",
       "4      2016-10-30  10:07:57  Wallersdorf  \n",
       "...           ...       ...          ...  \n",
       "20502  2017-09-04  14:32:58  Wallersdorf  \n",
       "20503  2017-09-04  14:32:58  Wallersdorf  \n",
       "20504  2017-09-04  14:57:06  Wallersdorf  \n",
       "20505  2017-09-04  14:57:06  Wallersdorf  \n",
       "20506  2017-09-04  15:04:24  Wallersdorf  \n",
       "\n",
       "[20507 rows x 8 columns]"
      ]
     },
     "execution_count": 15,
     "metadata": {},
     "output_type": "execute_result"
    }
   ],
   "source": [
    "df"
   ]
  },
  {
   "cell_type": "code",
   "execution_count": 28,
   "metadata": {},
   "outputs": [
    {
     "data": {
      "text/plain": [
       "location\n",
       "Deggendorf     6743\n",
       "Plattling      6815\n",
       "Wallersdorf    6949\n",
       "dtype: int64"
      ]
     },
     "execution_count": 28,
     "metadata": {},
     "output_type": "execute_result"
    }
   ],
   "source": [
    "df.groupby('location').size()"
   ]
  },
  {
   "cell_type": "code",
   "execution_count": 33,
   "metadata": {},
   "outputs": [
    {
     "data": {
      "text/html": [
       "<div>\n",
       "<style scoped>\n",
       "    .dataframe tbody tr th:only-of-type {\n",
       "        vertical-align: middle;\n",
       "    }\n",
       "\n",
       "    .dataframe tbody tr th {\n",
       "        vertical-align: top;\n",
       "    }\n",
       "\n",
       "    .dataframe thead th {\n",
       "        text-align: right;\n",
       "    }\n",
       "</style>\n",
       "<table border=\"1\" class=\"dataframe\">\n",
       "  <thead>\n",
       "    <tr style=\"text-align: right;\">\n",
       "      <th></th>\n",
       "      <th>TransactionNo</th>\n",
       "      <th>Items</th>\n",
       "      <th>DateTime</th>\n",
       "      <th>Daypart</th>\n",
       "      <th>DayType</th>\n",
       "      <th>location</th>\n",
       "    </tr>\n",
       "  </thead>\n",
       "  <tbody>\n",
       "    <tr>\n",
       "      <th>3</th>\n",
       "      <td>3</td>\n",
       "      <td>Hot chocolate</td>\n",
       "      <td>2016-10-30</td>\n",
       "      <td>Morning</td>\n",
       "      <td>Weekend</td>\n",
       "      <td>Wallersdorf</td>\n",
       "    </tr>\n",
       "    <tr>\n",
       "      <th>4</th>\n",
       "      <td>3</td>\n",
       "      <td>Jam</td>\n",
       "      <td>2016-10-30</td>\n",
       "      <td>Morning</td>\n",
       "      <td>Weekend</td>\n",
       "      <td>Wallersdorf</td>\n",
       "    </tr>\n",
       "    <tr>\n",
       "      <th>6</th>\n",
       "      <td>4</td>\n",
       "      <td>Muffin</td>\n",
       "      <td>2016-10-30</td>\n",
       "      <td>Morning</td>\n",
       "      <td>Weekend</td>\n",
       "      <td>Wallersdorf</td>\n",
       "    </tr>\n",
       "    <tr>\n",
       "      <th>7</th>\n",
       "      <td>5</td>\n",
       "      <td>Coffee</td>\n",
       "      <td>2016-10-30</td>\n",
       "      <td>Morning</td>\n",
       "      <td>Weekend</td>\n",
       "      <td>Wallersdorf</td>\n",
       "    </tr>\n",
       "    <tr>\n",
       "      <th>8</th>\n",
       "      <td>5</td>\n",
       "      <td>Pastry</td>\n",
       "      <td>2016-10-30</td>\n",
       "      <td>Morning</td>\n",
       "      <td>Weekend</td>\n",
       "      <td>Wallersdorf</td>\n",
       "    </tr>\n",
       "    <tr>\n",
       "      <th>...</th>\n",
       "      <td>...</td>\n",
       "      <td>...</td>\n",
       "      <td>...</td>\n",
       "      <td>...</td>\n",
       "      <td>...</td>\n",
       "      <td>...</td>\n",
       "    </tr>\n",
       "    <tr>\n",
       "      <th>20482</th>\n",
       "      <td>9673</td>\n",
       "      <td>Spanish Brunch</td>\n",
       "      <td>2017-09-04</td>\n",
       "      <td>Afternoon</td>\n",
       "      <td>Weekend</td>\n",
       "      <td>Wallersdorf</td>\n",
       "    </tr>\n",
       "    <tr>\n",
       "      <th>20486</th>\n",
       "      <td>9676</td>\n",
       "      <td>Smoothies</td>\n",
       "      <td>2017-09-04</td>\n",
       "      <td>Afternoon</td>\n",
       "      <td>Weekend</td>\n",
       "      <td>Wallersdorf</td>\n",
       "    </tr>\n",
       "    <tr>\n",
       "      <th>20487</th>\n",
       "      <td>9676</td>\n",
       "      <td>Sandwich</td>\n",
       "      <td>2017-09-04</td>\n",
       "      <td>Afternoon</td>\n",
       "      <td>Weekend</td>\n",
       "      <td>Wallersdorf</td>\n",
       "    </tr>\n",
       "    <tr>\n",
       "      <th>20501</th>\n",
       "      <td>9682</td>\n",
       "      <td>Tacos/Fajita</td>\n",
       "      <td>2017-09-04</td>\n",
       "      <td>Afternoon</td>\n",
       "      <td>Weekend</td>\n",
       "      <td>Wallersdorf</td>\n",
       "    </tr>\n",
       "    <tr>\n",
       "      <th>20502</th>\n",
       "      <td>9682</td>\n",
       "      <td>Coffee</td>\n",
       "      <td>2017-09-04</td>\n",
       "      <td>Afternoon</td>\n",
       "      <td>Weekend</td>\n",
       "      <td>Wallersdorf</td>\n",
       "    </tr>\n",
       "  </tbody>\n",
       "</table>\n",
       "<p>6949 rows × 6 columns</p>\n",
       "</div>"
      ],
      "text/plain": [
       "       TransactionNo           Items    DateTime    Daypart  DayType  \\\n",
       "3                  3   Hot chocolate  2016-10-30    Morning  Weekend   \n",
       "4                  3             Jam  2016-10-30    Morning  Weekend   \n",
       "6                  4          Muffin  2016-10-30    Morning  Weekend   \n",
       "7                  5          Coffee  2016-10-30    Morning  Weekend   \n",
       "8                  5          Pastry  2016-10-30    Morning  Weekend   \n",
       "...              ...             ...         ...        ...      ...   \n",
       "20482           9673  Spanish Brunch  2017-09-04  Afternoon  Weekend   \n",
       "20486           9676       Smoothies  2017-09-04  Afternoon  Weekend   \n",
       "20487           9676        Sandwich  2017-09-04  Afternoon  Weekend   \n",
       "20501           9682    Tacos/Fajita  2017-09-04  Afternoon  Weekend   \n",
       "20502           9682          Coffee  2017-09-04  Afternoon  Weekend   \n",
       "\n",
       "          location  \n",
       "3      Wallersdorf  \n",
       "4      Wallersdorf  \n",
       "6      Wallersdorf  \n",
       "7      Wallersdorf  \n",
       "8      Wallersdorf  \n",
       "...            ...  \n",
       "20482  Wallersdorf  \n",
       "20486  Wallersdorf  \n",
       "20487  Wallersdorf  \n",
       "20501  Wallersdorf  \n",
       "20502  Wallersdorf  \n",
       "\n",
       "[6949 rows x 6 columns]"
      ]
     },
     "execution_count": 33,
     "metadata": {},
     "output_type": "execute_result"
    }
   ],
   "source": [
    "location = 'Wallersdorf'\n",
    "df.query(f'location == \"{location}\"')"
   ]
  },
  {
   "cell_type": "code",
   "execution_count": 21,
   "metadata": {},
   "outputs": [
    {
     "ename": "NameError",
     "evalue": "name 'df' is not defined",
     "output_type": "error",
     "traceback": [
      "\u001b[0;31m---------------------------------------------------------------------------\u001b[0m",
      "\u001b[0;31mNameError\u001b[0m                                 Traceback (most recent call last)",
      "\u001b[1;32m/Users/stefanlippl/dev/forecast_dashboard/analysis.ipynb Cell 18'\u001b[0m in \u001b[0;36m<cell line: 1>\u001b[0;34m()\u001b[0m\n\u001b[0;32m----> <a href='vscode-notebook-cell:/Users/stefanlippl/dev/forecast_dashboard/analysis.ipynb#ch0000013?line=0'>1</a>\u001b[0m df\u001b[39m.\u001b[39mto_csv(\u001b[39m'\u001b[39m\u001b[39mdata/Bakery.csv\u001b[39m\u001b[39m'\u001b[39m)\n",
      "\u001b[0;31mNameError\u001b[0m: name 'df' is not defined"
     ]
    }
   ],
   "source": [
    "df.to_csv('data/Bakery.csv')"
   ]
  },
  {
   "cell_type": "markdown",
   "metadata": {},
   "source": [
    "# Demand Forecast Mockup"
   ]
  },
  {
   "cell_type": "code",
   "execution_count": 36,
   "metadata": {},
   "outputs": [
    {
     "data": {
      "text/html": [
       "<div>\n",
       "<style scoped>\n",
       "    .dataframe tbody tr th:only-of-type {\n",
       "        vertical-align: middle;\n",
       "    }\n",
       "\n",
       "    .dataframe tbody tr th {\n",
       "        vertical-align: top;\n",
       "    }\n",
       "\n",
       "    .dataframe thead th {\n",
       "        text-align: right;\n",
       "    }\n",
       "</style>\n",
       "<table border=\"1\" class=\"dataframe\">\n",
       "  <thead>\n",
       "    <tr style=\"text-align: right;\">\n",
       "      <th></th>\n",
       "      <th>TransactionNo</th>\n",
       "      <th>Items</th>\n",
       "      <th>DateTime</th>\n",
       "      <th>Daypart</th>\n",
       "      <th>DayType</th>\n",
       "      <th>location</th>\n",
       "    </tr>\n",
       "  </thead>\n",
       "  <tbody>\n",
       "    <tr>\n",
       "      <th>0</th>\n",
       "      <td>1</td>\n",
       "      <td>Bread</td>\n",
       "      <td>2016-10-30</td>\n",
       "      <td>Morning</td>\n",
       "      <td>Weekend</td>\n",
       "      <td>Deggendorf</td>\n",
       "    </tr>\n",
       "    <tr>\n",
       "      <th>1</th>\n",
       "      <td>2</td>\n",
       "      <td>Scandinavian</td>\n",
       "      <td>2016-10-30</td>\n",
       "      <td>Morning</td>\n",
       "      <td>Weekend</td>\n",
       "      <td>Deggendorf</td>\n",
       "    </tr>\n",
       "    <tr>\n",
       "      <th>2</th>\n",
       "      <td>2</td>\n",
       "      <td>Scandinavian</td>\n",
       "      <td>2016-10-30</td>\n",
       "      <td>Morning</td>\n",
       "      <td>Weekend</td>\n",
       "      <td>Plattling</td>\n",
       "    </tr>\n",
       "    <tr>\n",
       "      <th>3</th>\n",
       "      <td>3</td>\n",
       "      <td>Hot chocolate</td>\n",
       "      <td>2016-10-30</td>\n",
       "      <td>Morning</td>\n",
       "      <td>Weekend</td>\n",
       "      <td>Wallersdorf</td>\n",
       "    </tr>\n",
       "    <tr>\n",
       "      <th>4</th>\n",
       "      <td>3</td>\n",
       "      <td>Jam</td>\n",
       "      <td>2016-10-30</td>\n",
       "      <td>Morning</td>\n",
       "      <td>Weekend</td>\n",
       "      <td>Wallersdorf</td>\n",
       "    </tr>\n",
       "  </tbody>\n",
       "</table>\n",
       "</div>"
      ],
      "text/plain": [
       "   TransactionNo          Items    DateTime  Daypart  DayType     location\n",
       "0              1          Bread  2016-10-30  Morning  Weekend   Deggendorf\n",
       "1              2   Scandinavian  2016-10-30  Morning  Weekend   Deggendorf\n",
       "2              2   Scandinavian  2016-10-30  Morning  Weekend    Plattling\n",
       "3              3  Hot chocolate  2016-10-30  Morning  Weekend  Wallersdorf\n",
       "4              3            Jam  2016-10-30  Morning  Weekend  Wallersdorf"
      ]
     },
     "execution_count": 36,
     "metadata": {},
     "output_type": "execute_result"
    }
   ],
   "source": [
    "df.head()"
   ]
  },
  {
   "cell_type": "code",
   "execution_count": 26,
   "metadata": {},
   "outputs": [
    {
     "data": {
      "text/html": [
       "<div>\n",
       "<style scoped>\n",
       "    .dataframe tbody tr th:only-of-type {\n",
       "        vertical-align: middle;\n",
       "    }\n",
       "\n",
       "    .dataframe tbody tr th {\n",
       "        vertical-align: top;\n",
       "    }\n",
       "\n",
       "    .dataframe thead th {\n",
       "        text-align: right;\n",
       "    }\n",
       "</style>\n",
       "<table border=\"1\" class=\"dataframe\">\n",
       "  <thead>\n",
       "    <tr style=\"text-align: right;\">\n",
       "      <th></th>\n",
       "      <th>TransactionNo</th>\n",
       "      <th>Items</th>\n",
       "      <th>DateTime</th>\n",
       "      <th>Daypart</th>\n",
       "      <th>DayType</th>\n",
       "    </tr>\n",
       "  </thead>\n",
       "  <tbody>\n",
       "    <tr>\n",
       "      <th>0</th>\n",
       "      <td>1</td>\n",
       "      <td>Bread</td>\n",
       "      <td>2016-10-30 09:58:11</td>\n",
       "      <td>Morning</td>\n",
       "      <td>Weekend</td>\n",
       "    </tr>\n",
       "    <tr>\n",
       "      <th>9</th>\n",
       "      <td>5</td>\n",
       "      <td>Bread</td>\n",
       "      <td>2016-10-30 10:13:03</td>\n",
       "      <td>Morning</td>\n",
       "      <td>Weekend</td>\n",
       "    </tr>\n",
       "    <tr>\n",
       "      <th>18</th>\n",
       "      <td>8</td>\n",
       "      <td>Bread</td>\n",
       "      <td>2016-10-30 10:20:51</td>\n",
       "      <td>Morning</td>\n",
       "      <td>Weekend</td>\n",
       "    </tr>\n",
       "    <tr>\n",
       "      <th>19</th>\n",
       "      <td>9</td>\n",
       "      <td>Bread</td>\n",
       "      <td>2016-10-30 10:21:59</td>\n",
       "      <td>Morning</td>\n",
       "      <td>Weekend</td>\n",
       "    </tr>\n",
       "    <tr>\n",
       "      <th>23</th>\n",
       "      <td>11</td>\n",
       "      <td>Bread</td>\n",
       "      <td>2016-10-30 10:27:21</td>\n",
       "      <td>Morning</td>\n",
       "      <td>Weekend</td>\n",
       "    </tr>\n",
       "    <tr>\n",
       "      <th>...</th>\n",
       "      <td>...</td>\n",
       "      <td>...</td>\n",
       "      <td>...</td>\n",
       "      <td>...</td>\n",
       "      <td>...</td>\n",
       "    </tr>\n",
       "    <tr>\n",
       "      <th>20475</th>\n",
       "      <td>9668</td>\n",
       "      <td>Bread</td>\n",
       "      <td>2017-09-04 12:07:57</td>\n",
       "      <td>Afternoon</td>\n",
       "      <td>Weekend</td>\n",
       "    </tr>\n",
       "    <tr>\n",
       "      <th>20478</th>\n",
       "      <td>9671</td>\n",
       "      <td>Bread</td>\n",
       "      <td>2017-09-04 12:28:01</td>\n",
       "      <td>Afternoon</td>\n",
       "      <td>Weekend</td>\n",
       "    </tr>\n",
       "    <tr>\n",
       "      <th>20484</th>\n",
       "      <td>9673</td>\n",
       "      <td>Bread</td>\n",
       "      <td>2017-09-04 12:32:03</td>\n",
       "      <td>Afternoon</td>\n",
       "      <td>Weekend</td>\n",
       "    </tr>\n",
       "    <tr>\n",
       "      <th>20493</th>\n",
       "      <td>9679</td>\n",
       "      <td>Bread</td>\n",
       "      <td>2017-09-04 14:08:37</td>\n",
       "      <td>Afternoon</td>\n",
       "      <td>Weekend</td>\n",
       "    </tr>\n",
       "    <tr>\n",
       "      <th>20495</th>\n",
       "      <td>9680</td>\n",
       "      <td>Bread</td>\n",
       "      <td>2017-09-04 14:24:03</td>\n",
       "      <td>Afternoon</td>\n",
       "      <td>Weekend</td>\n",
       "    </tr>\n",
       "  </tbody>\n",
       "</table>\n",
       "<p>3325 rows × 5 columns</p>\n",
       "</div>"
      ],
      "text/plain": [
       "       TransactionNo  Items             DateTime    Daypart  DayType\n",
       "0                  1  Bread  2016-10-30 09:58:11    Morning  Weekend\n",
       "9                  5  Bread  2016-10-30 10:13:03    Morning  Weekend\n",
       "18                 8  Bread  2016-10-30 10:20:51    Morning  Weekend\n",
       "19                 9  Bread  2016-10-30 10:21:59    Morning  Weekend\n",
       "23                11  Bread  2016-10-30 10:27:21    Morning  Weekend\n",
       "...              ...    ...                  ...        ...      ...\n",
       "20475           9668  Bread  2017-09-04 12:07:57  Afternoon  Weekend\n",
       "20478           9671  Bread  2017-09-04 12:28:01  Afternoon  Weekend\n",
       "20484           9673  Bread  2017-09-04 12:32:03  Afternoon  Weekend\n",
       "20493           9679  Bread  2017-09-04 14:08:37  Afternoon  Weekend\n",
       "20495           9680  Bread  2017-09-04 14:24:03  Afternoon  Weekend\n",
       "\n",
       "[3325 rows x 5 columns]"
      ]
     },
     "execution_count": 26,
     "metadata": {},
     "output_type": "execute_result"
    }
   ],
   "source": [
    "dfb = df.query('Items == \"Bread\"')\n",
    "dfb"
   ]
  },
  {
   "cell_type": "code",
   "execution_count": 27,
   "metadata": {},
   "outputs": [
    {
     "data": {
      "text/html": [
       "<div>\n",
       "<style scoped>\n",
       "    .dataframe tbody tr th:only-of-type {\n",
       "        vertical-align: middle;\n",
       "    }\n",
       "\n",
       "    .dataframe tbody tr th {\n",
       "        vertical-align: top;\n",
       "    }\n",
       "\n",
       "    .dataframe thead th {\n",
       "        text-align: right;\n",
       "    }\n",
       "</style>\n",
       "<table border=\"1\" class=\"dataframe\">\n",
       "  <thead>\n",
       "    <tr style=\"text-align: right;\">\n",
       "      <th></th>\n",
       "      <th>DateTime</th>\n",
       "      <th>0</th>\n",
       "    </tr>\n",
       "  </thead>\n",
       "  <tbody>\n",
       "    <tr>\n",
       "      <th>0</th>\n",
       "      <td>2016-01-11 10:02:27</td>\n",
       "      <td>1</td>\n",
       "    </tr>\n",
       "    <tr>\n",
       "      <th>1</th>\n",
       "      <td>2016-01-11 10:29:02</td>\n",
       "      <td>1</td>\n",
       "    </tr>\n",
       "    <tr>\n",
       "      <th>2</th>\n",
       "      <td>2016-01-11 10:56:08</td>\n",
       "      <td>1</td>\n",
       "    </tr>\n",
       "    <tr>\n",
       "      <th>3</th>\n",
       "      <td>2016-01-11 11:04:36</td>\n",
       "      <td>2</td>\n",
       "    </tr>\n",
       "    <tr>\n",
       "      <th>4</th>\n",
       "      <td>2016-01-11 11:06:09</td>\n",
       "      <td>1</td>\n",
       "    </tr>\n",
       "    <tr>\n",
       "      <th>...</th>\n",
       "      <td>...</td>\n",
       "      <td>...</td>\n",
       "    </tr>\n",
       "    <tr>\n",
       "      <th>3092</th>\n",
       "      <td>2017-12-03 14:14:33</td>\n",
       "      <td>1</td>\n",
       "    </tr>\n",
       "    <tr>\n",
       "      <th>3093</th>\n",
       "      <td>2017-12-03 14:28:36</td>\n",
       "      <td>1</td>\n",
       "    </tr>\n",
       "    <tr>\n",
       "      <th>3094</th>\n",
       "      <td>2017-12-03 14:32:26</td>\n",
       "      <td>1</td>\n",
       "    </tr>\n",
       "    <tr>\n",
       "      <th>3095</th>\n",
       "      <td>2017-12-03 15:38:22</td>\n",
       "      <td>1</td>\n",
       "    </tr>\n",
       "    <tr>\n",
       "      <th>3096</th>\n",
       "      <td>2017-12-03 16:28:00</td>\n",
       "      <td>1</td>\n",
       "    </tr>\n",
       "  </tbody>\n",
       "</table>\n",
       "<p>3097 rows × 2 columns</p>\n",
       "</div>"
      ],
      "text/plain": [
       "                 DateTime  0\n",
       "0     2016-01-11 10:02:27  1\n",
       "1     2016-01-11 10:29:02  1\n",
       "2     2016-01-11 10:56:08  1\n",
       "3     2016-01-11 11:04:36  2\n",
       "4     2016-01-11 11:06:09  1\n",
       "...                   ... ..\n",
       "3092  2017-12-03 14:14:33  1\n",
       "3093  2017-12-03 14:28:36  1\n",
       "3094  2017-12-03 14:32:26  1\n",
       "3095  2017-12-03 15:38:22  1\n",
       "3096  2017-12-03 16:28:00  1\n",
       "\n",
       "[3097 rows x 2 columns]"
      ]
     },
     "execution_count": 27,
     "metadata": {},
     "output_type": "execute_result"
    }
   ],
   "source": [
    "dfb = pd.DataFrame(dfb.groupby('DateTime').size()).reset_index()\n",
    "dfb"
   ]
  },
  {
   "cell_type": "code",
   "execution_count": 28,
   "metadata": {},
   "outputs": [],
   "source": [
    "dfb = dfb.rename({0: 'true_values'}, axis=1)  # new method"
   ]
  },
  {
   "cell_type": "code",
   "execution_count": 29,
   "metadata": {},
   "outputs": [],
   "source": [
    "import random\n",
    "\n",
    "for i in range(len(dfb)):\n",
    "    d = random.randint(-5, 5)\n",
    "    dfb['prediction'] = dfb['true_values'] + d"
   ]
  },
  {
   "cell_type": "code",
   "execution_count": 30,
   "metadata": {},
   "outputs": [
    {
     "data": {
      "text/html": [
       "<div>\n",
       "<style scoped>\n",
       "    .dataframe tbody tr th:only-of-type {\n",
       "        vertical-align: middle;\n",
       "    }\n",
       "\n",
       "    .dataframe tbody tr th {\n",
       "        vertical-align: top;\n",
       "    }\n",
       "\n",
       "    .dataframe thead th {\n",
       "        text-align: right;\n",
       "    }\n",
       "</style>\n",
       "<table border=\"1\" class=\"dataframe\">\n",
       "  <thead>\n",
       "    <tr style=\"text-align: right;\">\n",
       "      <th></th>\n",
       "      <th>DateTime</th>\n",
       "      <th>true_values</th>\n",
       "      <th>prediction</th>\n",
       "    </tr>\n",
       "  </thead>\n",
       "  <tbody>\n",
       "    <tr>\n",
       "      <th>0</th>\n",
       "      <td>2016-01-11 10:02:27</td>\n",
       "      <td>1</td>\n",
       "      <td>5</td>\n",
       "    </tr>\n",
       "    <tr>\n",
       "      <th>1</th>\n",
       "      <td>2016-01-11 10:29:02</td>\n",
       "      <td>1</td>\n",
       "      <td>5</td>\n",
       "    </tr>\n",
       "    <tr>\n",
       "      <th>2</th>\n",
       "      <td>2016-01-11 10:56:08</td>\n",
       "      <td>1</td>\n",
       "      <td>5</td>\n",
       "    </tr>\n",
       "    <tr>\n",
       "      <th>3</th>\n",
       "      <td>2016-01-11 11:04:36</td>\n",
       "      <td>2</td>\n",
       "      <td>6</td>\n",
       "    </tr>\n",
       "    <tr>\n",
       "      <th>4</th>\n",
       "      <td>2016-01-11 11:06:09</td>\n",
       "      <td>1</td>\n",
       "      <td>5</td>\n",
       "    </tr>\n",
       "    <tr>\n",
       "      <th>...</th>\n",
       "      <td>...</td>\n",
       "      <td>...</td>\n",
       "      <td>...</td>\n",
       "    </tr>\n",
       "    <tr>\n",
       "      <th>3092</th>\n",
       "      <td>2017-12-03 14:14:33</td>\n",
       "      <td>1</td>\n",
       "      <td>5</td>\n",
       "    </tr>\n",
       "    <tr>\n",
       "      <th>3093</th>\n",
       "      <td>2017-12-03 14:28:36</td>\n",
       "      <td>1</td>\n",
       "      <td>5</td>\n",
       "    </tr>\n",
       "    <tr>\n",
       "      <th>3094</th>\n",
       "      <td>2017-12-03 14:32:26</td>\n",
       "      <td>1</td>\n",
       "      <td>5</td>\n",
       "    </tr>\n",
       "    <tr>\n",
       "      <th>3095</th>\n",
       "      <td>2017-12-03 15:38:22</td>\n",
       "      <td>1</td>\n",
       "      <td>5</td>\n",
       "    </tr>\n",
       "    <tr>\n",
       "      <th>3096</th>\n",
       "      <td>2017-12-03 16:28:00</td>\n",
       "      <td>1</td>\n",
       "      <td>5</td>\n",
       "    </tr>\n",
       "  </tbody>\n",
       "</table>\n",
       "<p>3097 rows × 3 columns</p>\n",
       "</div>"
      ],
      "text/plain": [
       "                 DateTime  true_values  prediction\n",
       "0     2016-01-11 10:02:27            1           5\n",
       "1     2016-01-11 10:29:02            1           5\n",
       "2     2016-01-11 10:56:08            1           5\n",
       "3     2016-01-11 11:04:36            2           6\n",
       "4     2016-01-11 11:06:09            1           5\n",
       "...                   ...          ...         ...\n",
       "3092  2017-12-03 14:14:33            1           5\n",
       "3093  2017-12-03 14:28:36            1           5\n",
       "3094  2017-12-03 14:32:26            1           5\n",
       "3095  2017-12-03 15:38:22            1           5\n",
       "3096  2017-12-03 16:28:00            1           5\n",
       "\n",
       "[3097 rows x 3 columns]"
      ]
     },
     "execution_count": 30,
     "metadata": {},
     "output_type": "execute_result"
    }
   ],
   "source": [
    "dfb"
   ]
  },
  {
   "cell_type": "code",
   "execution_count": 59,
   "metadata": {},
   "outputs": [
    {
     "data": {
      "application/vnd.plotly.v1+json": {
       "config": {
        "plotlyServerURL": "https://plot.ly"
       },
       "data": [
        {
         "name": "True Sales",
         "type": "bar",
         "x": [
          "2016-01-11",
          "2016-01-12",
          "2016-02-11",
          "2016-02-12",
          "2016-03-11",
          "2016-03-12",
          "2016-04-11",
          "2016-04-12",
          "2016-05-11",
          "2016-05-12",
          "2016-06-11",
          "2016-06-12",
          "2016-07-11",
          "2016-07-12",
          "2016-08-11",
          "2016-08-12",
          "2016-09-11",
          "2016-09-12",
          "2016-10-11",
          "2016-10-12",
          "2016-10-30",
          "2016-10-31",
          "2016-11-11",
          "2016-11-12",
          "2016-11-13",
          "2016-11-14",
          "2016-11-15",
          "2016-11-16",
          "2016-11-17",
          "2016-11-18",
          "2016-11-19",
          "2016-11-20",
          "2016-11-21",
          "2016-11-22",
          "2016-11-23",
          "2016-11-24",
          "2016-11-25",
          "2016-11-26",
          "2016-11-27",
          "2016-11-28",
          "2016-11-29",
          "2016-11-30",
          "2016-12-11",
          "2016-12-12",
          "2016-12-13",
          "2016-12-14",
          "2016-12-15",
          "2016-12-16",
          "2016-12-17",
          "2016-12-18",
          "2016-12-19",
          "2016-12-20",
          "2016-12-21",
          "2016-12-22",
          "2016-12-23",
          "2016-12-24",
          "2016-12-27",
          "2016-12-28",
          "2016-12-29",
          "2016-12-30",
          "2016-12-31",
          "2017-01-01",
          "2017-01-02",
          "2017-01-03",
          "2017-01-04",
          "2017-01-13",
          "2017-01-14",
          "2017-01-15",
          "2017-01-16",
          "2017-01-17",
          "2017-01-18",
          "2017-01-19",
          "2017-01-20",
          "2017-01-21",
          "2017-01-22",
          "2017-01-23",
          "2017-01-24",
          "2017-01-25",
          "2017-01-26",
          "2017-01-27",
          "2017-01-28",
          "2017-01-29",
          "2017-01-30",
          "2017-01-31",
          "2017-02-02",
          "2017-02-03",
          "2017-02-04",
          "2017-02-13",
          "2017-02-14",
          "2017-02-15",
          "2017-02-16",
          "2017-02-17",
          "2017-02-18",
          "2017-02-19",
          "2017-02-20",
          "2017-02-21",
          "2017-02-22",
          "2017-02-23",
          "2017-02-24",
          "2017-02-25",
          "2017-02-26",
          "2017-02-27",
          "2017-02-28",
          "2017-03-01",
          "2017-03-02",
          "2017-03-03",
          "2017-03-04",
          "2017-03-13",
          "2017-03-14",
          "2017-03-15",
          "2017-03-16",
          "2017-03-17",
          "2017-03-18",
          "2017-03-19",
          "2017-03-20",
          "2017-03-21",
          "2017-03-22",
          "2017-03-23",
          "2017-03-24",
          "2017-03-25",
          "2017-03-26",
          "2017-03-27",
          "2017-03-28",
          "2017-03-29",
          "2017-03-30",
          "2017-03-31",
          "2017-04-01",
          "2017-04-02",
          "2017-04-03",
          "2017-04-04",
          "2017-05-01",
          "2017-05-02",
          "2017-05-03",
          "2017-05-04",
          "2017-06-01",
          "2017-06-02",
          "2017-06-03",
          "2017-06-04",
          "2017-07-01",
          "2017-07-02",
          "2017-07-03",
          "2017-07-04",
          "2017-08-01",
          "2017-08-02",
          "2017-08-03",
          "2017-08-04",
          "2017-09-01",
          "2017-09-02",
          "2017-09-03",
          "2017-09-04",
          "2017-10-01",
          "2017-10-02",
          "2017-10-03",
          "2017-11-01",
          "2017-11-02",
          "2017-11-03",
          "2017-12-01",
          "2017-12-02",
          "2017-12-03"
         ],
         "y": [
          21,
          19,
          17,
          18,
          26,
          36,
          30,
          22,
          36,
          17,
          23,
          24,
          27,
          17,
          5,
          10,
          21,
          23,
          31,
          28,
          29,
          24,
          30,
          16,
          39,
          21,
          22,
          26,
          23,
          27,
          41,
          28,
          10,
          12,
          11,
          21,
          26,
          32,
          14,
          17,
          16,
          21,
          38,
          23,
          14,
          18,
          27,
          23,
          27,
          18,
          24,
          14,
          21,
          21,
          26,
          27,
          2,
          24,
          38,
          22,
          26,
          1,
          33,
          14,
          36,
          15,
          29,
          29,
          18,
          11,
          7,
          16,
          22,
          27,
          26,
          10,
          20,
          14,
          19,
          23,
          42,
          22,
          15,
          17,
          25,
          19,
          17,
          19,
          18,
          10,
          6,
          26,
          42,
          22,
          25,
          12,
          19,
          13,
          23,
          27,
          17,
          16,
          27,
          11,
          29,
          22,
          15,
          10,
          12,
          13,
          22,
          13,
          28,
          18,
          13,
          17,
          17,
          23,
          20,
          40,
          26,
          7,
          8,
          15,
          13,
          27,
          12,
          31,
          36,
          18,
          21,
          22,
          13,
          20,
          16,
          22,
          17,
          16,
          36,
          17,
          19,
          15,
          22,
          20,
          18,
          29,
          10,
          18,
          12,
          9,
          13,
          23,
          28,
          17,
          36,
          30,
          11,
          22,
          18
         ]
        },
        {
         "name": "Prediction",
         "type": "bar",
         "x": [
          "2016-01-11",
          "2016-01-12",
          "2016-02-11",
          "2016-02-12",
          "2016-03-11",
          "2016-03-12",
          "2016-04-11",
          "2016-04-12",
          "2016-05-11",
          "2016-05-12",
          "2016-06-11",
          "2016-06-12",
          "2016-07-11",
          "2016-07-12",
          "2016-08-11",
          "2016-08-12",
          "2016-09-11",
          "2016-09-12",
          "2016-10-11",
          "2016-10-12",
          "2016-10-30",
          "2016-10-31",
          "2016-11-11",
          "2016-11-12",
          "2016-11-13",
          "2016-11-14",
          "2016-11-15",
          "2016-11-16",
          "2016-11-17",
          "2016-11-18",
          "2016-11-19",
          "2016-11-20",
          "2016-11-21",
          "2016-11-22",
          "2016-11-23",
          "2016-11-24",
          "2016-11-25",
          "2016-11-26",
          "2016-11-27",
          "2016-11-28",
          "2016-11-29",
          "2016-11-30",
          "2016-12-11",
          "2016-12-12",
          "2016-12-13",
          "2016-12-14",
          "2016-12-15",
          "2016-12-16",
          "2016-12-17",
          "2016-12-18",
          "2016-12-19",
          "2016-12-20",
          "2016-12-21",
          "2016-12-22",
          "2016-12-23",
          "2016-12-24",
          "2016-12-27",
          "2016-12-28",
          "2016-12-29",
          "2016-12-30",
          "2016-12-31",
          "2017-01-01",
          "2017-01-02",
          "2017-01-03",
          "2017-01-04",
          "2017-01-13",
          "2017-01-14",
          "2017-01-15",
          "2017-01-16",
          "2017-01-17",
          "2017-01-18",
          "2017-01-19",
          "2017-01-20",
          "2017-01-21",
          "2017-01-22",
          "2017-01-23",
          "2017-01-24",
          "2017-01-25",
          "2017-01-26",
          "2017-01-27",
          "2017-01-28",
          "2017-01-29",
          "2017-01-30",
          "2017-01-31",
          "2017-02-02",
          "2017-02-03",
          "2017-02-04",
          "2017-02-13",
          "2017-02-14",
          "2017-02-15",
          "2017-02-16",
          "2017-02-17",
          "2017-02-18",
          "2017-02-19",
          "2017-02-20",
          "2017-02-21",
          "2017-02-22",
          "2017-02-23",
          "2017-02-24",
          "2017-02-25",
          "2017-02-26",
          "2017-02-27",
          "2017-02-28",
          "2017-03-01",
          "2017-03-02",
          "2017-03-03",
          "2017-03-04",
          "2017-03-13",
          "2017-03-14",
          "2017-03-15",
          "2017-03-16",
          "2017-03-17",
          "2017-03-18",
          "2017-03-19",
          "2017-03-20",
          "2017-03-21",
          "2017-03-22",
          "2017-03-23",
          "2017-03-24",
          "2017-03-25",
          "2017-03-26",
          "2017-03-27",
          "2017-03-28",
          "2017-03-29",
          "2017-03-30",
          "2017-03-31",
          "2017-04-01",
          "2017-04-02",
          "2017-04-03",
          "2017-04-04",
          "2017-05-01",
          "2017-05-02",
          "2017-05-03",
          "2017-05-04",
          "2017-06-01",
          "2017-06-02",
          "2017-06-03",
          "2017-06-04",
          "2017-07-01",
          "2017-07-02",
          "2017-07-03",
          "2017-07-04",
          "2017-08-01",
          "2017-08-02",
          "2017-08-03",
          "2017-08-04",
          "2017-09-01",
          "2017-09-02",
          "2017-09-03",
          "2017-09-04",
          "2017-10-01",
          "2017-10-02",
          "2017-10-03",
          "2017-11-01",
          "2017-11-02",
          "2017-11-03",
          "2017-12-01",
          "2017-12-02",
          "2017-12-03"
         ],
         "y": [
          25,
          23,
          21,
          22,
          30,
          40,
          34,
          26,
          40,
          21,
          27,
          28,
          31,
          21,
          9,
          14,
          25,
          27,
          35,
          32,
          33,
          28,
          34,
          20,
          43,
          25,
          26,
          30,
          27,
          31,
          45,
          32,
          14,
          16,
          15,
          25,
          30,
          36,
          18,
          21,
          20,
          25,
          42,
          27,
          18,
          22,
          31,
          27,
          31,
          22,
          28,
          18,
          25,
          25,
          30,
          31,
          6,
          28,
          42,
          26,
          30,
          5,
          37,
          18,
          40,
          19,
          33,
          33,
          22,
          15,
          11,
          20,
          26,
          31,
          30,
          14,
          24,
          18,
          23,
          27,
          46,
          26,
          19,
          21,
          29,
          23,
          21,
          23,
          22,
          14,
          10,
          30,
          46,
          26,
          29,
          16,
          23,
          17,
          27,
          31,
          21,
          20,
          31,
          15,
          33,
          26,
          19,
          14,
          16,
          17,
          26,
          17,
          32,
          22,
          17,
          21,
          21,
          27,
          24,
          44,
          30,
          11,
          12,
          19,
          17,
          31,
          16,
          35,
          40,
          22,
          25,
          26,
          17,
          24,
          20,
          26,
          21,
          20,
          40,
          21,
          23,
          19,
          26,
          24,
          22,
          33,
          14,
          22,
          16,
          13,
          17,
          27,
          32,
          21,
          40,
          34,
          15,
          26,
          22
         ]
        }
       ],
       "layout": {
        "barmode": "group",
        "template": {
         "data": {
          "bar": [
           {
            "error_x": {
             "color": "#2a3f5f"
            },
            "error_y": {
             "color": "#2a3f5f"
            },
            "marker": {
             "line": {
              "color": "#E5ECF6",
              "width": 0.5
             },
             "pattern": {
              "fillmode": "overlay",
              "size": 10,
              "solidity": 0.2
             }
            },
            "type": "bar"
           }
          ],
          "barpolar": [
           {
            "marker": {
             "line": {
              "color": "#E5ECF6",
              "width": 0.5
             },
             "pattern": {
              "fillmode": "overlay",
              "size": 10,
              "solidity": 0.2
             }
            },
            "type": "barpolar"
           }
          ],
          "carpet": [
           {
            "aaxis": {
             "endlinecolor": "#2a3f5f",
             "gridcolor": "white",
             "linecolor": "white",
             "minorgridcolor": "white",
             "startlinecolor": "#2a3f5f"
            },
            "baxis": {
             "endlinecolor": "#2a3f5f",
             "gridcolor": "white",
             "linecolor": "white",
             "minorgridcolor": "white",
             "startlinecolor": "#2a3f5f"
            },
            "type": "carpet"
           }
          ],
          "choropleth": [
           {
            "colorbar": {
             "outlinewidth": 0,
             "ticks": ""
            },
            "type": "choropleth"
           }
          ],
          "contour": [
           {
            "colorbar": {
             "outlinewidth": 0,
             "ticks": ""
            },
            "colorscale": [
             [
              0,
              "#0d0887"
             ],
             [
              0.1111111111111111,
              "#46039f"
             ],
             [
              0.2222222222222222,
              "#7201a8"
             ],
             [
              0.3333333333333333,
              "#9c179e"
             ],
             [
              0.4444444444444444,
              "#bd3786"
             ],
             [
              0.5555555555555556,
              "#d8576b"
             ],
             [
              0.6666666666666666,
              "#ed7953"
             ],
             [
              0.7777777777777778,
              "#fb9f3a"
             ],
             [
              0.8888888888888888,
              "#fdca26"
             ],
             [
              1,
              "#f0f921"
             ]
            ],
            "type": "contour"
           }
          ],
          "contourcarpet": [
           {
            "colorbar": {
             "outlinewidth": 0,
             "ticks": ""
            },
            "type": "contourcarpet"
           }
          ],
          "heatmap": [
           {
            "colorbar": {
             "outlinewidth": 0,
             "ticks": ""
            },
            "colorscale": [
             [
              0,
              "#0d0887"
             ],
             [
              0.1111111111111111,
              "#46039f"
             ],
             [
              0.2222222222222222,
              "#7201a8"
             ],
             [
              0.3333333333333333,
              "#9c179e"
             ],
             [
              0.4444444444444444,
              "#bd3786"
             ],
             [
              0.5555555555555556,
              "#d8576b"
             ],
             [
              0.6666666666666666,
              "#ed7953"
             ],
             [
              0.7777777777777778,
              "#fb9f3a"
             ],
             [
              0.8888888888888888,
              "#fdca26"
             ],
             [
              1,
              "#f0f921"
             ]
            ],
            "type": "heatmap"
           }
          ],
          "heatmapgl": [
           {
            "colorbar": {
             "outlinewidth": 0,
             "ticks": ""
            },
            "colorscale": [
             [
              0,
              "#0d0887"
             ],
             [
              0.1111111111111111,
              "#46039f"
             ],
             [
              0.2222222222222222,
              "#7201a8"
             ],
             [
              0.3333333333333333,
              "#9c179e"
             ],
             [
              0.4444444444444444,
              "#bd3786"
             ],
             [
              0.5555555555555556,
              "#d8576b"
             ],
             [
              0.6666666666666666,
              "#ed7953"
             ],
             [
              0.7777777777777778,
              "#fb9f3a"
             ],
             [
              0.8888888888888888,
              "#fdca26"
             ],
             [
              1,
              "#f0f921"
             ]
            ],
            "type": "heatmapgl"
           }
          ],
          "histogram": [
           {
            "marker": {
             "pattern": {
              "fillmode": "overlay",
              "size": 10,
              "solidity": 0.2
             }
            },
            "type": "histogram"
           }
          ],
          "histogram2d": [
           {
            "colorbar": {
             "outlinewidth": 0,
             "ticks": ""
            },
            "colorscale": [
             [
              0,
              "#0d0887"
             ],
             [
              0.1111111111111111,
              "#46039f"
             ],
             [
              0.2222222222222222,
              "#7201a8"
             ],
             [
              0.3333333333333333,
              "#9c179e"
             ],
             [
              0.4444444444444444,
              "#bd3786"
             ],
             [
              0.5555555555555556,
              "#d8576b"
             ],
             [
              0.6666666666666666,
              "#ed7953"
             ],
             [
              0.7777777777777778,
              "#fb9f3a"
             ],
             [
              0.8888888888888888,
              "#fdca26"
             ],
             [
              1,
              "#f0f921"
             ]
            ],
            "type": "histogram2d"
           }
          ],
          "histogram2dcontour": [
           {
            "colorbar": {
             "outlinewidth": 0,
             "ticks": ""
            },
            "colorscale": [
             [
              0,
              "#0d0887"
             ],
             [
              0.1111111111111111,
              "#46039f"
             ],
             [
              0.2222222222222222,
              "#7201a8"
             ],
             [
              0.3333333333333333,
              "#9c179e"
             ],
             [
              0.4444444444444444,
              "#bd3786"
             ],
             [
              0.5555555555555556,
              "#d8576b"
             ],
             [
              0.6666666666666666,
              "#ed7953"
             ],
             [
              0.7777777777777778,
              "#fb9f3a"
             ],
             [
              0.8888888888888888,
              "#fdca26"
             ],
             [
              1,
              "#f0f921"
             ]
            ],
            "type": "histogram2dcontour"
           }
          ],
          "mesh3d": [
           {
            "colorbar": {
             "outlinewidth": 0,
             "ticks": ""
            },
            "type": "mesh3d"
           }
          ],
          "parcoords": [
           {
            "line": {
             "colorbar": {
              "outlinewidth": 0,
              "ticks": ""
             }
            },
            "type": "parcoords"
           }
          ],
          "pie": [
           {
            "automargin": true,
            "type": "pie"
           }
          ],
          "scatter": [
           {
            "fillpattern": {
             "fillmode": "overlay",
             "size": 10,
             "solidity": 0.2
            },
            "type": "scatter"
           }
          ],
          "scatter3d": [
           {
            "line": {
             "colorbar": {
              "outlinewidth": 0,
              "ticks": ""
             }
            },
            "marker": {
             "colorbar": {
              "outlinewidth": 0,
              "ticks": ""
             }
            },
            "type": "scatter3d"
           }
          ],
          "scattercarpet": [
           {
            "marker": {
             "colorbar": {
              "outlinewidth": 0,
              "ticks": ""
             }
            },
            "type": "scattercarpet"
           }
          ],
          "scattergeo": [
           {
            "marker": {
             "colorbar": {
              "outlinewidth": 0,
              "ticks": ""
             }
            },
            "type": "scattergeo"
           }
          ],
          "scattergl": [
           {
            "marker": {
             "colorbar": {
              "outlinewidth": 0,
              "ticks": ""
             }
            },
            "type": "scattergl"
           }
          ],
          "scattermapbox": [
           {
            "marker": {
             "colorbar": {
              "outlinewidth": 0,
              "ticks": ""
             }
            },
            "type": "scattermapbox"
           }
          ],
          "scatterpolar": [
           {
            "marker": {
             "colorbar": {
              "outlinewidth": 0,
              "ticks": ""
             }
            },
            "type": "scatterpolar"
           }
          ],
          "scatterpolargl": [
           {
            "marker": {
             "colorbar": {
              "outlinewidth": 0,
              "ticks": ""
             }
            },
            "type": "scatterpolargl"
           }
          ],
          "scatterternary": [
           {
            "marker": {
             "colorbar": {
              "outlinewidth": 0,
              "ticks": ""
             }
            },
            "type": "scatterternary"
           }
          ],
          "surface": [
           {
            "colorbar": {
             "outlinewidth": 0,
             "ticks": ""
            },
            "colorscale": [
             [
              0,
              "#0d0887"
             ],
             [
              0.1111111111111111,
              "#46039f"
             ],
             [
              0.2222222222222222,
              "#7201a8"
             ],
             [
              0.3333333333333333,
              "#9c179e"
             ],
             [
              0.4444444444444444,
              "#bd3786"
             ],
             [
              0.5555555555555556,
              "#d8576b"
             ],
             [
              0.6666666666666666,
              "#ed7953"
             ],
             [
              0.7777777777777778,
              "#fb9f3a"
             ],
             [
              0.8888888888888888,
              "#fdca26"
             ],
             [
              1,
              "#f0f921"
             ]
            ],
            "type": "surface"
           }
          ],
          "table": [
           {
            "cells": {
             "fill": {
              "color": "#EBF0F8"
             },
             "line": {
              "color": "white"
             }
            },
            "header": {
             "fill": {
              "color": "#C8D4E3"
             },
             "line": {
              "color": "white"
             }
            },
            "type": "table"
           }
          ]
         },
         "layout": {
          "annotationdefaults": {
           "arrowcolor": "#2a3f5f",
           "arrowhead": 0,
           "arrowwidth": 1
          },
          "autotypenumbers": "strict",
          "coloraxis": {
           "colorbar": {
            "outlinewidth": 0,
            "ticks": ""
           }
          },
          "colorscale": {
           "diverging": [
            [
             0,
             "#8e0152"
            ],
            [
             0.1,
             "#c51b7d"
            ],
            [
             0.2,
             "#de77ae"
            ],
            [
             0.3,
             "#f1b6da"
            ],
            [
             0.4,
             "#fde0ef"
            ],
            [
             0.5,
             "#f7f7f7"
            ],
            [
             0.6,
             "#e6f5d0"
            ],
            [
             0.7,
             "#b8e186"
            ],
            [
             0.8,
             "#7fbc41"
            ],
            [
             0.9,
             "#4d9221"
            ],
            [
             1,
             "#276419"
            ]
           ],
           "sequential": [
            [
             0,
             "#0d0887"
            ],
            [
             0.1111111111111111,
             "#46039f"
            ],
            [
             0.2222222222222222,
             "#7201a8"
            ],
            [
             0.3333333333333333,
             "#9c179e"
            ],
            [
             0.4444444444444444,
             "#bd3786"
            ],
            [
             0.5555555555555556,
             "#d8576b"
            ],
            [
             0.6666666666666666,
             "#ed7953"
            ],
            [
             0.7777777777777778,
             "#fb9f3a"
            ],
            [
             0.8888888888888888,
             "#fdca26"
            ],
            [
             1,
             "#f0f921"
            ]
           ],
           "sequentialminus": [
            [
             0,
             "#0d0887"
            ],
            [
             0.1111111111111111,
             "#46039f"
            ],
            [
             0.2222222222222222,
             "#7201a8"
            ],
            [
             0.3333333333333333,
             "#9c179e"
            ],
            [
             0.4444444444444444,
             "#bd3786"
            ],
            [
             0.5555555555555556,
             "#d8576b"
            ],
            [
             0.6666666666666666,
             "#ed7953"
            ],
            [
             0.7777777777777778,
             "#fb9f3a"
            ],
            [
             0.8888888888888888,
             "#fdca26"
            ],
            [
             1,
             "#f0f921"
            ]
           ]
          },
          "colorway": [
           "#636efa",
           "#EF553B",
           "#00cc96",
           "#ab63fa",
           "#FFA15A",
           "#19d3f3",
           "#FF6692",
           "#B6E880",
           "#FF97FF",
           "#FECB52"
          ],
          "font": {
           "color": "#2a3f5f"
          },
          "geo": {
           "bgcolor": "white",
           "lakecolor": "white",
           "landcolor": "#E5ECF6",
           "showlakes": true,
           "showland": true,
           "subunitcolor": "white"
          },
          "hoverlabel": {
           "align": "left"
          },
          "hovermode": "closest",
          "mapbox": {
           "style": "light"
          },
          "paper_bgcolor": "white",
          "plot_bgcolor": "#E5ECF6",
          "polar": {
           "angularaxis": {
            "gridcolor": "white",
            "linecolor": "white",
            "ticks": ""
           },
           "bgcolor": "#E5ECF6",
           "radialaxis": {
            "gridcolor": "white",
            "linecolor": "white",
            "ticks": ""
           }
          },
          "scene": {
           "xaxis": {
            "backgroundcolor": "#E5ECF6",
            "gridcolor": "white",
            "gridwidth": 2,
            "linecolor": "white",
            "showbackground": true,
            "ticks": "",
            "zerolinecolor": "white"
           },
           "yaxis": {
            "backgroundcolor": "#E5ECF6",
            "gridcolor": "white",
            "gridwidth": 2,
            "linecolor": "white",
            "showbackground": true,
            "ticks": "",
            "zerolinecolor": "white"
           },
           "zaxis": {
            "backgroundcolor": "#E5ECF6",
            "gridcolor": "white",
            "gridwidth": 2,
            "linecolor": "white",
            "showbackground": true,
            "ticks": "",
            "zerolinecolor": "white"
           }
          },
          "shapedefaults": {
           "line": {
            "color": "#2a3f5f"
           }
          },
          "ternary": {
           "aaxis": {
            "gridcolor": "white",
            "linecolor": "white",
            "ticks": ""
           },
           "baxis": {
            "gridcolor": "white",
            "linecolor": "white",
            "ticks": ""
           },
           "bgcolor": "#E5ECF6",
           "caxis": {
            "gridcolor": "white",
            "linecolor": "white",
            "ticks": ""
           }
          },
          "title": {
           "x": 0.05
          },
          "xaxis": {
           "automargin": true,
           "gridcolor": "white",
           "linecolor": "white",
           "ticks": "",
           "title": {
            "standoff": 15
           },
           "zerolinecolor": "white",
           "zerolinewidth": 2
          },
          "yaxis": {
           "automargin": true,
           "gridcolor": "white",
           "linecolor": "white",
           "ticks": "",
           "title": {
            "standoff": 15
           },
           "zerolinecolor": "white",
           "zerolinewidth": 2
          }
         }
        }
       }
      }
     },
     "metadata": {},
     "output_type": "display_data"
    }
   ],
   "source": [
    "import plotly.graph_objects as go\n",
    "\n",
    "fig = go.Figure(data=[\n",
    "    go.Bar(name='True Sales', x=dfb.DateTime, y=dfb.true_values),\n",
    "    go.Bar(name='Prediction', x=dfb.DateTime, y=dfb.prediction)\n",
    "])\n",
    "# Change the bar mode\n",
    "fig.update_layout(barmode='group')\n",
    "fig.show()"
   ]
  },
  {
   "cell_type": "code",
   "execution_count": 62,
   "metadata": {},
   "outputs": [
    {
     "data": {
      "text/plain": [
       "str"
      ]
     },
     "execution_count": 62,
     "metadata": {},
     "output_type": "execute_result"
    }
   ],
   "source": [
    "type(df.loc[0, 'DateTime'])"
   ]
  },
  {
   "cell_type": "code",
   "execution_count": 70,
   "metadata": {},
   "outputs": [
    {
     "name": "stdout",
     "output_type": "stream",
     "text": [
      "<class 'str'>\n",
      "2016-01-02\n",
      "20160102\n"
     ]
    }
   ],
   "source": [
    "from datetime import timedelta, date, datetime\n",
    "\n",
    "curr_date = '2016-01-01'\n",
    "curr_date = datetime.strptime(curr_date, '%Y-%m-%d').strftime('%Y-%m-%d')\n",
    "print(type(curr_date))\n",
    "curr_date = date.fromisoformat(curr_date) + timedelta(days=1)\n",
    "print(curr_date)\n",
    "curr_date = str(curr_date).replace('-', '').split(' ')[0]\n",
    "print(curr_date)"
   ]
  },
  {
   "cell_type": "code",
   "execution_count": 1,
   "metadata": {},
   "outputs": [
    {
     "data": {
      "text/plain": [
       "Items\n",
       "Adjustment                    1\n",
       "Afternoon with the baker     44\n",
       "Alfajores                   369\n",
       "Argentina Night               7\n",
       "Art Tray                     38\n",
       "dtype: int64"
      ]
     },
     "execution_count": 1,
     "metadata": {},
     "output_type": "execute_result"
    }
   ],
   "source": [
    "import pandas as pd\n",
    "\n",
    "df = pd.read_csv('data/Bakery.csv')\n",
    "ser = df.groupby('Items').size()\n",
    "ser.head()"
   ]
  },
  {
   "cell_type": "code",
   "execution_count": 2,
   "metadata": {},
   "outputs": [],
   "source": [
    "from charts.charts import PlotlyCharts\n",
    "\n",
    "barchart = PlotlyCharts(ser=ser, chart_type='bar', sort='asc', orientation='v', title='Servus Erdnuss')\n",
    "#barchart.create()\n"
   ]
  },
  {
   "cell_type": "markdown",
   "metadata": {},
   "source": [
    "# Stoßzeiten"
   ]
  },
  {
   "cell_type": "code",
   "execution_count": 18,
   "metadata": {},
   "outputs": [
    {
     "data": {
      "text/html": [
       "<div>\n",
       "<style scoped>\n",
       "    .dataframe tbody tr th:only-of-type {\n",
       "        vertical-align: middle;\n",
       "    }\n",
       "\n",
       "    .dataframe tbody tr th {\n",
       "        vertical-align: top;\n",
       "    }\n",
       "\n",
       "    .dataframe thead th {\n",
       "        text-align: right;\n",
       "    }\n",
       "</style>\n",
       "<table border=\"1\" class=\"dataframe\">\n",
       "  <thead>\n",
       "    <tr style=\"text-align: right;\">\n",
       "      <th></th>\n",
       "      <th>TransactionNo</th>\n",
       "      <th>Items</th>\n",
       "      <th>DateTime</th>\n",
       "      <th>Daypart</th>\n",
       "      <th>DayType</th>\n",
       "      <th>date</th>\n",
       "      <th>time</th>\n",
       "      <th>location</th>\n",
       "    </tr>\n",
       "  </thead>\n",
       "  <tbody>\n",
       "    <tr>\n",
       "      <th>0</th>\n",
       "      <td>1</td>\n",
       "      <td>Bread</td>\n",
       "      <td>2016-10-30 09:58:11</td>\n",
       "      <td>Morning</td>\n",
       "      <td>Weekend</td>\n",
       "      <td>2016-10-30</td>\n",
       "      <td>09:58:11</td>\n",
       "      <td>Plattling</td>\n",
       "    </tr>\n",
       "    <tr>\n",
       "      <th>1</th>\n",
       "      <td>2</td>\n",
       "      <td>Scandinavian</td>\n",
       "      <td>2016-10-30 10:05:34</td>\n",
       "      <td>Morning</td>\n",
       "      <td>Weekend</td>\n",
       "      <td>2016-10-30</td>\n",
       "      <td>10:05:34</td>\n",
       "      <td>Plattling</td>\n",
       "    </tr>\n",
       "    <tr>\n",
       "      <th>2</th>\n",
       "      <td>2</td>\n",
       "      <td>Scandinavian</td>\n",
       "      <td>2016-10-30 10:05:34</td>\n",
       "      <td>Morning</td>\n",
       "      <td>Weekend</td>\n",
       "      <td>2016-10-30</td>\n",
       "      <td>10:05:34</td>\n",
       "      <td>Wallersdorf</td>\n",
       "    </tr>\n",
       "    <tr>\n",
       "      <th>3</th>\n",
       "      <td>3</td>\n",
       "      <td>Hot chocolate</td>\n",
       "      <td>2016-10-30 10:07:57</td>\n",
       "      <td>Morning</td>\n",
       "      <td>Weekend</td>\n",
       "      <td>2016-10-30</td>\n",
       "      <td>10:07:57</td>\n",
       "      <td>Deggendorf</td>\n",
       "    </tr>\n",
       "    <tr>\n",
       "      <th>4</th>\n",
       "      <td>3</td>\n",
       "      <td>Jam</td>\n",
       "      <td>2016-10-30 10:07:57</td>\n",
       "      <td>Morning</td>\n",
       "      <td>Weekend</td>\n",
       "      <td>2016-10-30</td>\n",
       "      <td>10:07:57</td>\n",
       "      <td>Wallersdorf</td>\n",
       "    </tr>\n",
       "    <tr>\n",
       "      <th>...</th>\n",
       "      <td>...</td>\n",
       "      <td>...</td>\n",
       "      <td>...</td>\n",
       "      <td>...</td>\n",
       "      <td>...</td>\n",
       "      <td>...</td>\n",
       "      <td>...</td>\n",
       "      <td>...</td>\n",
       "    </tr>\n",
       "    <tr>\n",
       "      <th>20502</th>\n",
       "      <td>9682</td>\n",
       "      <td>Coffee</td>\n",
       "      <td>2017-09-04 14:32:58</td>\n",
       "      <td>Afternoon</td>\n",
       "      <td>Weekend</td>\n",
       "      <td>2017-09-04</td>\n",
       "      <td>14:32:58</td>\n",
       "      <td>Wallersdorf</td>\n",
       "    </tr>\n",
       "    <tr>\n",
       "      <th>20503</th>\n",
       "      <td>9682</td>\n",
       "      <td>Tea</td>\n",
       "      <td>2017-09-04 14:32:58</td>\n",
       "      <td>Afternoon</td>\n",
       "      <td>Weekend</td>\n",
       "      <td>2017-09-04</td>\n",
       "      <td>14:32:58</td>\n",
       "      <td>Wallersdorf</td>\n",
       "    </tr>\n",
       "    <tr>\n",
       "      <th>20504</th>\n",
       "      <td>9683</td>\n",
       "      <td>Coffee</td>\n",
       "      <td>2017-09-04 14:57:06</td>\n",
       "      <td>Afternoon</td>\n",
       "      <td>Weekend</td>\n",
       "      <td>2017-09-04</td>\n",
       "      <td>14:57:06</td>\n",
       "      <td>Wallersdorf</td>\n",
       "    </tr>\n",
       "    <tr>\n",
       "      <th>20505</th>\n",
       "      <td>9683</td>\n",
       "      <td>Pastry</td>\n",
       "      <td>2017-09-04 14:57:06</td>\n",
       "      <td>Afternoon</td>\n",
       "      <td>Weekend</td>\n",
       "      <td>2017-09-04</td>\n",
       "      <td>14:57:06</td>\n",
       "      <td>Wallersdorf</td>\n",
       "    </tr>\n",
       "    <tr>\n",
       "      <th>20506</th>\n",
       "      <td>9684</td>\n",
       "      <td>Smoothies</td>\n",
       "      <td>2017-09-04 15:04:24</td>\n",
       "      <td>Afternoon</td>\n",
       "      <td>Weekend</td>\n",
       "      <td>2017-09-04</td>\n",
       "      <td>15:04:24</td>\n",
       "      <td>Wallersdorf</td>\n",
       "    </tr>\n",
       "  </tbody>\n",
       "</table>\n",
       "<p>20507 rows × 8 columns</p>\n",
       "</div>"
      ],
      "text/plain": [
       "       TransactionNo          Items             DateTime    Daypart  DayType  \\\n",
       "0                  1          Bread  2016-10-30 09:58:11    Morning  Weekend   \n",
       "1                  2   Scandinavian  2016-10-30 10:05:34    Morning  Weekend   \n",
       "2                  2   Scandinavian  2016-10-30 10:05:34    Morning  Weekend   \n",
       "3                  3  Hot chocolate  2016-10-30 10:07:57    Morning  Weekend   \n",
       "4                  3            Jam  2016-10-30 10:07:57    Morning  Weekend   \n",
       "...              ...            ...                  ...        ...      ...   \n",
       "20502           9682         Coffee  2017-09-04 14:32:58  Afternoon  Weekend   \n",
       "20503           9682            Tea  2017-09-04 14:32:58  Afternoon  Weekend   \n",
       "20504           9683         Coffee  2017-09-04 14:57:06  Afternoon  Weekend   \n",
       "20505           9683         Pastry  2017-09-04 14:57:06  Afternoon  Weekend   \n",
       "20506           9684      Smoothies  2017-09-04 15:04:24  Afternoon  Weekend   \n",
       "\n",
       "             date      time     location  \n",
       "0      2016-10-30  09:58:11    Plattling  \n",
       "1      2016-10-30  10:05:34    Plattling  \n",
       "2      2016-10-30  10:05:34  Wallersdorf  \n",
       "3      2016-10-30  10:07:57   Deggendorf  \n",
       "4      2016-10-30  10:07:57  Wallersdorf  \n",
       "...           ...       ...          ...  \n",
       "20502  2017-09-04  14:32:58  Wallersdorf  \n",
       "20503  2017-09-04  14:32:58  Wallersdorf  \n",
       "20504  2017-09-04  14:57:06  Wallersdorf  \n",
       "20505  2017-09-04  14:57:06  Wallersdorf  \n",
       "20506  2017-09-04  15:04:24  Wallersdorf  \n",
       "\n",
       "[20507 rows x 8 columns]"
      ]
     },
     "execution_count": 18,
     "metadata": {},
     "output_type": "execute_result"
    }
   ],
   "source": [
    "df"
   ]
  },
  {
   "cell_type": "code",
   "execution_count": 33,
   "metadata": {},
   "outputs": [
    {
     "name": "stdout",
     "output_type": "stream",
     "text": [
      "09:58\n"
     ]
    }
   ],
   "source": [
    "ti = df.loc[0, 'time'].split(':')[:2]\n",
    "print(f'{ti[0]}:{ti[1]}')"
   ]
  },
  {
   "cell_type": "code",
   "execution_count": 29,
   "metadata": {},
   "outputs": [],
   "source": [
    "if int(ti[1]) < 30:\n",
    "    ti[0] = ti[0]\n",
    "    ti[1] = 0\n",
    "else:\n",
    "    ti[0] = int(ti[0]) + 1\n",
    "    ti[1] = 0"
   ]
  },
  {
   "cell_type": "code",
   "execution_count": 30,
   "metadata": {},
   "outputs": [
    {
     "data": {
      "text/plain": [
       "[10, 0]"
      ]
     },
     "execution_count": 30,
     "metadata": {},
     "output_type": "execute_result"
    }
   ],
   "source": [
    "ti"
   ]
  },
  {
   "cell_type": "code",
   "execution_count": 38,
   "metadata": {},
   "outputs": [
    {
     "ename": "KeyError",
     "evalue": "'time'",
     "output_type": "error",
     "traceback": [
      "\u001b[0;31m---------------------------------------------------------------------------\u001b[0m",
      "\u001b[0;31mKeyError\u001b[0m                                  Traceback (most recent call last)",
      "File \u001b[0;32m/opt/anaconda3/envs/forecast_dashboard/lib/python3.9/site-packages/pandas/core/indexes/base.py:3621\u001b[0m, in \u001b[0;36mIndex.get_loc\u001b[0;34m(self, key, method, tolerance)\u001b[0m\n\u001b[1;32m   <a href='file:///opt/anaconda3/envs/forecast_dashboard/lib/python3.9/site-packages/pandas/core/indexes/base.py?line=3619'>3620</a>\u001b[0m \u001b[39mtry\u001b[39;00m:\n\u001b[0;32m-> <a href='file:///opt/anaconda3/envs/forecast_dashboard/lib/python3.9/site-packages/pandas/core/indexes/base.py?line=3620'>3621</a>\u001b[0m     \u001b[39mreturn\u001b[39;00m \u001b[39mself\u001b[39;49m\u001b[39m.\u001b[39;49m_engine\u001b[39m.\u001b[39;49mget_loc(casted_key)\n\u001b[1;32m   <a href='file:///opt/anaconda3/envs/forecast_dashboard/lib/python3.9/site-packages/pandas/core/indexes/base.py?line=3621'>3622</a>\u001b[0m \u001b[39mexcept\u001b[39;00m \u001b[39mKeyError\u001b[39;00m \u001b[39mas\u001b[39;00m err:\n",
      "File \u001b[0;32mpandas/_libs/index.pyx:136\u001b[0m, in \u001b[0;36mpandas._libs.index.IndexEngine.get_loc\u001b[0;34m()\u001b[0m\n",
      "File \u001b[0;32mpandas/_libs/index.pyx:163\u001b[0m, in \u001b[0;36mpandas._libs.index.IndexEngine.get_loc\u001b[0;34m()\u001b[0m\n",
      "File \u001b[0;32mpandas/_libs/hashtable_class_helper.pxi:5198\u001b[0m, in \u001b[0;36mpandas._libs.hashtable.PyObjectHashTable.get_item\u001b[0;34m()\u001b[0m\n",
      "File \u001b[0;32mpandas/_libs/hashtable_class_helper.pxi:5206\u001b[0m, in \u001b[0;36mpandas._libs.hashtable.PyObjectHashTable.get_item\u001b[0;34m()\u001b[0m\n",
      "\u001b[0;31mKeyError\u001b[0m: 'time'",
      "\nThe above exception was the direct cause of the following exception:\n",
      "\u001b[0;31mKeyError\u001b[0m                                  Traceback (most recent call last)",
      "\u001b[1;32m/Users/stefanlippl/dev/forecast_dashboard/analysis.ipynb Cell 36'\u001b[0m in \u001b[0;36m<cell line: 1>\u001b[0;34m()\u001b[0m\n\u001b[1;32m      <a href='vscode-notebook-cell:/Users/stefanlippl/dev/forecast_dashboard/analysis.ipynb#ch0000042?line=0'>1</a>\u001b[0m \u001b[39mfor\u001b[39;00m i \u001b[39min\u001b[39;00m \u001b[39mrange\u001b[39m(\u001b[39mlen\u001b[39m(df)):\n\u001b[0;32m----> <a href='vscode-notebook-cell:/Users/stefanlippl/dev/forecast_dashboard/analysis.ipynb#ch0000042?line=1'>2</a>\u001b[0m     curr_time \u001b[39m=\u001b[39m df\u001b[39m.\u001b[39;49mloc[i, \u001b[39m'\u001b[39;49m\u001b[39mtime\u001b[39;49m\u001b[39m'\u001b[39;49m]\u001b[39m.\u001b[39msplit(\u001b[39m'\u001b[39m\u001b[39m:\u001b[39m\u001b[39m'\u001b[39m)[:\u001b[39m2\u001b[39m]\n\u001b[1;32m      <a href='vscode-notebook-cell:/Users/stefanlippl/dev/forecast_dashboard/analysis.ipynb#ch0000042?line=2'>3</a>\u001b[0m     \u001b[39mif\u001b[39;00m \u001b[39mint\u001b[39m(curr_time[\u001b[39m1\u001b[39m]) \u001b[39m<\u001b[39m \u001b[39m30\u001b[39m:\n\u001b[1;32m      <a href='vscode-notebook-cell:/Users/stefanlippl/dev/forecast_dashboard/analysis.ipynb#ch0000042?line=3'>4</a>\u001b[0m         curr_time[\u001b[39m0\u001b[39m] \u001b[39m=\u001b[39m curr_time[\u001b[39m0\u001b[39m]\n",
      "File \u001b[0;32m/opt/anaconda3/envs/forecast_dashboard/lib/python3.9/site-packages/pandas/core/indexing.py:960\u001b[0m, in \u001b[0;36m_LocationIndexer.__getitem__\u001b[0;34m(self, key)\u001b[0m\n\u001b[1;32m    <a href='file:///opt/anaconda3/envs/forecast_dashboard/lib/python3.9/site-packages/pandas/core/indexing.py?line=957'>958</a>\u001b[0m     key \u001b[39m=\u001b[39m \u001b[39mtuple\u001b[39m(com\u001b[39m.\u001b[39mapply_if_callable(x, \u001b[39mself\u001b[39m\u001b[39m.\u001b[39mobj) \u001b[39mfor\u001b[39;00m x \u001b[39min\u001b[39;00m key)\n\u001b[1;32m    <a href='file:///opt/anaconda3/envs/forecast_dashboard/lib/python3.9/site-packages/pandas/core/indexing.py?line=958'>959</a>\u001b[0m     \u001b[39mif\u001b[39;00m \u001b[39mself\u001b[39m\u001b[39m.\u001b[39m_is_scalar_access(key):\n\u001b[0;32m--> <a href='file:///opt/anaconda3/envs/forecast_dashboard/lib/python3.9/site-packages/pandas/core/indexing.py?line=959'>960</a>\u001b[0m         \u001b[39mreturn\u001b[39;00m \u001b[39mself\u001b[39;49m\u001b[39m.\u001b[39;49mobj\u001b[39m.\u001b[39;49m_get_value(\u001b[39m*\u001b[39;49mkey, takeable\u001b[39m=\u001b[39;49m\u001b[39mself\u001b[39;49m\u001b[39m.\u001b[39;49m_takeable)\n\u001b[1;32m    <a href='file:///opt/anaconda3/envs/forecast_dashboard/lib/python3.9/site-packages/pandas/core/indexing.py?line=960'>961</a>\u001b[0m     \u001b[39mreturn\u001b[39;00m \u001b[39mself\u001b[39m\u001b[39m.\u001b[39m_getitem_tuple(key)\n\u001b[1;32m    <a href='file:///opt/anaconda3/envs/forecast_dashboard/lib/python3.9/site-packages/pandas/core/indexing.py?line=961'>962</a>\u001b[0m \u001b[39melse\u001b[39;00m:\n\u001b[1;32m    <a href='file:///opt/anaconda3/envs/forecast_dashboard/lib/python3.9/site-packages/pandas/core/indexing.py?line=962'>963</a>\u001b[0m     \u001b[39m# we by definition only have the 0th axis\u001b[39;00m\n",
      "File \u001b[0;32m/opt/anaconda3/envs/forecast_dashboard/lib/python3.9/site-packages/pandas/core/frame.py:3615\u001b[0m, in \u001b[0;36mDataFrame._get_value\u001b[0;34m(self, index, col, takeable)\u001b[0m\n\u001b[1;32m   <a href='file:///opt/anaconda3/envs/forecast_dashboard/lib/python3.9/site-packages/pandas/core/frame.py?line=3611'>3612</a>\u001b[0m     series \u001b[39m=\u001b[39m \u001b[39mself\u001b[39m\u001b[39m.\u001b[39m_ixs(col, axis\u001b[39m=\u001b[39m\u001b[39m1\u001b[39m)\n\u001b[1;32m   <a href='file:///opt/anaconda3/envs/forecast_dashboard/lib/python3.9/site-packages/pandas/core/frame.py?line=3612'>3613</a>\u001b[0m     \u001b[39mreturn\u001b[39;00m series\u001b[39m.\u001b[39m_values[index]\n\u001b[0;32m-> <a href='file:///opt/anaconda3/envs/forecast_dashboard/lib/python3.9/site-packages/pandas/core/frame.py?line=3614'>3615</a>\u001b[0m series \u001b[39m=\u001b[39m \u001b[39mself\u001b[39;49m\u001b[39m.\u001b[39;49m_get_item_cache(col)\n\u001b[1;32m   <a href='file:///opt/anaconda3/envs/forecast_dashboard/lib/python3.9/site-packages/pandas/core/frame.py?line=3615'>3616</a>\u001b[0m engine \u001b[39m=\u001b[39m \u001b[39mself\u001b[39m\u001b[39m.\u001b[39mindex\u001b[39m.\u001b[39m_engine\n\u001b[1;32m   <a href='file:///opt/anaconda3/envs/forecast_dashboard/lib/python3.9/site-packages/pandas/core/frame.py?line=3617'>3618</a>\u001b[0m \u001b[39mif\u001b[39;00m \u001b[39mnot\u001b[39;00m \u001b[39misinstance\u001b[39m(\u001b[39mself\u001b[39m\u001b[39m.\u001b[39mindex, MultiIndex):\n\u001b[1;32m   <a href='file:///opt/anaconda3/envs/forecast_dashboard/lib/python3.9/site-packages/pandas/core/frame.py?line=3618'>3619</a>\u001b[0m     \u001b[39m# CategoricalIndex: Trying to use the engine fastpath may give incorrect\u001b[39;00m\n\u001b[1;32m   <a href='file:///opt/anaconda3/envs/forecast_dashboard/lib/python3.9/site-packages/pandas/core/frame.py?line=3619'>3620</a>\u001b[0m     \u001b[39m#  results if our categories are integers that dont match our codes\u001b[39;00m\n\u001b[1;32m   <a href='file:///opt/anaconda3/envs/forecast_dashboard/lib/python3.9/site-packages/pandas/core/frame.py?line=3620'>3621</a>\u001b[0m     \u001b[39m# IntervalIndex: IntervalTree has no get_loc\u001b[39;00m\n",
      "File \u001b[0;32m/opt/anaconda3/envs/forecast_dashboard/lib/python3.9/site-packages/pandas/core/frame.py:3931\u001b[0m, in \u001b[0;36mDataFrame._get_item_cache\u001b[0;34m(self, item)\u001b[0m\n\u001b[1;32m   <a href='file:///opt/anaconda3/envs/forecast_dashboard/lib/python3.9/site-packages/pandas/core/frame.py?line=3925'>3926</a>\u001b[0m res \u001b[39m=\u001b[39m cache\u001b[39m.\u001b[39mget(item)\n\u001b[1;32m   <a href='file:///opt/anaconda3/envs/forecast_dashboard/lib/python3.9/site-packages/pandas/core/frame.py?line=3926'>3927</a>\u001b[0m \u001b[39mif\u001b[39;00m res \u001b[39mis\u001b[39;00m \u001b[39mNone\u001b[39;00m:\n\u001b[1;32m   <a href='file:///opt/anaconda3/envs/forecast_dashboard/lib/python3.9/site-packages/pandas/core/frame.py?line=3927'>3928</a>\u001b[0m     \u001b[39m# All places that call _get_item_cache have unique columns,\u001b[39;00m\n\u001b[1;32m   <a href='file:///opt/anaconda3/envs/forecast_dashboard/lib/python3.9/site-packages/pandas/core/frame.py?line=3928'>3929</a>\u001b[0m     \u001b[39m#  pending resolution of GH#33047\u001b[39;00m\n\u001b[0;32m-> <a href='file:///opt/anaconda3/envs/forecast_dashboard/lib/python3.9/site-packages/pandas/core/frame.py?line=3930'>3931</a>\u001b[0m     loc \u001b[39m=\u001b[39m \u001b[39mself\u001b[39;49m\u001b[39m.\u001b[39;49mcolumns\u001b[39m.\u001b[39;49mget_loc(item)\n\u001b[1;32m   <a href='file:///opt/anaconda3/envs/forecast_dashboard/lib/python3.9/site-packages/pandas/core/frame.py?line=3931'>3932</a>\u001b[0m     res \u001b[39m=\u001b[39m \u001b[39mself\u001b[39m\u001b[39m.\u001b[39m_ixs(loc, axis\u001b[39m=\u001b[39m\u001b[39m1\u001b[39m)\n\u001b[1;32m   <a href='file:///opt/anaconda3/envs/forecast_dashboard/lib/python3.9/site-packages/pandas/core/frame.py?line=3933'>3934</a>\u001b[0m     cache[item] \u001b[39m=\u001b[39m res\n",
      "File \u001b[0;32m/opt/anaconda3/envs/forecast_dashboard/lib/python3.9/site-packages/pandas/core/indexes/base.py:3623\u001b[0m, in \u001b[0;36mIndex.get_loc\u001b[0;34m(self, key, method, tolerance)\u001b[0m\n\u001b[1;32m   <a href='file:///opt/anaconda3/envs/forecast_dashboard/lib/python3.9/site-packages/pandas/core/indexes/base.py?line=3620'>3621</a>\u001b[0m     \u001b[39mreturn\u001b[39;00m \u001b[39mself\u001b[39m\u001b[39m.\u001b[39m_engine\u001b[39m.\u001b[39mget_loc(casted_key)\n\u001b[1;32m   <a href='file:///opt/anaconda3/envs/forecast_dashboard/lib/python3.9/site-packages/pandas/core/indexes/base.py?line=3621'>3622</a>\u001b[0m \u001b[39mexcept\u001b[39;00m \u001b[39mKeyError\u001b[39;00m \u001b[39mas\u001b[39;00m err:\n\u001b[0;32m-> <a href='file:///opt/anaconda3/envs/forecast_dashboard/lib/python3.9/site-packages/pandas/core/indexes/base.py?line=3622'>3623</a>\u001b[0m     \u001b[39mraise\u001b[39;00m \u001b[39mKeyError\u001b[39;00m(key) \u001b[39mfrom\u001b[39;00m \u001b[39merr\u001b[39;00m\n\u001b[1;32m   <a href='file:///opt/anaconda3/envs/forecast_dashboard/lib/python3.9/site-packages/pandas/core/indexes/base.py?line=3623'>3624</a>\u001b[0m \u001b[39mexcept\u001b[39;00m \u001b[39mTypeError\u001b[39;00m:\n\u001b[1;32m   <a href='file:///opt/anaconda3/envs/forecast_dashboard/lib/python3.9/site-packages/pandas/core/indexes/base.py?line=3624'>3625</a>\u001b[0m     \u001b[39m# If we have a listlike key, _check_indexing_error will raise\u001b[39;00m\n\u001b[1;32m   <a href='file:///opt/anaconda3/envs/forecast_dashboard/lib/python3.9/site-packages/pandas/core/indexes/base.py?line=3625'>3626</a>\u001b[0m     \u001b[39m#  InvalidIndexError. Otherwise we fall through and re-raise\u001b[39;00m\n\u001b[1;32m   <a href='file:///opt/anaconda3/envs/forecast_dashboard/lib/python3.9/site-packages/pandas/core/indexes/base.py?line=3626'>3627</a>\u001b[0m     \u001b[39m#  the TypeError.\u001b[39;00m\n\u001b[1;32m   <a href='file:///opt/anaconda3/envs/forecast_dashboard/lib/python3.9/site-packages/pandas/core/indexes/base.py?line=3627'>3628</a>\u001b[0m     \u001b[39mself\u001b[39m\u001b[39m.\u001b[39m_check_indexing_error(key)\n",
      "\u001b[0;31mKeyError\u001b[0m: 'time'"
     ]
    }
   ],
   "source": [
    "for i in range(len(df)):\n",
    "    curr_time = df.loc[i, 'time'].split(':')[:2]\n",
    "    if int(curr_time[1]) < 30:\n",
    "        curr_time[0] = curr_time[0]\n",
    "        curr_time[1] = 0\n",
    "    else:\n",
    "        #print('yes')\n",
    "        curr_time[0] = int(curr_time[0]) + 1\n",
    "        curr_time[1] = 0\n",
    "    df.loc[i, 'agg_time'] = f'{curr_time[0]}:{curr_time[1]}'\n"
   ]
  },
  {
   "cell_type": "code",
   "execution_count": 81,
   "metadata": {},
   "outputs": [
    {
     "data": {
      "text/html": [
       "<div>\n",
       "<style scoped>\n",
       "    .dataframe tbody tr th:only-of-type {\n",
       "        vertical-align: middle;\n",
       "    }\n",
       "\n",
       "    .dataframe tbody tr th {\n",
       "        vertical-align: top;\n",
       "    }\n",
       "\n",
       "    .dataframe thead th {\n",
       "        text-align: right;\n",
       "    }\n",
       "</style>\n",
       "<table border=\"1\" class=\"dataframe\">\n",
       "  <thead>\n",
       "    <tr style=\"text-align: right;\">\n",
       "      <th></th>\n",
       "      <th>TransactionNo</th>\n",
       "      <th>Items</th>\n",
       "      <th>DateTime</th>\n",
       "      <th>Daypart</th>\n",
       "      <th>DayType</th>\n",
       "      <th>date</th>\n",
       "      <th>time</th>\n",
       "      <th>location</th>\n",
       "      <th>agg_time</th>\n",
       "    </tr>\n",
       "  </thead>\n",
       "  <tbody>\n",
       "    <tr>\n",
       "      <th>0</th>\n",
       "      <td>1</td>\n",
       "      <td>Bread</td>\n",
       "      <td>2016-10-30 09:58:11</td>\n",
       "      <td>Morning</td>\n",
       "      <td>Weekend</td>\n",
       "      <td>2016-10-30</td>\n",
       "      <td>09:58:11</td>\n",
       "      <td>Plattling</td>\n",
       "      <td>10:0</td>\n",
       "    </tr>\n",
       "    <tr>\n",
       "      <th>1</th>\n",
       "      <td>2</td>\n",
       "      <td>Scandinavian</td>\n",
       "      <td>2016-10-30 10:05:34</td>\n",
       "      <td>Morning</td>\n",
       "      <td>Weekend</td>\n",
       "      <td>2016-10-30</td>\n",
       "      <td>10:05:34</td>\n",
       "      <td>Plattling</td>\n",
       "      <td>10:0</td>\n",
       "    </tr>\n",
       "    <tr>\n",
       "      <th>2</th>\n",
       "      <td>2</td>\n",
       "      <td>Scandinavian</td>\n",
       "      <td>2016-10-30 10:05:34</td>\n",
       "      <td>Morning</td>\n",
       "      <td>Weekend</td>\n",
       "      <td>2016-10-30</td>\n",
       "      <td>10:05:34</td>\n",
       "      <td>Wallersdorf</td>\n",
       "      <td>10:0</td>\n",
       "    </tr>\n",
       "    <tr>\n",
       "      <th>3</th>\n",
       "      <td>3</td>\n",
       "      <td>Hot chocolate</td>\n",
       "      <td>2016-10-30 10:07:57</td>\n",
       "      <td>Morning</td>\n",
       "      <td>Weekend</td>\n",
       "      <td>2016-10-30</td>\n",
       "      <td>10:07:57</td>\n",
       "      <td>Deggendorf</td>\n",
       "      <td>10:0</td>\n",
       "    </tr>\n",
       "    <tr>\n",
       "      <th>4</th>\n",
       "      <td>3</td>\n",
       "      <td>Jam</td>\n",
       "      <td>2016-10-30 10:07:57</td>\n",
       "      <td>Morning</td>\n",
       "      <td>Weekend</td>\n",
       "      <td>2016-10-30</td>\n",
       "      <td>10:07:57</td>\n",
       "      <td>Wallersdorf</td>\n",
       "      <td>10:0</td>\n",
       "    </tr>\n",
       "  </tbody>\n",
       "</table>\n",
       "</div>"
      ],
      "text/plain": [
       "   TransactionNo          Items             DateTime  Daypart  DayType  \\\n",
       "0              1          Bread  2016-10-30 09:58:11  Morning  Weekend   \n",
       "1              2   Scandinavian  2016-10-30 10:05:34  Morning  Weekend   \n",
       "2              2   Scandinavian  2016-10-30 10:05:34  Morning  Weekend   \n",
       "3              3  Hot chocolate  2016-10-30 10:07:57  Morning  Weekend   \n",
       "4              3            Jam  2016-10-30 10:07:57  Morning  Weekend   \n",
       "\n",
       "         date      time     location agg_time  \n",
       "0  2016-10-30  09:58:11    Plattling     10:0  \n",
       "1  2016-10-30  10:05:34    Plattling     10:0  \n",
       "2  2016-10-30  10:05:34  Wallersdorf     10:0  \n",
       "3  2016-10-30  10:07:57   Deggendorf     10:0  \n",
       "4  2016-10-30  10:07:57  Wallersdorf     10:0  "
      ]
     },
     "execution_count": 81,
     "metadata": {},
     "output_type": "execute_result"
    }
   ],
   "source": [
    "df.head()"
   ]
  },
  {
   "cell_type": "code",
   "execution_count": 64,
   "metadata": {},
   "outputs": [
    {
     "data": {
      "text/plain": [
       "datetime.datetime(1900, 1, 1, 22, 30)"
      ]
     },
     "execution_count": 64,
     "metadata": {},
     "output_type": "execute_result"
    }
   ],
   "source": [
    "import datetime\n",
    "\n",
    "datetime.datetime.strptime('22:30', '%H:%M')"
   ]
  },
  {
   "cell_type": "code",
   "execution_count": 37,
   "metadata": {},
   "outputs": [
    {
     "ename": "KeyError",
     "evalue": "'agg_time'",
     "output_type": "error",
     "traceback": [
      "\u001b[0;31m---------------------------------------------------------------------------\u001b[0m",
      "\u001b[0;31mKeyError\u001b[0m                                  Traceback (most recent call last)",
      "File \u001b[0;32m/opt/anaconda3/envs/forecast_dashboard/lib/python3.9/site-packages/pandas/core/indexes/base.py:3621\u001b[0m, in \u001b[0;36mIndex.get_loc\u001b[0;34m(self, key, method, tolerance)\u001b[0m\n\u001b[1;32m   <a href='file:///opt/anaconda3/envs/forecast_dashboard/lib/python3.9/site-packages/pandas/core/indexes/base.py?line=3619'>3620</a>\u001b[0m \u001b[39mtry\u001b[39;00m:\n\u001b[0;32m-> <a href='file:///opt/anaconda3/envs/forecast_dashboard/lib/python3.9/site-packages/pandas/core/indexes/base.py?line=3620'>3621</a>\u001b[0m     \u001b[39mreturn\u001b[39;00m \u001b[39mself\u001b[39;49m\u001b[39m.\u001b[39;49m_engine\u001b[39m.\u001b[39;49mget_loc(casted_key)\n\u001b[1;32m   <a href='file:///opt/anaconda3/envs/forecast_dashboard/lib/python3.9/site-packages/pandas/core/indexes/base.py?line=3621'>3622</a>\u001b[0m \u001b[39mexcept\u001b[39;00m \u001b[39mKeyError\u001b[39;00m \u001b[39mas\u001b[39;00m err:\n",
      "File \u001b[0;32mpandas/_libs/index.pyx:136\u001b[0m, in \u001b[0;36mpandas._libs.index.IndexEngine.get_loc\u001b[0;34m()\u001b[0m\n",
      "File \u001b[0;32mpandas/_libs/index.pyx:163\u001b[0m, in \u001b[0;36mpandas._libs.index.IndexEngine.get_loc\u001b[0;34m()\u001b[0m\n",
      "File \u001b[0;32mpandas/_libs/hashtable_class_helper.pxi:5198\u001b[0m, in \u001b[0;36mpandas._libs.hashtable.PyObjectHashTable.get_item\u001b[0;34m()\u001b[0m\n",
      "File \u001b[0;32mpandas/_libs/hashtable_class_helper.pxi:5206\u001b[0m, in \u001b[0;36mpandas._libs.hashtable.PyObjectHashTable.get_item\u001b[0;34m()\u001b[0m\n",
      "\u001b[0;31mKeyError\u001b[0m: 'agg_time'",
      "\nThe above exception was the direct cause of the following exception:\n",
      "\u001b[0;31mKeyError\u001b[0m                                  Traceback (most recent call last)",
      "\u001b[1;32m/Users/stefanlippl/dev/forecast_dashboard/analysis.ipynb Cell 39'\u001b[0m in \u001b[0;36m<cell line: 3>\u001b[0;34m()\u001b[0m\n\u001b[1;32m      <a href='vscode-notebook-cell:/Users/stefanlippl/dev/forecast_dashboard/analysis.ipynb#ch0000047?line=0'>1</a>\u001b[0m \u001b[39mfrom\u001b[39;00m \u001b[39mdatetime\u001b[39;00m \u001b[39mimport\u001b[39;00m datetime\n\u001b[1;32m      <a href='vscode-notebook-cell:/Users/stefanlippl/dev/forecast_dashboard/analysis.ipynb#ch0000047?line=2'>3</a>\u001b[0m \u001b[39mfor\u001b[39;00m i \u001b[39min\u001b[39;00m \u001b[39mrange\u001b[39m(\u001b[39mlen\u001b[39m(df)):\n\u001b[0;32m----> <a href='vscode-notebook-cell:/Users/stefanlippl/dev/forecast_dashboard/analysis.ipynb#ch0000047?line=3'>4</a>\u001b[0m     curr_time \u001b[39m=\u001b[39m df\u001b[39m.\u001b[39;49mloc[i, \u001b[39m'\u001b[39;49m\u001b[39magg_time\u001b[39;49m\u001b[39m'\u001b[39;49m]\n\u001b[1;32m      <a href='vscode-notebook-cell:/Users/stefanlippl/dev/forecast_dashboard/analysis.ipynb#ch0000047?line=4'>5</a>\u001b[0m     t \u001b[39m=\u001b[39m datetime\u001b[39m.\u001b[39mdatetime\u001b[39m.\u001b[39mstrptime(\u001b[39mstr\u001b[39m(curr_time), \u001b[39m'\u001b[39m\u001b[39m%\u001b[39m\u001b[39mH:\u001b[39m\u001b[39m%\u001b[39m\u001b[39mM\u001b[39m\u001b[39m'\u001b[39m)\n\u001b[1;32m      <a href='vscode-notebook-cell:/Users/stefanlippl/dev/forecast_dashboard/analysis.ipynb#ch0000047?line=5'>6</a>\u001b[0m     df\u001b[39m.\u001b[39mloc[i, \u001b[39m'\u001b[39m\u001b[39magg_time\u001b[39m\u001b[39m'\u001b[39m] \u001b[39m=\u001b[39m t\n",
      "File \u001b[0;32m/opt/anaconda3/envs/forecast_dashboard/lib/python3.9/site-packages/pandas/core/indexing.py:960\u001b[0m, in \u001b[0;36m_LocationIndexer.__getitem__\u001b[0;34m(self, key)\u001b[0m\n\u001b[1;32m    <a href='file:///opt/anaconda3/envs/forecast_dashboard/lib/python3.9/site-packages/pandas/core/indexing.py?line=957'>958</a>\u001b[0m     key \u001b[39m=\u001b[39m \u001b[39mtuple\u001b[39m(com\u001b[39m.\u001b[39mapply_if_callable(x, \u001b[39mself\u001b[39m\u001b[39m.\u001b[39mobj) \u001b[39mfor\u001b[39;00m x \u001b[39min\u001b[39;00m key)\n\u001b[1;32m    <a href='file:///opt/anaconda3/envs/forecast_dashboard/lib/python3.9/site-packages/pandas/core/indexing.py?line=958'>959</a>\u001b[0m     \u001b[39mif\u001b[39;00m \u001b[39mself\u001b[39m\u001b[39m.\u001b[39m_is_scalar_access(key):\n\u001b[0;32m--> <a href='file:///opt/anaconda3/envs/forecast_dashboard/lib/python3.9/site-packages/pandas/core/indexing.py?line=959'>960</a>\u001b[0m         \u001b[39mreturn\u001b[39;00m \u001b[39mself\u001b[39;49m\u001b[39m.\u001b[39;49mobj\u001b[39m.\u001b[39;49m_get_value(\u001b[39m*\u001b[39;49mkey, takeable\u001b[39m=\u001b[39;49m\u001b[39mself\u001b[39;49m\u001b[39m.\u001b[39;49m_takeable)\n\u001b[1;32m    <a href='file:///opt/anaconda3/envs/forecast_dashboard/lib/python3.9/site-packages/pandas/core/indexing.py?line=960'>961</a>\u001b[0m     \u001b[39mreturn\u001b[39;00m \u001b[39mself\u001b[39m\u001b[39m.\u001b[39m_getitem_tuple(key)\n\u001b[1;32m    <a href='file:///opt/anaconda3/envs/forecast_dashboard/lib/python3.9/site-packages/pandas/core/indexing.py?line=961'>962</a>\u001b[0m \u001b[39melse\u001b[39;00m:\n\u001b[1;32m    <a href='file:///opt/anaconda3/envs/forecast_dashboard/lib/python3.9/site-packages/pandas/core/indexing.py?line=962'>963</a>\u001b[0m     \u001b[39m# we by definition only have the 0th axis\u001b[39;00m\n",
      "File \u001b[0;32m/opt/anaconda3/envs/forecast_dashboard/lib/python3.9/site-packages/pandas/core/frame.py:3615\u001b[0m, in \u001b[0;36mDataFrame._get_value\u001b[0;34m(self, index, col, takeable)\u001b[0m\n\u001b[1;32m   <a href='file:///opt/anaconda3/envs/forecast_dashboard/lib/python3.9/site-packages/pandas/core/frame.py?line=3611'>3612</a>\u001b[0m     series \u001b[39m=\u001b[39m \u001b[39mself\u001b[39m\u001b[39m.\u001b[39m_ixs(col, axis\u001b[39m=\u001b[39m\u001b[39m1\u001b[39m)\n\u001b[1;32m   <a href='file:///opt/anaconda3/envs/forecast_dashboard/lib/python3.9/site-packages/pandas/core/frame.py?line=3612'>3613</a>\u001b[0m     \u001b[39mreturn\u001b[39;00m series\u001b[39m.\u001b[39m_values[index]\n\u001b[0;32m-> <a href='file:///opt/anaconda3/envs/forecast_dashboard/lib/python3.9/site-packages/pandas/core/frame.py?line=3614'>3615</a>\u001b[0m series \u001b[39m=\u001b[39m \u001b[39mself\u001b[39;49m\u001b[39m.\u001b[39;49m_get_item_cache(col)\n\u001b[1;32m   <a href='file:///opt/anaconda3/envs/forecast_dashboard/lib/python3.9/site-packages/pandas/core/frame.py?line=3615'>3616</a>\u001b[0m engine \u001b[39m=\u001b[39m \u001b[39mself\u001b[39m\u001b[39m.\u001b[39mindex\u001b[39m.\u001b[39m_engine\n\u001b[1;32m   <a href='file:///opt/anaconda3/envs/forecast_dashboard/lib/python3.9/site-packages/pandas/core/frame.py?line=3617'>3618</a>\u001b[0m \u001b[39mif\u001b[39;00m \u001b[39mnot\u001b[39;00m \u001b[39misinstance\u001b[39m(\u001b[39mself\u001b[39m\u001b[39m.\u001b[39mindex, MultiIndex):\n\u001b[1;32m   <a href='file:///opt/anaconda3/envs/forecast_dashboard/lib/python3.9/site-packages/pandas/core/frame.py?line=3618'>3619</a>\u001b[0m     \u001b[39m# CategoricalIndex: Trying to use the engine fastpath may give incorrect\u001b[39;00m\n\u001b[1;32m   <a href='file:///opt/anaconda3/envs/forecast_dashboard/lib/python3.9/site-packages/pandas/core/frame.py?line=3619'>3620</a>\u001b[0m     \u001b[39m#  results if our categories are integers that dont match our codes\u001b[39;00m\n\u001b[1;32m   <a href='file:///opt/anaconda3/envs/forecast_dashboard/lib/python3.9/site-packages/pandas/core/frame.py?line=3620'>3621</a>\u001b[0m     \u001b[39m# IntervalIndex: IntervalTree has no get_loc\u001b[39;00m\n",
      "File \u001b[0;32m/opt/anaconda3/envs/forecast_dashboard/lib/python3.9/site-packages/pandas/core/frame.py:3931\u001b[0m, in \u001b[0;36mDataFrame._get_item_cache\u001b[0;34m(self, item)\u001b[0m\n\u001b[1;32m   <a href='file:///opt/anaconda3/envs/forecast_dashboard/lib/python3.9/site-packages/pandas/core/frame.py?line=3925'>3926</a>\u001b[0m res \u001b[39m=\u001b[39m cache\u001b[39m.\u001b[39mget(item)\n\u001b[1;32m   <a href='file:///opt/anaconda3/envs/forecast_dashboard/lib/python3.9/site-packages/pandas/core/frame.py?line=3926'>3927</a>\u001b[0m \u001b[39mif\u001b[39;00m res \u001b[39mis\u001b[39;00m \u001b[39mNone\u001b[39;00m:\n\u001b[1;32m   <a href='file:///opt/anaconda3/envs/forecast_dashboard/lib/python3.9/site-packages/pandas/core/frame.py?line=3927'>3928</a>\u001b[0m     \u001b[39m# All places that call _get_item_cache have unique columns,\u001b[39;00m\n\u001b[1;32m   <a href='file:///opt/anaconda3/envs/forecast_dashboard/lib/python3.9/site-packages/pandas/core/frame.py?line=3928'>3929</a>\u001b[0m     \u001b[39m#  pending resolution of GH#33047\u001b[39;00m\n\u001b[0;32m-> <a href='file:///opt/anaconda3/envs/forecast_dashboard/lib/python3.9/site-packages/pandas/core/frame.py?line=3930'>3931</a>\u001b[0m     loc \u001b[39m=\u001b[39m \u001b[39mself\u001b[39;49m\u001b[39m.\u001b[39;49mcolumns\u001b[39m.\u001b[39;49mget_loc(item)\n\u001b[1;32m   <a href='file:///opt/anaconda3/envs/forecast_dashboard/lib/python3.9/site-packages/pandas/core/frame.py?line=3931'>3932</a>\u001b[0m     res \u001b[39m=\u001b[39m \u001b[39mself\u001b[39m\u001b[39m.\u001b[39m_ixs(loc, axis\u001b[39m=\u001b[39m\u001b[39m1\u001b[39m)\n\u001b[1;32m   <a href='file:///opt/anaconda3/envs/forecast_dashboard/lib/python3.9/site-packages/pandas/core/frame.py?line=3933'>3934</a>\u001b[0m     cache[item] \u001b[39m=\u001b[39m res\n",
      "File \u001b[0;32m/opt/anaconda3/envs/forecast_dashboard/lib/python3.9/site-packages/pandas/core/indexes/base.py:3623\u001b[0m, in \u001b[0;36mIndex.get_loc\u001b[0;34m(self, key, method, tolerance)\u001b[0m\n\u001b[1;32m   <a href='file:///opt/anaconda3/envs/forecast_dashboard/lib/python3.9/site-packages/pandas/core/indexes/base.py?line=3620'>3621</a>\u001b[0m     \u001b[39mreturn\u001b[39;00m \u001b[39mself\u001b[39m\u001b[39m.\u001b[39m_engine\u001b[39m.\u001b[39mget_loc(casted_key)\n\u001b[1;32m   <a href='file:///opt/anaconda3/envs/forecast_dashboard/lib/python3.9/site-packages/pandas/core/indexes/base.py?line=3621'>3622</a>\u001b[0m \u001b[39mexcept\u001b[39;00m \u001b[39mKeyError\u001b[39;00m \u001b[39mas\u001b[39;00m err:\n\u001b[0;32m-> <a href='file:///opt/anaconda3/envs/forecast_dashboard/lib/python3.9/site-packages/pandas/core/indexes/base.py?line=3622'>3623</a>\u001b[0m     \u001b[39mraise\u001b[39;00m \u001b[39mKeyError\u001b[39;00m(key) \u001b[39mfrom\u001b[39;00m \u001b[39merr\u001b[39;00m\n\u001b[1;32m   <a href='file:///opt/anaconda3/envs/forecast_dashboard/lib/python3.9/site-packages/pandas/core/indexes/base.py?line=3623'>3624</a>\u001b[0m \u001b[39mexcept\u001b[39;00m \u001b[39mTypeError\u001b[39;00m:\n\u001b[1;32m   <a href='file:///opt/anaconda3/envs/forecast_dashboard/lib/python3.9/site-packages/pandas/core/indexes/base.py?line=3624'>3625</a>\u001b[0m     \u001b[39m# If we have a listlike key, _check_indexing_error will raise\u001b[39;00m\n\u001b[1;32m   <a href='file:///opt/anaconda3/envs/forecast_dashboard/lib/python3.9/site-packages/pandas/core/indexes/base.py?line=3625'>3626</a>\u001b[0m     \u001b[39m#  InvalidIndexError. Otherwise we fall through and re-raise\u001b[39;00m\n\u001b[1;32m   <a href='file:///opt/anaconda3/envs/forecast_dashboard/lib/python3.9/site-packages/pandas/core/indexes/base.py?line=3626'>3627</a>\u001b[0m     \u001b[39m#  the TypeError.\u001b[39;00m\n\u001b[1;32m   <a href='file:///opt/anaconda3/envs/forecast_dashboard/lib/python3.9/site-packages/pandas/core/indexes/base.py?line=3627'>3628</a>\u001b[0m     \u001b[39mself\u001b[39m\u001b[39m.\u001b[39m_check_indexing_error(key)\n",
      "\u001b[0;31mKeyError\u001b[0m: 'agg_time'"
     ]
    }
   ],
   "source": [
    "from datetime import datetime\n",
    "\n",
    "for i in range(len(df)):\n",
    "    curr_time = df.loc[i, 'agg_time']\n",
    "    t = datetime.datetime.strptime(str(curr_time), '%H:%M')\n",
    "    df.loc[i, 'agg_time'] = t"
   ]
  },
  {
   "cell_type": "code",
   "execution_count": 46,
   "metadata": {},
   "outputs": [
    {
     "data": {
      "text/html": [
       "<div>\n",
       "<style scoped>\n",
       "    .dataframe tbody tr th:only-of-type {\n",
       "        vertical-align: middle;\n",
       "    }\n",
       "\n",
       "    .dataframe tbody tr th {\n",
       "        vertical-align: top;\n",
       "    }\n",
       "\n",
       "    .dataframe thead th {\n",
       "        text-align: right;\n",
       "    }\n",
       "</style>\n",
       "<table border=\"1\" class=\"dataframe\">\n",
       "  <thead>\n",
       "    <tr style=\"text-align: right;\">\n",
       "      <th></th>\n",
       "      <th>TransactionNo</th>\n",
       "      <th>Items</th>\n",
       "      <th>DateTime</th>\n",
       "      <th>Daypart</th>\n",
       "      <th>DayType</th>\n",
       "      <th>date</th>\n",
       "      <th>time</th>\n",
       "      <th>location</th>\n",
       "      <th>agg_time</th>\n",
       "    </tr>\n",
       "  </thead>\n",
       "  <tbody>\n",
       "    <tr>\n",
       "      <th>0</th>\n",
       "      <td>1</td>\n",
       "      <td>Bread</td>\n",
       "      <td>2016-10-30 09:58:11</td>\n",
       "      <td>Morning</td>\n",
       "      <td>Weekend</td>\n",
       "      <td>2016-10-30</td>\n",
       "      <td>09:58:11</td>\n",
       "      <td>Plattling</td>\n",
       "      <td>10:0</td>\n",
       "    </tr>\n",
       "    <tr>\n",
       "      <th>1</th>\n",
       "      <td>2</td>\n",
       "      <td>Scandinavian</td>\n",
       "      <td>2016-10-30 10:05:34</td>\n",
       "      <td>Morning</td>\n",
       "      <td>Weekend</td>\n",
       "      <td>2016-10-30</td>\n",
       "      <td>10:05:34</td>\n",
       "      <td>Plattling</td>\n",
       "      <td>10:0</td>\n",
       "    </tr>\n",
       "    <tr>\n",
       "      <th>2</th>\n",
       "      <td>2</td>\n",
       "      <td>Scandinavian</td>\n",
       "      <td>2016-10-30 10:05:34</td>\n",
       "      <td>Morning</td>\n",
       "      <td>Weekend</td>\n",
       "      <td>2016-10-30</td>\n",
       "      <td>10:05:34</td>\n",
       "      <td>Wallersdorf</td>\n",
       "      <td>10:0</td>\n",
       "    </tr>\n",
       "    <tr>\n",
       "      <th>3</th>\n",
       "      <td>3</td>\n",
       "      <td>Hot chocolate</td>\n",
       "      <td>2016-10-30 10:07:57</td>\n",
       "      <td>Morning</td>\n",
       "      <td>Weekend</td>\n",
       "      <td>2016-10-30</td>\n",
       "      <td>10:07:57</td>\n",
       "      <td>Deggendorf</td>\n",
       "      <td>10:0</td>\n",
       "    </tr>\n",
       "    <tr>\n",
       "      <th>4</th>\n",
       "      <td>3</td>\n",
       "      <td>Jam</td>\n",
       "      <td>2016-10-30 10:07:57</td>\n",
       "      <td>Morning</td>\n",
       "      <td>Weekend</td>\n",
       "      <td>2016-10-30</td>\n",
       "      <td>10:07:57</td>\n",
       "      <td>Wallersdorf</td>\n",
       "      <td>10:0</td>\n",
       "    </tr>\n",
       "    <tr>\n",
       "      <th>...</th>\n",
       "      <td>...</td>\n",
       "      <td>...</td>\n",
       "      <td>...</td>\n",
       "      <td>...</td>\n",
       "      <td>...</td>\n",
       "      <td>...</td>\n",
       "      <td>...</td>\n",
       "      <td>...</td>\n",
       "      <td>...</td>\n",
       "    </tr>\n",
       "    <tr>\n",
       "      <th>20502</th>\n",
       "      <td>9682</td>\n",
       "      <td>Coffee</td>\n",
       "      <td>2017-09-04 14:32:58</td>\n",
       "      <td>Afternoon</td>\n",
       "      <td>Weekend</td>\n",
       "      <td>2017-09-04</td>\n",
       "      <td>14:32:58</td>\n",
       "      <td>Wallersdorf</td>\n",
       "      <td>15:0</td>\n",
       "    </tr>\n",
       "    <tr>\n",
       "      <th>20503</th>\n",
       "      <td>9682</td>\n",
       "      <td>Tea</td>\n",
       "      <td>2017-09-04 14:32:58</td>\n",
       "      <td>Afternoon</td>\n",
       "      <td>Weekend</td>\n",
       "      <td>2017-09-04</td>\n",
       "      <td>14:32:58</td>\n",
       "      <td>Wallersdorf</td>\n",
       "      <td>15:0</td>\n",
       "    </tr>\n",
       "    <tr>\n",
       "      <th>20504</th>\n",
       "      <td>9683</td>\n",
       "      <td>Coffee</td>\n",
       "      <td>2017-09-04 14:57:06</td>\n",
       "      <td>Afternoon</td>\n",
       "      <td>Weekend</td>\n",
       "      <td>2017-09-04</td>\n",
       "      <td>14:57:06</td>\n",
       "      <td>Wallersdorf</td>\n",
       "      <td>15:0</td>\n",
       "    </tr>\n",
       "    <tr>\n",
       "      <th>20505</th>\n",
       "      <td>9683</td>\n",
       "      <td>Pastry</td>\n",
       "      <td>2017-09-04 14:57:06</td>\n",
       "      <td>Afternoon</td>\n",
       "      <td>Weekend</td>\n",
       "      <td>2017-09-04</td>\n",
       "      <td>14:57:06</td>\n",
       "      <td>Wallersdorf</td>\n",
       "      <td>15:0</td>\n",
       "    </tr>\n",
       "    <tr>\n",
       "      <th>20506</th>\n",
       "      <td>9684</td>\n",
       "      <td>Smoothies</td>\n",
       "      <td>2017-09-04 15:04:24</td>\n",
       "      <td>Afternoon</td>\n",
       "      <td>Weekend</td>\n",
       "      <td>2017-09-04</td>\n",
       "      <td>15:04:24</td>\n",
       "      <td>Wallersdorf</td>\n",
       "      <td>15:0</td>\n",
       "    </tr>\n",
       "  </tbody>\n",
       "</table>\n",
       "<p>20507 rows × 9 columns</p>\n",
       "</div>"
      ],
      "text/plain": [
       "       TransactionNo          Items             DateTime    Daypart  DayType  \\\n",
       "0                  1          Bread  2016-10-30 09:58:11    Morning  Weekend   \n",
       "1                  2   Scandinavian  2016-10-30 10:05:34    Morning  Weekend   \n",
       "2                  2   Scandinavian  2016-10-30 10:05:34    Morning  Weekend   \n",
       "3                  3  Hot chocolate  2016-10-30 10:07:57    Morning  Weekend   \n",
       "4                  3            Jam  2016-10-30 10:07:57    Morning  Weekend   \n",
       "...              ...            ...                  ...        ...      ...   \n",
       "20502           9682         Coffee  2017-09-04 14:32:58  Afternoon  Weekend   \n",
       "20503           9682            Tea  2017-09-04 14:32:58  Afternoon  Weekend   \n",
       "20504           9683         Coffee  2017-09-04 14:57:06  Afternoon  Weekend   \n",
       "20505           9683         Pastry  2017-09-04 14:57:06  Afternoon  Weekend   \n",
       "20506           9684      Smoothies  2017-09-04 15:04:24  Afternoon  Weekend   \n",
       "\n",
       "             date      time     location agg_time  \n",
       "0      2016-10-30  09:58:11    Plattling     10:0  \n",
       "1      2016-10-30  10:05:34    Plattling     10:0  \n",
       "2      2016-10-30  10:05:34  Wallersdorf     10:0  \n",
       "3      2016-10-30  10:07:57   Deggendorf     10:0  \n",
       "4      2016-10-30  10:07:57  Wallersdorf     10:0  \n",
       "...           ...       ...          ...      ...  \n",
       "20502  2017-09-04  14:32:58  Wallersdorf     15:0  \n",
       "20503  2017-09-04  14:32:58  Wallersdorf     15:0  \n",
       "20504  2017-09-04  14:57:06  Wallersdorf     15:0  \n",
       "20505  2017-09-04  14:57:06  Wallersdorf     15:0  \n",
       "20506  2017-09-04  15:04:24  Wallersdorf     15:0  \n",
       "\n",
       "[20507 rows x 9 columns]"
      ]
     },
     "execution_count": 46,
     "metadata": {},
     "output_type": "execute_result"
    }
   ],
   "source": [
    "df"
   ]
  },
  {
   "cell_type": "code",
   "execution_count": 36,
   "metadata": {},
   "outputs": [
    {
     "ename": "KeyError",
     "evalue": "'agg_time'",
     "output_type": "error",
     "traceback": [
      "\u001b[0;31m---------------------------------------------------------------------------\u001b[0m",
      "\u001b[0;31mKeyError\u001b[0m                                  Traceback (most recent call last)",
      "\u001b[1;32m/Users/stefanlippl/dev/forecast_dashboard/analysis.ipynb Cell 41'\u001b[0m in \u001b[0;36m<cell line: 1>\u001b[0;34m()\u001b[0m\n\u001b[0;32m----> <a href='vscode-notebook-cell:/Users/stefanlippl/dev/forecast_dashboard/analysis.ipynb#ch0000044?line=0'>1</a>\u001b[0m ser_time \u001b[39m=\u001b[39m df\u001b[39m.\u001b[39;49mgroupby(\u001b[39m'\u001b[39;49m\u001b[39magg_time\u001b[39;49m\u001b[39m'\u001b[39;49m)\u001b[39m.\u001b[39msize()\u001b[39m.\u001b[39msort_index()\n",
      "File \u001b[0;32m/opt/anaconda3/envs/forecast_dashboard/lib/python3.9/site-packages/pandas/core/frame.py:7712\u001b[0m, in \u001b[0;36mDataFrame.groupby\u001b[0;34m(self, by, axis, level, as_index, sort, group_keys, squeeze, observed, dropna)\u001b[0m\n\u001b[1;32m   <a href='file:///opt/anaconda3/envs/forecast_dashboard/lib/python3.9/site-packages/pandas/core/frame.py?line=7706'>7707</a>\u001b[0m axis \u001b[39m=\u001b[39m \u001b[39mself\u001b[39m\u001b[39m.\u001b[39m_get_axis_number(axis)\n\u001b[1;32m   <a href='file:///opt/anaconda3/envs/forecast_dashboard/lib/python3.9/site-packages/pandas/core/frame.py?line=7708'>7709</a>\u001b[0m \u001b[39m# https://github.com/python/mypy/issues/7642\u001b[39;00m\n\u001b[1;32m   <a href='file:///opt/anaconda3/envs/forecast_dashboard/lib/python3.9/site-packages/pandas/core/frame.py?line=7709'>7710</a>\u001b[0m \u001b[39m# error: Argument \"squeeze\" to \"DataFrameGroupBy\" has incompatible type\u001b[39;00m\n\u001b[1;32m   <a href='file:///opt/anaconda3/envs/forecast_dashboard/lib/python3.9/site-packages/pandas/core/frame.py?line=7710'>7711</a>\u001b[0m \u001b[39m# \"Union[bool, NoDefault]\"; expected \"bool\"\u001b[39;00m\n\u001b[0;32m-> <a href='file:///opt/anaconda3/envs/forecast_dashboard/lib/python3.9/site-packages/pandas/core/frame.py?line=7711'>7712</a>\u001b[0m \u001b[39mreturn\u001b[39;00m DataFrameGroupBy(\n\u001b[1;32m   <a href='file:///opt/anaconda3/envs/forecast_dashboard/lib/python3.9/site-packages/pandas/core/frame.py?line=7712'>7713</a>\u001b[0m     obj\u001b[39m=\u001b[39;49m\u001b[39mself\u001b[39;49m,\n\u001b[1;32m   <a href='file:///opt/anaconda3/envs/forecast_dashboard/lib/python3.9/site-packages/pandas/core/frame.py?line=7713'>7714</a>\u001b[0m     keys\u001b[39m=\u001b[39;49mby,\n\u001b[1;32m   <a href='file:///opt/anaconda3/envs/forecast_dashboard/lib/python3.9/site-packages/pandas/core/frame.py?line=7714'>7715</a>\u001b[0m     axis\u001b[39m=\u001b[39;49maxis,\n\u001b[1;32m   <a href='file:///opt/anaconda3/envs/forecast_dashboard/lib/python3.9/site-packages/pandas/core/frame.py?line=7715'>7716</a>\u001b[0m     level\u001b[39m=\u001b[39;49mlevel,\n\u001b[1;32m   <a href='file:///opt/anaconda3/envs/forecast_dashboard/lib/python3.9/site-packages/pandas/core/frame.py?line=7716'>7717</a>\u001b[0m     as_index\u001b[39m=\u001b[39;49mas_index,\n\u001b[1;32m   <a href='file:///opt/anaconda3/envs/forecast_dashboard/lib/python3.9/site-packages/pandas/core/frame.py?line=7717'>7718</a>\u001b[0m     sort\u001b[39m=\u001b[39;49msort,\n\u001b[1;32m   <a href='file:///opt/anaconda3/envs/forecast_dashboard/lib/python3.9/site-packages/pandas/core/frame.py?line=7718'>7719</a>\u001b[0m     group_keys\u001b[39m=\u001b[39;49mgroup_keys,\n\u001b[1;32m   <a href='file:///opt/anaconda3/envs/forecast_dashboard/lib/python3.9/site-packages/pandas/core/frame.py?line=7719'>7720</a>\u001b[0m     squeeze\u001b[39m=\u001b[39;49msqueeze,  \u001b[39m# type: ignore[arg-type]\u001b[39;49;00m\n\u001b[1;32m   <a href='file:///opt/anaconda3/envs/forecast_dashboard/lib/python3.9/site-packages/pandas/core/frame.py?line=7720'>7721</a>\u001b[0m     observed\u001b[39m=\u001b[39;49mobserved,\n\u001b[1;32m   <a href='file:///opt/anaconda3/envs/forecast_dashboard/lib/python3.9/site-packages/pandas/core/frame.py?line=7721'>7722</a>\u001b[0m     dropna\u001b[39m=\u001b[39;49mdropna,\n\u001b[1;32m   <a href='file:///opt/anaconda3/envs/forecast_dashboard/lib/python3.9/site-packages/pandas/core/frame.py?line=7722'>7723</a>\u001b[0m )\n",
      "File \u001b[0;32m/opt/anaconda3/envs/forecast_dashboard/lib/python3.9/site-packages/pandas/core/groupby/groupby.py:882\u001b[0m, in \u001b[0;36mGroupBy.__init__\u001b[0;34m(self, obj, keys, axis, level, grouper, exclusions, selection, as_index, sort, group_keys, squeeze, observed, mutated, dropna)\u001b[0m\n\u001b[1;32m    <a href='file:///opt/anaconda3/envs/forecast_dashboard/lib/python3.9/site-packages/pandas/core/groupby/groupby.py?line=878'>879</a>\u001b[0m \u001b[39mif\u001b[39;00m grouper \u001b[39mis\u001b[39;00m \u001b[39mNone\u001b[39;00m:\n\u001b[1;32m    <a href='file:///opt/anaconda3/envs/forecast_dashboard/lib/python3.9/site-packages/pandas/core/groupby/groupby.py?line=879'>880</a>\u001b[0m     \u001b[39mfrom\u001b[39;00m \u001b[39mpandas\u001b[39;00m\u001b[39m.\u001b[39;00m\u001b[39mcore\u001b[39;00m\u001b[39m.\u001b[39;00m\u001b[39mgroupby\u001b[39;00m\u001b[39m.\u001b[39;00m\u001b[39mgrouper\u001b[39;00m \u001b[39mimport\u001b[39;00m get_grouper\n\u001b[0;32m--> <a href='file:///opt/anaconda3/envs/forecast_dashboard/lib/python3.9/site-packages/pandas/core/groupby/groupby.py?line=881'>882</a>\u001b[0m     grouper, exclusions, obj \u001b[39m=\u001b[39m get_grouper(\n\u001b[1;32m    <a href='file:///opt/anaconda3/envs/forecast_dashboard/lib/python3.9/site-packages/pandas/core/groupby/groupby.py?line=882'>883</a>\u001b[0m         obj,\n\u001b[1;32m    <a href='file:///opt/anaconda3/envs/forecast_dashboard/lib/python3.9/site-packages/pandas/core/groupby/groupby.py?line=883'>884</a>\u001b[0m         keys,\n\u001b[1;32m    <a href='file:///opt/anaconda3/envs/forecast_dashboard/lib/python3.9/site-packages/pandas/core/groupby/groupby.py?line=884'>885</a>\u001b[0m         axis\u001b[39m=\u001b[39;49maxis,\n\u001b[1;32m    <a href='file:///opt/anaconda3/envs/forecast_dashboard/lib/python3.9/site-packages/pandas/core/groupby/groupby.py?line=885'>886</a>\u001b[0m         level\u001b[39m=\u001b[39;49mlevel,\n\u001b[1;32m    <a href='file:///opt/anaconda3/envs/forecast_dashboard/lib/python3.9/site-packages/pandas/core/groupby/groupby.py?line=886'>887</a>\u001b[0m         sort\u001b[39m=\u001b[39;49msort,\n\u001b[1;32m    <a href='file:///opt/anaconda3/envs/forecast_dashboard/lib/python3.9/site-packages/pandas/core/groupby/groupby.py?line=887'>888</a>\u001b[0m         observed\u001b[39m=\u001b[39;49mobserved,\n\u001b[1;32m    <a href='file:///opt/anaconda3/envs/forecast_dashboard/lib/python3.9/site-packages/pandas/core/groupby/groupby.py?line=888'>889</a>\u001b[0m         mutated\u001b[39m=\u001b[39;49m\u001b[39mself\u001b[39;49m\u001b[39m.\u001b[39;49mmutated,\n\u001b[1;32m    <a href='file:///opt/anaconda3/envs/forecast_dashboard/lib/python3.9/site-packages/pandas/core/groupby/groupby.py?line=889'>890</a>\u001b[0m         dropna\u001b[39m=\u001b[39;49m\u001b[39mself\u001b[39;49m\u001b[39m.\u001b[39;49mdropna,\n\u001b[1;32m    <a href='file:///opt/anaconda3/envs/forecast_dashboard/lib/python3.9/site-packages/pandas/core/groupby/groupby.py?line=890'>891</a>\u001b[0m     )\n\u001b[1;32m    <a href='file:///opt/anaconda3/envs/forecast_dashboard/lib/python3.9/site-packages/pandas/core/groupby/groupby.py?line=892'>893</a>\u001b[0m \u001b[39mself\u001b[39m\u001b[39m.\u001b[39mobj \u001b[39m=\u001b[39m obj\n\u001b[1;32m    <a href='file:///opt/anaconda3/envs/forecast_dashboard/lib/python3.9/site-packages/pandas/core/groupby/groupby.py?line=893'>894</a>\u001b[0m \u001b[39mself\u001b[39m\u001b[39m.\u001b[39maxis \u001b[39m=\u001b[39m obj\u001b[39m.\u001b[39m_get_axis_number(axis)\n",
      "File \u001b[0;32m/opt/anaconda3/envs/forecast_dashboard/lib/python3.9/site-packages/pandas/core/groupby/grouper.py:882\u001b[0m, in \u001b[0;36mget_grouper\u001b[0;34m(obj, key, axis, level, sort, observed, mutated, validate, dropna)\u001b[0m\n\u001b[1;32m    <a href='file:///opt/anaconda3/envs/forecast_dashboard/lib/python3.9/site-packages/pandas/core/groupby/grouper.py?line=879'>880</a>\u001b[0m         in_axis, level, gpr \u001b[39m=\u001b[39m \u001b[39mFalse\u001b[39;00m, gpr, \u001b[39mNone\u001b[39;00m\n\u001b[1;32m    <a href='file:///opt/anaconda3/envs/forecast_dashboard/lib/python3.9/site-packages/pandas/core/groupby/grouper.py?line=880'>881</a>\u001b[0m     \u001b[39melse\u001b[39;00m:\n\u001b[0;32m--> <a href='file:///opt/anaconda3/envs/forecast_dashboard/lib/python3.9/site-packages/pandas/core/groupby/grouper.py?line=881'>882</a>\u001b[0m         \u001b[39mraise\u001b[39;00m \u001b[39mKeyError\u001b[39;00m(gpr)\n\u001b[1;32m    <a href='file:///opt/anaconda3/envs/forecast_dashboard/lib/python3.9/site-packages/pandas/core/groupby/grouper.py?line=882'>883</a>\u001b[0m \u001b[39melif\u001b[39;00m \u001b[39misinstance\u001b[39m(gpr, Grouper) \u001b[39mand\u001b[39;00m gpr\u001b[39m.\u001b[39mkey \u001b[39mis\u001b[39;00m \u001b[39mnot\u001b[39;00m \u001b[39mNone\u001b[39;00m:\n\u001b[1;32m    <a href='file:///opt/anaconda3/envs/forecast_dashboard/lib/python3.9/site-packages/pandas/core/groupby/grouper.py?line=883'>884</a>\u001b[0m     \u001b[39m# Add key to exclusions\u001b[39;00m\n\u001b[1;32m    <a href='file:///opt/anaconda3/envs/forecast_dashboard/lib/python3.9/site-packages/pandas/core/groupby/grouper.py?line=884'>885</a>\u001b[0m     exclusions\u001b[39m.\u001b[39madd(gpr\u001b[39m.\u001b[39mkey)\n",
      "\u001b[0;31mKeyError\u001b[0m: 'agg_time'"
     ]
    }
   ],
   "source": [
    "ser_time = df.groupby('agg_time').size().sort_index()"
   ]
  },
  {
   "cell_type": "code",
   "execution_count": 83,
   "metadata": {},
   "outputs": [
    {
     "data": {
      "application/vnd.plotly.v1+json": {
       "config": {
        "plotlyServerURL": "https://plot.ly"
       },
       "data": [
        {
         "alignmentgroup": "True",
         "bingroup": "x",
         "histfunc": "sum",
         "hovertemplate": "agg_time=%{x}<br>sum of y=%{y}<extra></extra>",
         "legendgroup": "",
         "marker": {
          "color": "#636efa",
          "pattern": {
           "shape": ""
          }
         },
         "name": "",
         "offsetgroup": "",
         "orientation": "v",
         "showlegend": false,
         "texttemplate": "%{value:.2s}",
         "type": "histogram",
         "x": [
          "01:0",
          "07:0",
          "08:0",
          "09:0",
          "10:0",
          "11:0",
          "12:0",
          "13:0",
          "14:0",
          "15:0",
          "16:0",
          "17:0",
          "18:0",
          "19:0",
          "20:0",
          "21:0",
          "22:0",
          "23:0",
          "24:0",
          "8:0",
          "9:0"
         ],
         "xaxis": "x",
         "y": [
          1,
          1,
          197,
          949,
          2220,
          3036,
          2940,
          2729,
          2744,
          2261,
          1886,
          827,
          119,
          74,
          32,
          6,
          5,
          8,
          1,
          23,
          448
         ],
         "yaxis": "y"
        }
       ],
       "layout": {
        "barmode": "relative",
        "height": 800,
        "legend": {
         "tracegroupgap": 0
        },
        "margin": {
         "t": 60
        },
        "template": {
         "data": {
          "bar": [
           {
            "error_x": {
             "color": "#2a3f5f"
            },
            "error_y": {
             "color": "#2a3f5f"
            },
            "marker": {
             "line": {
              "color": "#E5ECF6",
              "width": 0.5
             },
             "pattern": {
              "fillmode": "overlay",
              "size": 10,
              "solidity": 0.2
             }
            },
            "type": "bar"
           }
          ],
          "barpolar": [
           {
            "marker": {
             "line": {
              "color": "#E5ECF6",
              "width": 0.5
             },
             "pattern": {
              "fillmode": "overlay",
              "size": 10,
              "solidity": 0.2
             }
            },
            "type": "barpolar"
           }
          ],
          "carpet": [
           {
            "aaxis": {
             "endlinecolor": "#2a3f5f",
             "gridcolor": "white",
             "linecolor": "white",
             "minorgridcolor": "white",
             "startlinecolor": "#2a3f5f"
            },
            "baxis": {
             "endlinecolor": "#2a3f5f",
             "gridcolor": "white",
             "linecolor": "white",
             "minorgridcolor": "white",
             "startlinecolor": "#2a3f5f"
            },
            "type": "carpet"
           }
          ],
          "choropleth": [
           {
            "colorbar": {
             "outlinewidth": 0,
             "ticks": ""
            },
            "type": "choropleth"
           }
          ],
          "contour": [
           {
            "colorbar": {
             "outlinewidth": 0,
             "ticks": ""
            },
            "colorscale": [
             [
              0,
              "#0d0887"
             ],
             [
              0.1111111111111111,
              "#46039f"
             ],
             [
              0.2222222222222222,
              "#7201a8"
             ],
             [
              0.3333333333333333,
              "#9c179e"
             ],
             [
              0.4444444444444444,
              "#bd3786"
             ],
             [
              0.5555555555555556,
              "#d8576b"
             ],
             [
              0.6666666666666666,
              "#ed7953"
             ],
             [
              0.7777777777777778,
              "#fb9f3a"
             ],
             [
              0.8888888888888888,
              "#fdca26"
             ],
             [
              1,
              "#f0f921"
             ]
            ],
            "type": "contour"
           }
          ],
          "contourcarpet": [
           {
            "colorbar": {
             "outlinewidth": 0,
             "ticks": ""
            },
            "type": "contourcarpet"
           }
          ],
          "heatmap": [
           {
            "colorbar": {
             "outlinewidth": 0,
             "ticks": ""
            },
            "colorscale": [
             [
              0,
              "#0d0887"
             ],
             [
              0.1111111111111111,
              "#46039f"
             ],
             [
              0.2222222222222222,
              "#7201a8"
             ],
             [
              0.3333333333333333,
              "#9c179e"
             ],
             [
              0.4444444444444444,
              "#bd3786"
             ],
             [
              0.5555555555555556,
              "#d8576b"
             ],
             [
              0.6666666666666666,
              "#ed7953"
             ],
             [
              0.7777777777777778,
              "#fb9f3a"
             ],
             [
              0.8888888888888888,
              "#fdca26"
             ],
             [
              1,
              "#f0f921"
             ]
            ],
            "type": "heatmap"
           }
          ],
          "heatmapgl": [
           {
            "colorbar": {
             "outlinewidth": 0,
             "ticks": ""
            },
            "colorscale": [
             [
              0,
              "#0d0887"
             ],
             [
              0.1111111111111111,
              "#46039f"
             ],
             [
              0.2222222222222222,
              "#7201a8"
             ],
             [
              0.3333333333333333,
              "#9c179e"
             ],
             [
              0.4444444444444444,
              "#bd3786"
             ],
             [
              0.5555555555555556,
              "#d8576b"
             ],
             [
              0.6666666666666666,
              "#ed7953"
             ],
             [
              0.7777777777777778,
              "#fb9f3a"
             ],
             [
              0.8888888888888888,
              "#fdca26"
             ],
             [
              1,
              "#f0f921"
             ]
            ],
            "type": "heatmapgl"
           }
          ],
          "histogram": [
           {
            "marker": {
             "pattern": {
              "fillmode": "overlay",
              "size": 10,
              "solidity": 0.2
             }
            },
            "type": "histogram"
           }
          ],
          "histogram2d": [
           {
            "colorbar": {
             "outlinewidth": 0,
             "ticks": ""
            },
            "colorscale": [
             [
              0,
              "#0d0887"
             ],
             [
              0.1111111111111111,
              "#46039f"
             ],
             [
              0.2222222222222222,
              "#7201a8"
             ],
             [
              0.3333333333333333,
              "#9c179e"
             ],
             [
              0.4444444444444444,
              "#bd3786"
             ],
             [
              0.5555555555555556,
              "#d8576b"
             ],
             [
              0.6666666666666666,
              "#ed7953"
             ],
             [
              0.7777777777777778,
              "#fb9f3a"
             ],
             [
              0.8888888888888888,
              "#fdca26"
             ],
             [
              1,
              "#f0f921"
             ]
            ],
            "type": "histogram2d"
           }
          ],
          "histogram2dcontour": [
           {
            "colorbar": {
             "outlinewidth": 0,
             "ticks": ""
            },
            "colorscale": [
             [
              0,
              "#0d0887"
             ],
             [
              0.1111111111111111,
              "#46039f"
             ],
             [
              0.2222222222222222,
              "#7201a8"
             ],
             [
              0.3333333333333333,
              "#9c179e"
             ],
             [
              0.4444444444444444,
              "#bd3786"
             ],
             [
              0.5555555555555556,
              "#d8576b"
             ],
             [
              0.6666666666666666,
              "#ed7953"
             ],
             [
              0.7777777777777778,
              "#fb9f3a"
             ],
             [
              0.8888888888888888,
              "#fdca26"
             ],
             [
              1,
              "#f0f921"
             ]
            ],
            "type": "histogram2dcontour"
           }
          ],
          "mesh3d": [
           {
            "colorbar": {
             "outlinewidth": 0,
             "ticks": ""
            },
            "type": "mesh3d"
           }
          ],
          "parcoords": [
           {
            "line": {
             "colorbar": {
              "outlinewidth": 0,
              "ticks": ""
             }
            },
            "type": "parcoords"
           }
          ],
          "pie": [
           {
            "automargin": true,
            "type": "pie"
           }
          ],
          "scatter": [
           {
            "fillpattern": {
             "fillmode": "overlay",
             "size": 10,
             "solidity": 0.2
            },
            "type": "scatter"
           }
          ],
          "scatter3d": [
           {
            "line": {
             "colorbar": {
              "outlinewidth": 0,
              "ticks": ""
             }
            },
            "marker": {
             "colorbar": {
              "outlinewidth": 0,
              "ticks": ""
             }
            },
            "type": "scatter3d"
           }
          ],
          "scattercarpet": [
           {
            "marker": {
             "colorbar": {
              "outlinewidth": 0,
              "ticks": ""
             }
            },
            "type": "scattercarpet"
           }
          ],
          "scattergeo": [
           {
            "marker": {
             "colorbar": {
              "outlinewidth": 0,
              "ticks": ""
             }
            },
            "type": "scattergeo"
           }
          ],
          "scattergl": [
           {
            "marker": {
             "colorbar": {
              "outlinewidth": 0,
              "ticks": ""
             }
            },
            "type": "scattergl"
           }
          ],
          "scattermapbox": [
           {
            "marker": {
             "colorbar": {
              "outlinewidth": 0,
              "ticks": ""
             }
            },
            "type": "scattermapbox"
           }
          ],
          "scatterpolar": [
           {
            "marker": {
             "colorbar": {
              "outlinewidth": 0,
              "ticks": ""
             }
            },
            "type": "scatterpolar"
           }
          ],
          "scatterpolargl": [
           {
            "marker": {
             "colorbar": {
              "outlinewidth": 0,
              "ticks": ""
             }
            },
            "type": "scatterpolargl"
           }
          ],
          "scatterternary": [
           {
            "marker": {
             "colorbar": {
              "outlinewidth": 0,
              "ticks": ""
             }
            },
            "type": "scatterternary"
           }
          ],
          "surface": [
           {
            "colorbar": {
             "outlinewidth": 0,
             "ticks": ""
            },
            "colorscale": [
             [
              0,
              "#0d0887"
             ],
             [
              0.1111111111111111,
              "#46039f"
             ],
             [
              0.2222222222222222,
              "#7201a8"
             ],
             [
              0.3333333333333333,
              "#9c179e"
             ],
             [
              0.4444444444444444,
              "#bd3786"
             ],
             [
              0.5555555555555556,
              "#d8576b"
             ],
             [
              0.6666666666666666,
              "#ed7953"
             ],
             [
              0.7777777777777778,
              "#fb9f3a"
             ],
             [
              0.8888888888888888,
              "#fdca26"
             ],
             [
              1,
              "#f0f921"
             ]
            ],
            "type": "surface"
           }
          ],
          "table": [
           {
            "cells": {
             "fill": {
              "color": "#EBF0F8"
             },
             "line": {
              "color": "white"
             }
            },
            "header": {
             "fill": {
              "color": "#C8D4E3"
             },
             "line": {
              "color": "white"
             }
            },
            "type": "table"
           }
          ]
         },
         "layout": {
          "annotationdefaults": {
           "arrowcolor": "#2a3f5f",
           "arrowhead": 0,
           "arrowwidth": 1
          },
          "autotypenumbers": "strict",
          "coloraxis": {
           "colorbar": {
            "outlinewidth": 0,
            "ticks": ""
           }
          },
          "colorscale": {
           "diverging": [
            [
             0,
             "#8e0152"
            ],
            [
             0.1,
             "#c51b7d"
            ],
            [
             0.2,
             "#de77ae"
            ],
            [
             0.3,
             "#f1b6da"
            ],
            [
             0.4,
             "#fde0ef"
            ],
            [
             0.5,
             "#f7f7f7"
            ],
            [
             0.6,
             "#e6f5d0"
            ],
            [
             0.7,
             "#b8e186"
            ],
            [
             0.8,
             "#7fbc41"
            ],
            [
             0.9,
             "#4d9221"
            ],
            [
             1,
             "#276419"
            ]
           ],
           "sequential": [
            [
             0,
             "#0d0887"
            ],
            [
             0.1111111111111111,
             "#46039f"
            ],
            [
             0.2222222222222222,
             "#7201a8"
            ],
            [
             0.3333333333333333,
             "#9c179e"
            ],
            [
             0.4444444444444444,
             "#bd3786"
            ],
            [
             0.5555555555555556,
             "#d8576b"
            ],
            [
             0.6666666666666666,
             "#ed7953"
            ],
            [
             0.7777777777777778,
             "#fb9f3a"
            ],
            [
             0.8888888888888888,
             "#fdca26"
            ],
            [
             1,
             "#f0f921"
            ]
           ],
           "sequentialminus": [
            [
             0,
             "#0d0887"
            ],
            [
             0.1111111111111111,
             "#46039f"
            ],
            [
             0.2222222222222222,
             "#7201a8"
            ],
            [
             0.3333333333333333,
             "#9c179e"
            ],
            [
             0.4444444444444444,
             "#bd3786"
            ],
            [
             0.5555555555555556,
             "#d8576b"
            ],
            [
             0.6666666666666666,
             "#ed7953"
            ],
            [
             0.7777777777777778,
             "#fb9f3a"
            ],
            [
             0.8888888888888888,
             "#fdca26"
            ],
            [
             1,
             "#f0f921"
            ]
           ]
          },
          "colorway": [
           "#636efa",
           "#EF553B",
           "#00cc96",
           "#ab63fa",
           "#FFA15A",
           "#19d3f3",
           "#FF6692",
           "#B6E880",
           "#FF97FF",
           "#FECB52"
          ],
          "font": {
           "color": "#2a3f5f"
          },
          "geo": {
           "bgcolor": "white",
           "lakecolor": "white",
           "landcolor": "#E5ECF6",
           "showlakes": true,
           "showland": true,
           "subunitcolor": "white"
          },
          "hoverlabel": {
           "align": "left"
          },
          "hovermode": "closest",
          "mapbox": {
           "style": "light"
          },
          "paper_bgcolor": "white",
          "plot_bgcolor": "#E5ECF6",
          "polar": {
           "angularaxis": {
            "gridcolor": "white",
            "linecolor": "white",
            "ticks": ""
           },
           "bgcolor": "#E5ECF6",
           "radialaxis": {
            "gridcolor": "white",
            "linecolor": "white",
            "ticks": ""
           }
          },
          "scene": {
           "xaxis": {
            "backgroundcolor": "#E5ECF6",
            "gridcolor": "white",
            "gridwidth": 2,
            "linecolor": "white",
            "showbackground": true,
            "ticks": "",
            "zerolinecolor": "white"
           },
           "yaxis": {
            "backgroundcolor": "#E5ECF6",
            "gridcolor": "white",
            "gridwidth": 2,
            "linecolor": "white",
            "showbackground": true,
            "ticks": "",
            "zerolinecolor": "white"
           },
           "zaxis": {
            "backgroundcolor": "#E5ECF6",
            "gridcolor": "white",
            "gridwidth": 2,
            "linecolor": "white",
            "showbackground": true,
            "ticks": "",
            "zerolinecolor": "white"
           }
          },
          "shapedefaults": {
           "line": {
            "color": "#2a3f5f"
           }
          },
          "ternary": {
           "aaxis": {
            "gridcolor": "white",
            "linecolor": "white",
            "ticks": ""
           },
           "baxis": {
            "gridcolor": "white",
            "linecolor": "white",
            "ticks": ""
           },
           "bgcolor": "#E5ECF6",
           "caxis": {
            "gridcolor": "white",
            "linecolor": "white",
            "ticks": ""
           }
          },
          "title": {
           "x": 0.05
          },
          "xaxis": {
           "automargin": true,
           "gridcolor": "white",
           "linecolor": "white",
           "ticks": "",
           "title": {
            "standoff": 15
           },
           "zerolinecolor": "white",
           "zerolinewidth": 2
          },
          "yaxis": {
           "automargin": true,
           "gridcolor": "white",
           "linecolor": "white",
           "ticks": "",
           "title": {
            "standoff": 15
           },
           "zerolinecolor": "white",
           "zerolinewidth": 2
          }
         }
        },
        "xaxis": {
         "anchor": "y",
         "domain": [
          0,
          1
         ],
         "title": {
          "text": "agg_time"
         }
        },
        "yaxis": {
         "anchor": "x",
         "domain": [
          0,
          1
         ],
         "title": {
          "text": "sum of y"
         }
        }
       }
      }
     },
     "metadata": {},
     "output_type": "display_data"
    }
   ],
   "source": [
    "import plotly.express as px\n",
    "output_graph_top10 = px.histogram(ser_time, x=ser_time.index, y=ser_time.values, text_auto='.2s', height=800)\n",
    "output_graph_top10.show()"
   ]
  },
  {
   "cell_type": "code",
   "execution_count": 84,
   "metadata": {},
   "outputs": [],
   "source": [
    "# Distplot\n"
   ]
  },
  {
   "cell_type": "code",
   "execution_count": 15,
   "metadata": {},
   "outputs": [
    {
     "data": {
      "application/vnd.plotly.v1+json": {
       "config": {
        "plotlyServerURL": "https://plot.ly"
       },
       "data": [
        {
         "legendgroup": "Group 2",
         "marker": {
          "color": "#37AA9C"
         },
         "mode": "lines",
         "name": "Group 2",
         "showlegend": true,
         "type": "scatter",
         "x": [
          7.319431882667213,
          7.329607871190239,
          7.339783859713266,
          7.349959848236292,
          7.360135836759318,
          7.370311825282345,
          7.380487813805371,
          7.3906638023283975,
          7.400839790851424,
          7.41101577937445,
          7.421191767897477,
          7.431367756420503,
          7.441543744943529,
          7.451719733466556,
          7.461895721989583,
          7.472071710512609,
          7.482247699035636,
          7.492423687558662,
          7.502599676081688,
          7.512775664604715,
          7.522951653127741,
          7.5331276416507675,
          7.543303630173794,
          7.55347961869682,
          7.563655607219847,
          7.573831595742873,
          7.584007584265899,
          7.594183572788926,
          7.604359561311952,
          7.6145355498349785,
          7.624711538358005,
          7.634887526881031,
          7.645063515404058,
          7.655239503927084,
          7.66541549245011,
          7.675591480973137,
          7.685767469496163,
          7.695943458019189,
          7.706119446542216,
          7.716295435065242,
          7.726471423588269,
          7.736647412111296,
          7.746823400634322,
          7.7569993891573485,
          7.767175377680375,
          7.777351366203401,
          7.787527354726428,
          7.797703343249454,
          7.80787933177248,
          7.818055320295507,
          7.828231308818533,
          7.8384072973415595,
          7.848583285864586,
          7.858759274387612,
          7.868935262910639,
          7.879111251433665,
          7.889287239956691,
          7.899463228479718,
          7.909639217002744,
          7.9198152055257705,
          7.929991194048797,
          7.940167182571823,
          7.95034317109485,
          7.960519159617876,
          7.970695148140902,
          7.980871136663929,
          7.991047125186956,
          8.001223113709981,
          8.011399102233009,
          8.021575090756034,
          8.031751079279061,
          8.041927067802087,
          8.052103056325114,
          8.06227904484814,
          8.072455033371167,
          8.082631021894192,
          8.09280701041722,
          8.102982998940245,
          8.113158987463272,
          8.1233349759863,
          8.133510964509325,
          8.143686953032352,
          8.153862941555378,
          8.164038930078405,
          8.17421491860143,
          8.184390907124458,
          8.194566895647483,
          8.20474288417051,
          8.214918872693536,
          8.225094861216563,
          8.235270849739589,
          8.245446838262616,
          8.255622826785642,
          8.265798815308669,
          8.275974803831694,
          8.286150792354722,
          8.296326780877747,
          8.306502769400774,
          8.3166787579238,
          8.326854746446827,
          8.337030734969852,
          8.34720672349288,
          8.357382712015905,
          8.367558700538932,
          8.37773468906196,
          8.387910677584985,
          8.39808666610801,
          8.408262654631038,
          8.418438643154065,
          8.42861463167709,
          8.438790620200118,
          8.448966608723143,
          8.45914259724617,
          8.469318585769196,
          8.479494574292223,
          8.489670562815249,
          8.499846551338276,
          8.510022539861302,
          8.520198528384329,
          8.530374516907354,
          8.540550505430382,
          8.550726493953407,
          8.560902482476434,
          8.57107847099946,
          8.581254459522487,
          8.591430448045513,
          8.60160643656854,
          8.611782425091565,
          8.621958413614593,
          8.63213440213762,
          8.642310390660645,
          8.65248637918367,
          8.662662367706698,
          8.672838356229725,
          8.68301434475275,
          8.693190333275776,
          8.703366321798804,
          8.71354231032183,
          8.723718298844856,
          8.733894287367884,
          8.744070275890909,
          8.754246264413936,
          8.764422252936962,
          8.774598241459989,
          8.784774229983014,
          8.794950218506042,
          8.805126207029067,
          8.815302195552094,
          8.82547818407512,
          8.835654172598147,
          8.845830161121173,
          8.8560061496442,
          8.866182138167225,
          8.876358126690253,
          8.886534115213278,
          8.896710103736305,
          8.906886092259331,
          8.917062080782358,
          8.927238069305385,
          8.937414057828411,
          8.947590046351438,
          8.957766034874464,
          8.967942023397491,
          8.978118011920516,
          8.988294000443544,
          8.99846998896657,
          9.008645977489596,
          9.018821966012622,
          9.02899795453565,
          9.039173943058675,
          9.049349931581702,
          9.059525920104727,
          9.069701908627755,
          9.07987789715078,
          9.090053885673807,
          9.100229874196833,
          9.11040586271986,
          9.120581851242886,
          9.130757839765913,
          9.140933828288938,
          9.151109816811966,
          9.161285805334991,
          9.171461793858018,
          9.181637782381046,
          9.191813770904071,
          9.201989759427097,
          9.212165747950124,
          9.222341736473151,
          9.232517724996177,
          9.242693713519204,
          9.25286970204223,
          9.263045690565257,
          9.273221679088282,
          9.28339766761131,
          9.293573656134335,
          9.303749644657362,
          9.313925633180387,
          9.324101621703415,
          9.33427761022644,
          9.344453598749467,
          9.354629587272493,
          9.36480557579552,
          9.374981564318546,
          9.385157552841573,
          9.3953335413646,
          9.405509529887626,
          9.415685518410651,
          9.425861506933678,
          9.436037495456706,
          9.446213483979731,
          9.456389472502757,
          9.466565461025784,
          9.476741449548811,
          9.486917438071837,
          9.497093426594862,
          9.50726941511789,
          9.517445403640917,
          9.527621392163942,
          9.537797380686968,
          9.547973369209995,
          9.558149357733022,
          9.568325346256048,
          9.578501334779075,
          9.5886773233021,
          9.598853311825128,
          9.609029300348153,
          9.61920528887118,
          9.629381277394206,
          9.639557265917233,
          9.64973325444026,
          9.659909242963286,
          9.670085231486311,
          9.680261220009339,
          9.690437208532366,
          9.700613197055391,
          9.710789185578417,
          9.720965174101444,
          9.731141162624471,
          9.741317151147497,
          9.751493139670522,
          9.76166912819355,
          9.771845116716577,
          9.782021105239602,
          9.792197093762628,
          9.802373082285655,
          9.812549070808682,
          9.822725059331708,
          9.832901047854735,
          9.84307703637776,
          9.853253024900788,
          9.863429013423813,
          9.87360500194684,
          9.883780990469866,
          9.893956978992893,
          9.904132967515919,
          9.914308956038946,
          9.924484944561971,
          9.934660933084999,
          9.944836921608026,
          9.955012910131051,
          9.965188898654077,
          9.975364887177104,
          9.985540875700131,
          9.995716864223157,
          10.005892852746182,
          10.01606884126921,
          10.026244829792237,
          10.036420818315262,
          10.04659680683829,
          10.056772795361315,
          10.066948783884342,
          10.077124772407368,
          10.087300760930395,
          10.09747674945342,
          10.107652737976448,
          10.117828726499473,
          10.1280047150225,
          10.138180703545526,
          10.148356692068553,
          10.158532680591579,
          10.168708669114606,
          10.178884657637632,
          10.189060646160659,
          10.199236634683684,
          10.209412623206712,
          10.219588611729737,
          10.229764600252764,
          10.239940588775791,
          10.250116577298817,
          10.260292565821842,
          10.27046855434487,
          10.280644542867897,
          10.290820531390922,
          10.300996519913948,
          10.311172508436975,
          10.321348496960002,
          10.331524485483028,
          10.341700474006055,
          10.35187646252908,
          10.362052451052108,
          10.372228439575133,
          10.38240442809816,
          10.392580416621186,
          10.402756405144213,
          10.412932393667239,
          10.423108382190266,
          10.433284370713292,
          10.443460359236319,
          10.453636347759344,
          10.463812336282372,
          10.473988324805397,
          10.484164313328424,
          10.49434030185145,
          10.504516290374477,
          10.514692278897503,
          10.52486826742053,
          10.535044255943557,
          10.545220244466583,
          10.555396232989608,
          10.565572221512635,
          10.575748210035663,
          10.585924198558688,
          10.596100187081714,
          10.60627617560474,
          10.616452164127768,
          10.626628152650794,
          10.63680414117382,
          10.646980129696846,
          10.657156118219874,
          10.667332106742899,
          10.677508095265926,
          10.687684083788952,
          10.697860072311979,
          10.708036060835006,
          10.718212049358032,
          10.728388037881057,
          10.738564026404084,
          10.748740014927112,
          10.758916003450137,
          10.769091991973163,
          10.77926798049619,
          10.789443969019217,
          10.799619957542243,
          10.809795946065268,
          10.819971934588295,
          10.830147923111323,
          10.840323911634348,
          10.850499900157374,
          10.860675888680401,
          10.870851877203428,
          10.881027865726454,
          10.89120385424948,
          10.901379842772506,
          10.911555831295534,
          10.92173181981856,
          10.931907808341586,
          10.942083796864612,
          10.95225978538764,
          10.962435773910665,
          10.972611762433692,
          10.982787750956717,
          10.992963739479745,
          11.003139728002772,
          11.013315716525797,
          11.023491705048823,
          11.03366769357185,
          11.043843682094877,
          11.054019670617903,
          11.064195659140928,
          11.074371647663956,
          11.084547636186983,
          11.094723624710008,
          11.104899613233034,
          11.115075601756061,
          11.125251590279088,
          11.135427578802114,
          11.145603567325141,
          11.155779555848166,
          11.165955544371194,
          11.17613153289422,
          11.186307521417246,
          11.196483509940272,
          11.2066594984633,
          11.216835486986325,
          11.227011475509352,
          11.237187464032377,
          11.247363452555405,
          11.25753944107843,
          11.267715429601457,
          11.277891418124483,
          11.28806740664751,
          11.298243395170537,
          11.308419383693563,
          11.318595372216588,
          11.328771360739616,
          11.338947349262643,
          11.349123337785668,
          11.359299326308694,
          11.369475314831721,
          11.379651303354748,
          11.389827291877774,
          11.4000032804008,
          11.410179268923827,
          11.420355257446854,
          11.43053124596988,
          11.440707234492905,
          11.450883223015932,
          11.46105921153896,
          11.471235200061987,
          11.481411188585012,
          11.491587177108038,
          11.501763165631065,
          11.511939154154092,
          11.522115142677116,
          11.532291131200143,
          11.54246711972317,
          11.552643108246198,
          11.562819096769223,
          11.572995085292249,
          11.583171073815276,
          11.593347062338303,
          11.603523050861329,
          11.613699039384354,
          11.623875027907381,
          11.634051016430409,
          11.644227004953434,
          11.65440299347646,
          11.664578981999487,
          11.674754970522514,
          11.684930959045541,
          11.695106947568565,
          11.705282936091592,
          11.71545892461462,
          11.725634913137645,
          11.735810901660672,
          11.745986890183698,
          11.756162878706725,
          11.766338867229752,
          11.776514855752778,
          11.786690844275803,
          11.79686683279883,
          11.807042821321858,
          11.817218809844883,
          11.827394798367909,
          11.837570786890936,
          11.847746775413963,
          11.857922763936989,
          11.868098752460014,
          11.878274740983041,
          11.888450729506069,
          11.898626718029094,
          11.90880270655212,
          11.918978695075147,
          11.929154683598174,
          11.9393306721212,
          11.949506660644227,
          11.959682649167252,
          11.96985863769028,
          11.980034626213307,
          11.99021061473633,
          12.000386603259358,
          12.010562591782385,
          12.02073858030541,
          12.030914568828438,
          12.041090557351463,
          12.05126654587449,
          12.061442534397518,
          12.071618522920543,
          12.081794511443569,
          12.091970499966596,
          12.102146488489623,
          12.112322477012649,
          12.122498465535674,
          12.132674454058701,
          12.142850442581729,
          12.153026431104754,
          12.16320241962778,
          12.173378408150807,
          12.183554396673834,
          12.19373038519686,
          12.203906373719885,
          12.214082362242912,
          12.22425835076594,
          12.234434339288965,
          12.244610327811992,
          12.254786316335018,
          12.264962304858045,
          12.275138293381072,
          12.285314281904096,
          12.295490270427123,
          12.30566625895015,
          12.315842247473176,
          12.326018235996203,
          12.336194224519229,
          12.346370213042256,
          12.356546201565283,
          12.366722190088309,
          12.376898178611334,
          12.387074167134362,
          12.397250155657387
         ],
         "xaxis": "x",
         "y": [
          0.022056977462668267,
          0.022603275624186608,
          0.02316215944251804,
          0.023733933948726603,
          0.02431890538172745,
          0.024917380563868757,
          0.02552966625130439,
          0.026156068460429206,
          0.02679689177174672,
          0.027452438612634963,
          0.0281230085205631,
          0.0288088973883991,
          0.02951039669352648,
          0.03022779271256311,
          0.03096136572354288,
          0.031711389197483356,
          0.03247812898132069,
          0.03326184247423943,
          0.03406277779947278,
          0.03488117297368346,
          0.03571725507606767,
          0.03657123941934839,
          0.03744332872484359,
          0.038333712303805646,
          0.03924256524723489,
          0.04017004762636983,
          0.04111630370605032,
          0.04208146117313729,
          0.04306563038215793,
          0.04406890362031833,
          0.04509135439400169,
          0.04613303673883583,
          0.04719398455537639,
          0.04827421097241148,
          0.04937370773984779,
          0.050492444653088074,
          0.05163036901075859,
          0.052787405107587185,
          0.053963453764175495,
          0.055158391895344,
          0.05637207211866882,
          0.057604322404755826,
          0.05885494577073423,
          0.0601237200183776,
          0.0614103975181882,
          0.0627147050407048,
          0.06403634363622038,
          0.06537498856401334,
          0.06673028927212174,
          0.06810186942860458,
          0.06948932700515492,
          0.07089223441384347,
          0.07231013869768682,
          0.07374256177564724,
          0.07518900074258301,
          0.07664892822457574,
          0.07812179278997186,
          0.07960701941637964,
          0.08110401001376592,
          0.08261214400370327,
          0.08413077895471047,
          0.08565925127353279,
          0.08719687695210102,
          0.0887429523697982,
          0.09029675515055692,
          0.09185754507419137,
          0.0934245650412581,
          0.0949970420906133,
          0.0965741884687241,
          0.09815520274964802,
          0.09973927100449227,
          0.10132556801901019,
          0.10291325855787667,
          0.10450149867404093,
          0.10608943706142117,
          0.10767621644906536,
          0.10926097503476165,
          0.11084284795594007,
          0.11242096879556719,
          0.11399447112058192,
          0.11556249005029388,
          0.11712416385200441,
          0.11867863556098053,
          0.12022505462177065,
          0.12176257854770028,
          0.12329037459527344,
          0.12480762145004538,
          0.1263135109204343,
          0.12780724963578713,
          0.1292880607449271,
          0.13075518561127517,
          0.13220788550055304,
          0.13364544325696984,
          0.13506716496371443,
          0.13647238158349673,
          0.13786045057482066,
          0.13923075747960575,
          0.14058271747775336,
          0.14191577690419693,
          0.14322941472399017,
          0.14452314396095614,
          0.14579651307545943,
          0.1470491072868731,
          0.14828054983636674,
          0.14949050318569898,
          0.15067867014777528,
          0.15184479494482808,
          0.15298866419018078,
          0.15411010778969386,
          0.15520899975913366,
          0.15628525895386242,
          0.15733884970743528,
          0.15836978237588425,
          0.1593781137846784,
          0.16036394757558897,
          0.1613274344509182,
          0.16226877231283163,
          0.1631882062957864,
          0.16408602869035532,
          0.1649625787570342,
          0.16581824242894552,
          0.16665345190266118,
          0.16746868511671745,
          0.1682644651177213,
          0.16904135931431122,
          0.16979997861957913,
          0.17054097648293065,
          0.1712650478127149,
          0.17197292779132742,
          0.17266539058484934,
          0.1733432479496522,
          0.17400734773875823,
          0.17465857231109883,
          0.17529783684716754,
          0.17592608757490108,
          0.1765442999099578,
          0.17715347651487925,
          0.17775464528193438,
          0.17834885724473418,
          0.17893718442398715,
          0.17952071761302324,
          0.18010056410896097,
          0.1806778453956102,
          0.18125369478440945,
          0.18182925501987168,
          0.1824056758561739,
          0.1829841116116494,
          0.18356571870806224,
          0.18415165320160531,
          0.1847430683126394,
          0.1853411119611974,
          0.18594692431529808,
          0.18656163535906398,
          0.18718636248760626,
          0.18782220813553638,
          0.18847025744586476,
          0.18913157598590444,
          0.18980720751663333,
          0.19049817182177467,
          0.19120546260264093,
          0.1919300454445416,
          0.19267285586028365,
          0.19343479741601832,
          0.19421673994435087,
          0.19501951784932656,
          0.195843928507526,
          0.19669073076915664,
          0.19756064356262235,
          0.1984543446056666,
          0.19937246922576038,
          0.2003156092919907,
          0.20128431226026444,
          0.20227908033320696,
          0.20330036973568705,
          0.20434859010645168,
          0.20542410400590344,
          0.20652722653960967,
          0.2076582250966765,
          0.20881731920169894,
          0.21000468047854265,
          0.21122043272381616,
          0.21246465208745474,
          0.21373736735746546,
          0.2150385603454763,
          0.2163681663693871,
          0.2177260748290642,
          0.21911212987069525,
          0.2205261311351257,
          0.22196783458521469,
          0.22343695340699604,
          0.22493315897920443,
          0.2264560819055333,
          0.22800531310381122,
          0.229580404946161,
          0.23118087244407515,
          0.23280619447229117,
          0.23445581502527288,
          0.23612914450012668,
          0.23782556099976004,
          0.23954441165018062,
          0.24128501392587773,
          0.24304665697737707,
          0.2448286029551769,
          0.24663008832446287,
          0.24845032516520107,
          0.2502885024524361,
          0.2521437873118895,
          0.25401532624622875,
          0.25590224632769276,
          0.2578036563530955,
          0.2597186479575723,
          0.26164629668381545,
          0.2635856630039256,
          0.2655357932914195,
          0.26749572074134564,
          0.26946446623687814,
          0.2714410391612125,
          0.2734244381540075,
          0.27541365181207694,
          0.27740765933446343,
          0.2794054311124783,
          0.28140592926572733,
          0.2834081081255641,
          0.2854109146678376,
          0.28741328889721357,
          0.2894141641857213,
          0.2914124675685837,
          0.2934071200007049,
          0.29539703657756855,
          0.29738112672455996,
          0.2993582943590542,
          0.30132743802984213,
          0.30328745103868854,
          0.3052372215490396,
          0.3071756326870245,
          0.30910156264005734,
          0.3110138847584087,
          0.31291146766519945,
          0.3147931753802826,
          0.3166578674634535,
          0.31850439918239787,
          0.3203316217106782,
          0.32213838236094783,
          0.32392352485841436,
          0.32568588965937384,
          0.32742431431941244,
          0.3291376339155982,
          0.3308246815266998,
          0.3324842887751187,
          0.3341152864338918,
          0.33571650510170736,
          0.3372867759484896,
          0.3388249315336621,
          0.34032980669874585,
          0.3418002395354819,
          0.34323507243018564,
          0.34463315318451776,
          0.34599333621238315,
          0.34731448381211955,
          0.3485954675126449,
          0.34983516949169313,
          0.35103248406376647,
          0.35218631923490895,
          0.35329559832091173,
          0.35435926162506715,
          0.35537626817110857,
          0.35634559748652095,
          0.357266251430967,
          0.3581372560641537,
          0.35895766354708725,
          0.35972655407028764,
          0.36044303780221926,
          0.36110625685088715,
          0.3617153872312857,
          0.36226964083116936,
          0.36276826736740675,
          0.3632105563250557,
          0.3635958388711617,
          0.36392348973523114,
          0.3641929290482943,
          0.3644036241324912,
          0.3645550912331708,
          0.36464689718558746,
          0.36467866100842533,
          0.3646500554165617,
          0.36456080824568726,
          0.36441070378168566,
          0.36419958398794744,
          0.3639273496241435,
          0.3635939612503374,
          0.36319944011072797,
          0.36274386889173327,
          0.3622273923495889,
          0.36165021780311385,
          0.3610126154878105,
          0.36031491876797817,
          0.3595575242040756,
          0.35874089147311583,
          0.35786554314045715,
          0.3569320642819154,
          0.3559411019557248,
          0.3548933645244472,
          0.3537896208275193,
          0.3526306992057126,
          0.35141748637934983,
          0.3501509261826926,
          0.3488320181574734,
          0.34746181600906706,
          0.3460414259293481,
          0.3445720047907489,
          0.34305475821654535,
          0.3414909385328264,
          0.33988184260805415,
          0.3382288095865045,
          0.3365332185222685,
          0.3347964859208185,
          0.33302006319545624,
          0.3312054340462405,
          0.3293541117692257,
          0.3274676365040385,
          0.32554757242801297,
          0.32359550490520317,
          0.32161303759872156,
          0.31960178955488716,
          0.31756339226771024,
          0.3154994867322131,
          0.31341172049505683,
          0.3113017447108618,
          0.30917121121248187,
          0.3070217696033839,
          0.30485506438007137,
          0.3026727320923223,
          0.3004763985487626,
          0.298267676075048,
          0.29604816083165464,
          0.29381943019796364,
          0.29158304022901976,
          0.2893405231909967,
          0.28709338518104804,
          0.28484310383685,
          0.2825911261407702,
          0.2803388663231957,
          0.27808770386915316,
          0.2758389816319535,
          0.27359400405718304,
          0.27135403551994375,
          0.2691202987778367,
          0.26689397354177047,
          0.264676195166268,
          0.2624680534605467,
          0.2602705916212308,
          0.25808480528719413,
          0.2559116417166241,
          0.2537519990860505,
          0.2516067259107048,
          0.24947662058524497,
          0.2473624310435532,
          0.24526485453597208,
          0.24318453752208502,
          0.2411220756768141,
          0.23907801400739115,
          0.23705284707845617,
          0.23504701934234704,
          0.2330609255714018,
          0.23109491138890148,
          0.2291492738951109,
          0.22722426238470123,
          0.22532007915169172,
          0.22343688037793188,
          0.22157477710101908,
          0.2197338362574669,
          0.21791408179684343,
          0.21611549586255274,
          0.21433802003487756,
          0.2125815566318649,
          0.21084597006362485,
          0.20913108823559542,
          0.20743670399635183,
          0.20576257662553354,
          0.20410843335751,
          0.20247397093644132,
          0.2008588571984361,
          0.19926273267657135,
          0.19768521222461022,
          0.19612588665531933,
          0.194584324389382,
          0.19306007311097878,
          0.19155266142621827,
          0.19006160052067872,
          0.1885863858124535,
          0.18712649859717106,
          0.18568140768160188,
          0.18425057100255635,
          0.18283343722791087,
          0.18142944733671565,
          0.1800380361754562,
          0.1786586339876712,
          0.17729066791424822,
          0.1759335634618524,
          0.17458674593706877,
          0.17324964184395686,
          0.17192168024286478,
          0.1706022940684583,
          0.16929092140506813,
          0.1679870067175687,
          0.166690002036149,
          0.16539936809345585,
          0.16411457541271726,
          0.16283510534559095,
          0.16156045105860234,
          0.16029011846717006,
          0.1590236271163477,
          0.1577605110075286,
          0.1565003193704984,
          0.15524261738033718,
          0.15398698681881098,
          0.15273302668000324,
          0.15148035372007282,
          0.15022860295114643,
          0.1489774280794736,
          0.14772650188809602,
          0.14647551656440544,
          0.1452241839730768,
          0.14397223587499472,
          0.14271942409288899,
          0.14146552062452603,
          0.14021031770439865,
          0.13895362781498366,
          0.1376952836487266,
          0.13643513802202345,
          0.13517306374257335,
          0.13390895343156162,
          0.13264271930224095,
          0.1313742928965464,
          0.1301036247814817,
          0.128830684207088,
          0.12755545872786905,
          0.12627795378963586,
          0.1249981922837746,
          0.12371621407101334,
          0.12243207547680862,
          0.12114584876051286,
          0.11985762156052622,
          0.1185674963176601,
          0.11727558967897092,
          0.11598203188432687,
          0.11468696613798836,
          0.11339054796747293,
          0.11209294457197852,
          0.11079433416261628,
          0.1094949052966796,
          0.10819485620815351,
          0.10689439413662162,
          0.1055937346566886,
          0.10429310100997609,
          0.10299272344169468,
          0.10169283854372986,
          0.10039368860609343,
          0.09909552097852925,
          0.09779858744395951,
          0.09650314360537422,
          0.09520944828767436,
          0.09391776295586014,
          0.09262835115086948,
          0.09134147794424904,
          0.0900574094127291,
          0.0887764121336651,
          0.08749875270217711,
          0.08622469727071239,
          0.0849545111116266,
          0.08368845820326436,
          0.08242680083989237,
          0.08116979926572375,
          0.07991771133315571,
          0.0786707921852177,
          0.07742929396212249,
          0.07619346553169444,
          0.07496355224335216,
          0.07373979570520837,
          0.07252243358375919,
          0.07131169942554398,
          0.07010782250006256,
          0.06891102766316498,
          0.06772153524004496,
          0.06653956092690706,
          0.06536531571031914,
          0.06419900580319543,
          0.06304083259632944,
          0.06189099262433775,
          0.06074967754485665,
          0.0596170741298152,
          0.058493364267574066,
          0.05737872497473568,
          0.05627332841641449,
          0.05517734193377239,
          0.05409092807763702,
          0.053014244647041436,
          0.05194744473155754,
          0.05089067675632466,
          0.049844084528724346
         ],
         "yaxis": "y"
        },
        {
         "legendgroup": "Group 2",
         "marker": {
          "color": "#37AA9C",
          "symbol": "line-ns-open"
         },
         "mode": "markers",
         "name": "Group 2",
         "showlegend": false,
         "type": "scatter",
         "x": [
          10.944709963546064,
          8.769038384802847,
          8.377689063697481,
          10.570334969287208,
          9.3071679595823,
          9.989723563994643,
          10.27386121919941,
          9.668527451623648,
          8.345819922863962,
          11.583677748833079,
          10.214027785315208,
          8.601431375020397,
          10.101462531274965,
          11.240656021627586,
          11.209656088393597,
          9.633777543579122,
          10.237986887365727,
          11.491438012482915,
          8.447320003680309,
          11.089353786149493,
          9.851755017859526,
          11.5049158892284,
          9.327491687293753,
          9.144665677849384,
          10.14435071436316,
          12.027533116255794,
          8.347273007111955,
          9.190322219531309,
          9.921417888749492,
          10.285392334616102,
          10.507993010170441,
          11.59512522378244,
          10.463366855378796,
          11.223824781503193,
          9.325577708624968,
          8.882871886165491,
          11.869058296318919,
          9.66645229716006,
          10.494991312644421,
          10.433532908920295,
          10.19294985061236,
          8.006003037961156,
          9.678482658589012,
          9.563448633073461,
          10.484304530979042,
          9.38754719118953,
          8.82785373059892,
          10.615546736084275,
          9.545823827743877,
          10.608208542745757,
          8.46331151503684,
          11.287725411322523,
          12.407426144180414,
          7.892424554946752,
          9.659555104914064,
          10.388142052021854,
          10.785759749909314,
          9.801978887297437,
          10.816217175534113,
          10.41469333532817,
          11.97913174681493,
          10.99880732728988,
          10.185702127998098,
          10.539901058037342,
          10.063412885289539,
          9.669711882117578,
          9.69122750063803,
          10.328542501992594,
          8.581904937472874,
          10.244131327813065,
          11.795933872489371,
          10.905955507393955,
          9.725439115957709,
          8.73746305269923,
          9.737720902893614,
          10.842722050197509,
          11.741337208348707,
          10.14314479945913,
          10.216001755679242,
          10.010031599995473,
          12.344797496763906,
          9.78981760740844,
          10.771993214446631,
          11.25240492791076,
          9.314469946281347,
          8.451515753293982,
          7.319431882667213,
          10.15709034381879,
          9.27317502567429,
          8.67415966132034,
          11.569642117596748,
          10.22136421269709,
          8.773578190077954,
          10.494109205695162,
          10.849068503100568,
          8.211473873909409,
          8.851246333164944,
          8.041260551946499,
          10.076765588946323,
          10.407831504997246
         ],
         "xaxis": "x",
         "y": [
          "Group 2",
          "Group 2",
          "Group 2",
          "Group 2",
          "Group 2",
          "Group 2",
          "Group 2",
          "Group 2",
          "Group 2",
          "Group 2",
          "Group 2",
          "Group 2",
          "Group 2",
          "Group 2",
          "Group 2",
          "Group 2",
          "Group 2",
          "Group 2",
          "Group 2",
          "Group 2",
          "Group 2",
          "Group 2",
          "Group 2",
          "Group 2",
          "Group 2",
          "Group 2",
          "Group 2",
          "Group 2",
          "Group 2",
          "Group 2",
          "Group 2",
          "Group 2",
          "Group 2",
          "Group 2",
          "Group 2",
          "Group 2",
          "Group 2",
          "Group 2",
          "Group 2",
          "Group 2",
          "Group 2",
          "Group 2",
          "Group 2",
          "Group 2",
          "Group 2",
          "Group 2",
          "Group 2",
          "Group 2",
          "Group 2",
          "Group 2",
          "Group 2",
          "Group 2",
          "Group 2",
          "Group 2",
          "Group 2",
          "Group 2",
          "Group 2",
          "Group 2",
          "Group 2",
          "Group 2",
          "Group 2",
          "Group 2",
          "Group 2",
          "Group 2",
          "Group 2",
          "Group 2",
          "Group 2",
          "Group 2",
          "Group 2",
          "Group 2",
          "Group 2",
          "Group 2",
          "Group 2",
          "Group 2",
          "Group 2",
          "Group 2",
          "Group 2",
          "Group 2",
          "Group 2",
          "Group 2",
          "Group 2",
          "Group 2",
          "Group 2",
          "Group 2",
          "Group 2",
          "Group 2",
          "Group 2",
          "Group 2",
          "Group 2",
          "Group 2",
          "Group 2",
          "Group 2",
          "Group 2",
          "Group 2",
          "Group 2",
          "Group 2",
          "Group 2",
          "Group 2",
          "Group 2",
          "Group 2"
         ],
         "yaxis": "y2"
        }
       ],
       "layout": {
        "barmode": "overlay",
        "hovermode": "closest",
        "legend": {
         "traceorder": "reversed"
        },
        "template": {
         "data": {
          "bar": [
           {
            "error_x": {
             "color": "#2a3f5f"
            },
            "error_y": {
             "color": "#2a3f5f"
            },
            "marker": {
             "line": {
              "color": "#E5ECF6",
              "width": 0.5
             },
             "pattern": {
              "fillmode": "overlay",
              "size": 10,
              "solidity": 0.2
             }
            },
            "type": "bar"
           }
          ],
          "barpolar": [
           {
            "marker": {
             "line": {
              "color": "#E5ECF6",
              "width": 0.5
             },
             "pattern": {
              "fillmode": "overlay",
              "size": 10,
              "solidity": 0.2
             }
            },
            "type": "barpolar"
           }
          ],
          "carpet": [
           {
            "aaxis": {
             "endlinecolor": "#2a3f5f",
             "gridcolor": "white",
             "linecolor": "white",
             "minorgridcolor": "white",
             "startlinecolor": "#2a3f5f"
            },
            "baxis": {
             "endlinecolor": "#2a3f5f",
             "gridcolor": "white",
             "linecolor": "white",
             "minorgridcolor": "white",
             "startlinecolor": "#2a3f5f"
            },
            "type": "carpet"
           }
          ],
          "choropleth": [
           {
            "colorbar": {
             "outlinewidth": 0,
             "ticks": ""
            },
            "type": "choropleth"
           }
          ],
          "contour": [
           {
            "colorbar": {
             "outlinewidth": 0,
             "ticks": ""
            },
            "colorscale": [
             [
              0,
              "#0d0887"
             ],
             [
              0.1111111111111111,
              "#46039f"
             ],
             [
              0.2222222222222222,
              "#7201a8"
             ],
             [
              0.3333333333333333,
              "#9c179e"
             ],
             [
              0.4444444444444444,
              "#bd3786"
             ],
             [
              0.5555555555555556,
              "#d8576b"
             ],
             [
              0.6666666666666666,
              "#ed7953"
             ],
             [
              0.7777777777777778,
              "#fb9f3a"
             ],
             [
              0.8888888888888888,
              "#fdca26"
             ],
             [
              1,
              "#f0f921"
             ]
            ],
            "type": "contour"
           }
          ],
          "contourcarpet": [
           {
            "colorbar": {
             "outlinewidth": 0,
             "ticks": ""
            },
            "type": "contourcarpet"
           }
          ],
          "heatmap": [
           {
            "colorbar": {
             "outlinewidth": 0,
             "ticks": ""
            },
            "colorscale": [
             [
              0,
              "#0d0887"
             ],
             [
              0.1111111111111111,
              "#46039f"
             ],
             [
              0.2222222222222222,
              "#7201a8"
             ],
             [
              0.3333333333333333,
              "#9c179e"
             ],
             [
              0.4444444444444444,
              "#bd3786"
             ],
             [
              0.5555555555555556,
              "#d8576b"
             ],
             [
              0.6666666666666666,
              "#ed7953"
             ],
             [
              0.7777777777777778,
              "#fb9f3a"
             ],
             [
              0.8888888888888888,
              "#fdca26"
             ],
             [
              1,
              "#f0f921"
             ]
            ],
            "type": "heatmap"
           }
          ],
          "heatmapgl": [
           {
            "colorbar": {
             "outlinewidth": 0,
             "ticks": ""
            },
            "colorscale": [
             [
              0,
              "#0d0887"
             ],
             [
              0.1111111111111111,
              "#46039f"
             ],
             [
              0.2222222222222222,
              "#7201a8"
             ],
             [
              0.3333333333333333,
              "#9c179e"
             ],
             [
              0.4444444444444444,
              "#bd3786"
             ],
             [
              0.5555555555555556,
              "#d8576b"
             ],
             [
              0.6666666666666666,
              "#ed7953"
             ],
             [
              0.7777777777777778,
              "#fb9f3a"
             ],
             [
              0.8888888888888888,
              "#fdca26"
             ],
             [
              1,
              "#f0f921"
             ]
            ],
            "type": "heatmapgl"
           }
          ],
          "histogram": [
           {
            "marker": {
             "pattern": {
              "fillmode": "overlay",
              "size": 10,
              "solidity": 0.2
             }
            },
            "type": "histogram"
           }
          ],
          "histogram2d": [
           {
            "colorbar": {
             "outlinewidth": 0,
             "ticks": ""
            },
            "colorscale": [
             [
              0,
              "#0d0887"
             ],
             [
              0.1111111111111111,
              "#46039f"
             ],
             [
              0.2222222222222222,
              "#7201a8"
             ],
             [
              0.3333333333333333,
              "#9c179e"
             ],
             [
              0.4444444444444444,
              "#bd3786"
             ],
             [
              0.5555555555555556,
              "#d8576b"
             ],
             [
              0.6666666666666666,
              "#ed7953"
             ],
             [
              0.7777777777777778,
              "#fb9f3a"
             ],
             [
              0.8888888888888888,
              "#fdca26"
             ],
             [
              1,
              "#f0f921"
             ]
            ],
            "type": "histogram2d"
           }
          ],
          "histogram2dcontour": [
           {
            "colorbar": {
             "outlinewidth": 0,
             "ticks": ""
            },
            "colorscale": [
             [
              0,
              "#0d0887"
             ],
             [
              0.1111111111111111,
              "#46039f"
             ],
             [
              0.2222222222222222,
              "#7201a8"
             ],
             [
              0.3333333333333333,
              "#9c179e"
             ],
             [
              0.4444444444444444,
              "#bd3786"
             ],
             [
              0.5555555555555556,
              "#d8576b"
             ],
             [
              0.6666666666666666,
              "#ed7953"
             ],
             [
              0.7777777777777778,
              "#fb9f3a"
             ],
             [
              0.8888888888888888,
              "#fdca26"
             ],
             [
              1,
              "#f0f921"
             ]
            ],
            "type": "histogram2dcontour"
           }
          ],
          "mesh3d": [
           {
            "colorbar": {
             "outlinewidth": 0,
             "ticks": ""
            },
            "type": "mesh3d"
           }
          ],
          "parcoords": [
           {
            "line": {
             "colorbar": {
              "outlinewidth": 0,
              "ticks": ""
             }
            },
            "type": "parcoords"
           }
          ],
          "pie": [
           {
            "automargin": true,
            "type": "pie"
           }
          ],
          "scatter": [
           {
            "fillpattern": {
             "fillmode": "overlay",
             "size": 10,
             "solidity": 0.2
            },
            "type": "scatter"
           }
          ],
          "scatter3d": [
           {
            "line": {
             "colorbar": {
              "outlinewidth": 0,
              "ticks": ""
             }
            },
            "marker": {
             "colorbar": {
              "outlinewidth": 0,
              "ticks": ""
             }
            },
            "type": "scatter3d"
           }
          ],
          "scattercarpet": [
           {
            "marker": {
             "colorbar": {
              "outlinewidth": 0,
              "ticks": ""
             }
            },
            "type": "scattercarpet"
           }
          ],
          "scattergeo": [
           {
            "marker": {
             "colorbar": {
              "outlinewidth": 0,
              "ticks": ""
             }
            },
            "type": "scattergeo"
           }
          ],
          "scattergl": [
           {
            "marker": {
             "colorbar": {
              "outlinewidth": 0,
              "ticks": ""
             }
            },
            "type": "scattergl"
           }
          ],
          "scattermapbox": [
           {
            "marker": {
             "colorbar": {
              "outlinewidth": 0,
              "ticks": ""
             }
            },
            "type": "scattermapbox"
           }
          ],
          "scatterpolar": [
           {
            "marker": {
             "colorbar": {
              "outlinewidth": 0,
              "ticks": ""
             }
            },
            "type": "scatterpolar"
           }
          ],
          "scatterpolargl": [
           {
            "marker": {
             "colorbar": {
              "outlinewidth": 0,
              "ticks": ""
             }
            },
            "type": "scatterpolargl"
           }
          ],
          "scatterternary": [
           {
            "marker": {
             "colorbar": {
              "outlinewidth": 0,
              "ticks": ""
             }
            },
            "type": "scatterternary"
           }
          ],
          "surface": [
           {
            "colorbar": {
             "outlinewidth": 0,
             "ticks": ""
            },
            "colorscale": [
             [
              0,
              "#0d0887"
             ],
             [
              0.1111111111111111,
              "#46039f"
             ],
             [
              0.2222222222222222,
              "#7201a8"
             ],
             [
              0.3333333333333333,
              "#9c179e"
             ],
             [
              0.4444444444444444,
              "#bd3786"
             ],
             [
              0.5555555555555556,
              "#d8576b"
             ],
             [
              0.6666666666666666,
              "#ed7953"
             ],
             [
              0.7777777777777778,
              "#fb9f3a"
             ],
             [
              0.8888888888888888,
              "#fdca26"
             ],
             [
              1,
              "#f0f921"
             ]
            ],
            "type": "surface"
           }
          ],
          "table": [
           {
            "cells": {
             "fill": {
              "color": "#EBF0F8"
             },
             "line": {
              "color": "white"
             }
            },
            "header": {
             "fill": {
              "color": "#C8D4E3"
             },
             "line": {
              "color": "white"
             }
            },
            "type": "table"
           }
          ]
         },
         "layout": {
          "annotationdefaults": {
           "arrowcolor": "#2a3f5f",
           "arrowhead": 0,
           "arrowwidth": 1
          },
          "autotypenumbers": "strict",
          "coloraxis": {
           "colorbar": {
            "outlinewidth": 0,
            "ticks": ""
           }
          },
          "colorscale": {
           "diverging": [
            [
             0,
             "#8e0152"
            ],
            [
             0.1,
             "#c51b7d"
            ],
            [
             0.2,
             "#de77ae"
            ],
            [
             0.3,
             "#f1b6da"
            ],
            [
             0.4,
             "#fde0ef"
            ],
            [
             0.5,
             "#f7f7f7"
            ],
            [
             0.6,
             "#e6f5d0"
            ],
            [
             0.7,
             "#b8e186"
            ],
            [
             0.8,
             "#7fbc41"
            ],
            [
             0.9,
             "#4d9221"
            ],
            [
             1,
             "#276419"
            ]
           ],
           "sequential": [
            [
             0,
             "#0d0887"
            ],
            [
             0.1111111111111111,
             "#46039f"
            ],
            [
             0.2222222222222222,
             "#7201a8"
            ],
            [
             0.3333333333333333,
             "#9c179e"
            ],
            [
             0.4444444444444444,
             "#bd3786"
            ],
            [
             0.5555555555555556,
             "#d8576b"
            ],
            [
             0.6666666666666666,
             "#ed7953"
            ],
            [
             0.7777777777777778,
             "#fb9f3a"
            ],
            [
             0.8888888888888888,
             "#fdca26"
            ],
            [
             1,
             "#f0f921"
            ]
           ],
           "sequentialminus": [
            [
             0,
             "#0d0887"
            ],
            [
             0.1111111111111111,
             "#46039f"
            ],
            [
             0.2222222222222222,
             "#7201a8"
            ],
            [
             0.3333333333333333,
             "#9c179e"
            ],
            [
             0.4444444444444444,
             "#bd3786"
            ],
            [
             0.5555555555555556,
             "#d8576b"
            ],
            [
             0.6666666666666666,
             "#ed7953"
            ],
            [
             0.7777777777777778,
             "#fb9f3a"
            ],
            [
             0.8888888888888888,
             "#fdca26"
            ],
            [
             1,
             "#f0f921"
            ]
           ]
          },
          "colorway": [
           "#636efa",
           "#EF553B",
           "#00cc96",
           "#ab63fa",
           "#FFA15A",
           "#19d3f3",
           "#FF6692",
           "#B6E880",
           "#FF97FF",
           "#FECB52"
          ],
          "font": {
           "color": "#2a3f5f"
          },
          "geo": {
           "bgcolor": "white",
           "lakecolor": "white",
           "landcolor": "#E5ECF6",
           "showlakes": true,
           "showland": true,
           "subunitcolor": "white"
          },
          "hoverlabel": {
           "align": "left"
          },
          "hovermode": "closest",
          "mapbox": {
           "style": "light"
          },
          "paper_bgcolor": "white",
          "plot_bgcolor": "#E5ECF6",
          "polar": {
           "angularaxis": {
            "gridcolor": "white",
            "linecolor": "white",
            "ticks": ""
           },
           "bgcolor": "#E5ECF6",
           "radialaxis": {
            "gridcolor": "white",
            "linecolor": "white",
            "ticks": ""
           }
          },
          "scene": {
           "xaxis": {
            "backgroundcolor": "#E5ECF6",
            "gridcolor": "white",
            "gridwidth": 2,
            "linecolor": "white",
            "showbackground": true,
            "ticks": "",
            "zerolinecolor": "white"
           },
           "yaxis": {
            "backgroundcolor": "#E5ECF6",
            "gridcolor": "white",
            "gridwidth": 2,
            "linecolor": "white",
            "showbackground": true,
            "ticks": "",
            "zerolinecolor": "white"
           },
           "zaxis": {
            "backgroundcolor": "#E5ECF6",
            "gridcolor": "white",
            "gridwidth": 2,
            "linecolor": "white",
            "showbackground": true,
            "ticks": "",
            "zerolinecolor": "white"
           }
          },
          "shapedefaults": {
           "line": {
            "color": "#2a3f5f"
           }
          },
          "ternary": {
           "aaxis": {
            "gridcolor": "white",
            "linecolor": "white",
            "ticks": ""
           },
           "baxis": {
            "gridcolor": "white",
            "linecolor": "white",
            "ticks": ""
           },
           "bgcolor": "#E5ECF6",
           "caxis": {
            "gridcolor": "white",
            "linecolor": "white",
            "ticks": ""
           }
          },
          "title": {
           "x": 0.05
          },
          "xaxis": {
           "automargin": true,
           "gridcolor": "white",
           "linecolor": "white",
           "ticks": "",
           "title": {
            "standoff": 15
           },
           "zerolinecolor": "white",
           "zerolinewidth": 2
          },
          "yaxis": {
           "automargin": true,
           "gridcolor": "white",
           "linecolor": "white",
           "ticks": "",
           "title": {
            "standoff": 15
           },
           "zerolinecolor": "white",
           "zerolinewidth": 2
          }
         }
        },
        "xaxis": {
         "anchor": "y2",
         "domain": [
          0,
          1
         ],
         "zeroline": false
        },
        "yaxis": {
         "anchor": "free",
         "domain": [
          0.35,
          1
         ],
         "position": 0
        },
        "yaxis2": {
         "anchor": "x",
         "domain": [
          0,
          0.25
         ],
         "dtick": 1,
         "showticklabels": false
        }
       }
      }
     },
     "metadata": {},
     "output_type": "display_data"
    }
   ],
   "source": [
    "import plotly.figure_factory as ff\n",
    "import numpy as np\n",
    "\n",
    "x2 = np.random.randn(100)+10\n",
    "\n",
    "hist_data = [x2]\n",
    "\n",
    "group_labels = ['Group 2']\n",
    "colors = ['#37AA9C']\n",
    "\n",
    "# Create distplot with curve_type set to 'normal'\n",
    "fig = ff.create_distplot(hist_data, group_labels, show_hist=False, colors=colors)\n",
    "fig.show()"
   ]
  },
  {
   "cell_type": "code",
   "execution_count": 8,
   "metadata": {},
   "outputs": [],
   "source": [
    "import numpy as np\n",
    "\n",
    "x2 = np.random.randn(200)"
   ]
  },
  {
   "cell_type": "code",
   "execution_count": 11,
   "metadata": {},
   "outputs": [
    {
     "data": {
      "application/vnd.plotly.v1+json": {
       "config": {
        "plotlyServerURL": "https://plot.ly"
       },
       "data": [
        {
         "type": "scatter",
         "x": [
          -1.2904369440709016,
          -0.4648805804651589,
          -0.09489393768985858,
          -0.5007258545664305,
          -1.8638685559338137,
          1.400824757739583,
          2.511770641619702,
          0.7226351838146843,
          0.7761529302492962,
          -1.5626743898472768,
          -0.19274873018789634,
          0.5183489426224938,
          -0.18196442192430304,
          -0.039716659243204125,
          3.1781728533094356,
          -0.2512795972334964,
          -0.383198528289957,
          0.8754847816440386,
          -0.9810804833680731,
          0.2802931990025123,
          0.6035078874564664,
          -0.0314421855833668,
          1.7751378542677336,
          1.346457381844465,
          -1.0091401762066938,
          -1.23841272457437,
          0.00887908431209845,
          0.5725994111805232,
          2.1220137268052928,
          1.018253113311975,
          0.20758997765273454,
          -0.11708129622311703,
          2.158186018050282,
          -0.7829821253607168,
          0.0017354821883365373,
          0.7271462553929072,
          0.15485906076821912,
          -0.9668165655317472,
          -1.4325717861442169,
          0.5253789310406605,
          0.878782510738136,
          0.933942284844225,
          -0.2947133490087538,
          -0.8335493144194404,
          0.4664598408995117,
          2.9929755759334915,
          1.854772222383439,
          -0.05177443371940503,
          0.3827969702866033,
          0.6912031296178018,
          -0.14309440386443065,
          1.3649480226386885,
          -1.0740408340569398,
          -1.3659701995683717,
          -0.33337899161210655,
          -0.37906270485299354,
          0.6412754092018231,
          -0.06970592911338276,
          1.1573596983578696,
          0.22406744159993847,
          -2.364496297386595,
          0.4962523829513479,
          -1.567387605020996,
          0.410684169584993,
          -0.16550143536983214,
          0.4747342545247242,
          0.9243216680988837,
          0.3984937459881986,
          0.656821655959212,
          -0.3319490840400056,
          0.3536792126530573,
          -0.8419425945833252,
          1.703269846589101,
          -0.7326452264163835,
          -1.8270685810335356,
          1.8782959816609264,
          0.6850378476034124,
          1.9449398330628842,
          -0.2028253011107994,
          -1.90200313090188,
          0.0890086365127357,
          -1.6527054165752033,
          -1.9539267083746712,
          0.43929034253926835,
          0.2923066346119379,
          -0.3811970639858113,
          1.0123169651970507,
          -0.16191834305721112,
          2.2590199040678427,
          0.04029428162092245,
          -1.5727614504885985,
          0.41731064840997223,
          1.2079050157101485,
          -0.9066572130145658,
          0.9095857731954735,
          -2.278934100659333,
          -0.6310001322379781,
          1.374330922851814,
          -0.726878593194841,
          0.6719370392266591,
          0.20850146073569736,
          -0.16271250985181837,
          0.028480491347058882,
          0.2953224154062303,
          -1.1025194032775676,
          -0.4027718601005941,
          -1.202328536553259,
          -1.3135620420251792,
          -1.3289231894790428,
          0.35301330851590107,
          1.5151206875901377,
          -0.43544534674238256,
          -0.11936548080639389,
          -0.6725521678241348,
          -0.655764392447444,
          -0.7099420769349472,
          0.06566593171503604,
          0.08126019522972033,
          -0.031049511045765584,
          0.7652745900094075,
          0.08218698709440235,
          1.8465576732742492,
          -0.8484507699964351,
          -1.2129869391358559,
          -2.1850116041005414,
          1.7085622149258377,
          -0.9731229090371417,
          -0.5806732021287198,
          -1.724459405098287,
          -1.4096583548491632,
          0.7155442928802591,
          -1.3953439882341339,
          2.3343635245823835,
          -0.77993423216256,
          0.5153459110874068,
          0.7810401434626131,
          1.150917560906615,
          0.11211418437059285,
          -0.11722811782561342,
          -0.06408127244184501,
          0.4407334821982017,
          0.30816184524997325,
          -0.6298406245006005,
          1.4034104004110968,
          -0.974213189620759,
          1.6625406090334311,
          -0.8503762814207045,
          -0.7072893129621329,
          1.252602245596345,
          1.5176826287373153,
          -0.3421526512828602,
          0.9802517293066562,
          0.09589819006334599,
          1.7271178044844,
          0.5873057429298633,
          -0.39580707465366016,
          -1.3626189417392902,
          2.1607974683388016,
          0.7395269818763452,
          0.33257087631981735,
          0.12278877512518432,
          -0.06804135311492118,
          -2.026914166776686,
          0.9528342701425888,
          1.7341008350907825,
          0.9793278342762834,
          -0.5115438846049257,
          0.6234267619030848,
          -2.1090918612766614,
          1.3384518858967742,
          0.2860216625465521,
          -1.0504016820325084,
          0.11937911809445045,
          -0.7822700259767981,
          1.0663209875577713,
          -0.5629649657573321,
          1.2686169442092388,
          -0.6209105129002744,
          0.6431104072762504,
          -0.18606072828087689,
          -1.0254644978193486,
          -0.4704707669063889,
          0.08189948035322794,
          -1.1380193773393568,
          -0.7340852133246685,
          -0.4027723636042534,
          -0.6408926165547523,
          0.4292328266584279,
          -0.004175657273042404,
          -0.5579652914744422,
          -1.259943511728919,
          1.071762917406974,
          0.46973001827849714,
          0.2428845570361594,
          0.7586492602919984,
          -0.8486785072432289,
          -0.1422272172492832,
          0.6099643063546595,
          0.5767335602955427,
          1.5042990296188876
         ],
         "y": [
          "Group 2"
         ]
        }
       ],
       "layout": {
        "template": {
         "data": {
          "bar": [
           {
            "error_x": {
             "color": "#2a3f5f"
            },
            "error_y": {
             "color": "#2a3f5f"
            },
            "marker": {
             "line": {
              "color": "#E5ECF6",
              "width": 0.5
             },
             "pattern": {
              "fillmode": "overlay",
              "size": 10,
              "solidity": 0.2
             }
            },
            "type": "bar"
           }
          ],
          "barpolar": [
           {
            "marker": {
             "line": {
              "color": "#E5ECF6",
              "width": 0.5
             },
             "pattern": {
              "fillmode": "overlay",
              "size": 10,
              "solidity": 0.2
             }
            },
            "type": "barpolar"
           }
          ],
          "carpet": [
           {
            "aaxis": {
             "endlinecolor": "#2a3f5f",
             "gridcolor": "white",
             "linecolor": "white",
             "minorgridcolor": "white",
             "startlinecolor": "#2a3f5f"
            },
            "baxis": {
             "endlinecolor": "#2a3f5f",
             "gridcolor": "white",
             "linecolor": "white",
             "minorgridcolor": "white",
             "startlinecolor": "#2a3f5f"
            },
            "type": "carpet"
           }
          ],
          "choropleth": [
           {
            "colorbar": {
             "outlinewidth": 0,
             "ticks": ""
            },
            "type": "choropleth"
           }
          ],
          "contour": [
           {
            "colorbar": {
             "outlinewidth": 0,
             "ticks": ""
            },
            "colorscale": [
             [
              0,
              "#0d0887"
             ],
             [
              0.1111111111111111,
              "#46039f"
             ],
             [
              0.2222222222222222,
              "#7201a8"
             ],
             [
              0.3333333333333333,
              "#9c179e"
             ],
             [
              0.4444444444444444,
              "#bd3786"
             ],
             [
              0.5555555555555556,
              "#d8576b"
             ],
             [
              0.6666666666666666,
              "#ed7953"
             ],
             [
              0.7777777777777778,
              "#fb9f3a"
             ],
             [
              0.8888888888888888,
              "#fdca26"
             ],
             [
              1,
              "#f0f921"
             ]
            ],
            "type": "contour"
           }
          ],
          "contourcarpet": [
           {
            "colorbar": {
             "outlinewidth": 0,
             "ticks": ""
            },
            "type": "contourcarpet"
           }
          ],
          "heatmap": [
           {
            "colorbar": {
             "outlinewidth": 0,
             "ticks": ""
            },
            "colorscale": [
             [
              0,
              "#0d0887"
             ],
             [
              0.1111111111111111,
              "#46039f"
             ],
             [
              0.2222222222222222,
              "#7201a8"
             ],
             [
              0.3333333333333333,
              "#9c179e"
             ],
             [
              0.4444444444444444,
              "#bd3786"
             ],
             [
              0.5555555555555556,
              "#d8576b"
             ],
             [
              0.6666666666666666,
              "#ed7953"
             ],
             [
              0.7777777777777778,
              "#fb9f3a"
             ],
             [
              0.8888888888888888,
              "#fdca26"
             ],
             [
              1,
              "#f0f921"
             ]
            ],
            "type": "heatmap"
           }
          ],
          "heatmapgl": [
           {
            "colorbar": {
             "outlinewidth": 0,
             "ticks": ""
            },
            "colorscale": [
             [
              0,
              "#0d0887"
             ],
             [
              0.1111111111111111,
              "#46039f"
             ],
             [
              0.2222222222222222,
              "#7201a8"
             ],
             [
              0.3333333333333333,
              "#9c179e"
             ],
             [
              0.4444444444444444,
              "#bd3786"
             ],
             [
              0.5555555555555556,
              "#d8576b"
             ],
             [
              0.6666666666666666,
              "#ed7953"
             ],
             [
              0.7777777777777778,
              "#fb9f3a"
             ],
             [
              0.8888888888888888,
              "#fdca26"
             ],
             [
              1,
              "#f0f921"
             ]
            ],
            "type": "heatmapgl"
           }
          ],
          "histogram": [
           {
            "marker": {
             "pattern": {
              "fillmode": "overlay",
              "size": 10,
              "solidity": 0.2
             }
            },
            "type": "histogram"
           }
          ],
          "histogram2d": [
           {
            "colorbar": {
             "outlinewidth": 0,
             "ticks": ""
            },
            "colorscale": [
             [
              0,
              "#0d0887"
             ],
             [
              0.1111111111111111,
              "#46039f"
             ],
             [
              0.2222222222222222,
              "#7201a8"
             ],
             [
              0.3333333333333333,
              "#9c179e"
             ],
             [
              0.4444444444444444,
              "#bd3786"
             ],
             [
              0.5555555555555556,
              "#d8576b"
             ],
             [
              0.6666666666666666,
              "#ed7953"
             ],
             [
              0.7777777777777778,
              "#fb9f3a"
             ],
             [
              0.8888888888888888,
              "#fdca26"
             ],
             [
              1,
              "#f0f921"
             ]
            ],
            "type": "histogram2d"
           }
          ],
          "histogram2dcontour": [
           {
            "colorbar": {
             "outlinewidth": 0,
             "ticks": ""
            },
            "colorscale": [
             [
              0,
              "#0d0887"
             ],
             [
              0.1111111111111111,
              "#46039f"
             ],
             [
              0.2222222222222222,
              "#7201a8"
             ],
             [
              0.3333333333333333,
              "#9c179e"
             ],
             [
              0.4444444444444444,
              "#bd3786"
             ],
             [
              0.5555555555555556,
              "#d8576b"
             ],
             [
              0.6666666666666666,
              "#ed7953"
             ],
             [
              0.7777777777777778,
              "#fb9f3a"
             ],
             [
              0.8888888888888888,
              "#fdca26"
             ],
             [
              1,
              "#f0f921"
             ]
            ],
            "type": "histogram2dcontour"
           }
          ],
          "mesh3d": [
           {
            "colorbar": {
             "outlinewidth": 0,
             "ticks": ""
            },
            "type": "mesh3d"
           }
          ],
          "parcoords": [
           {
            "line": {
             "colorbar": {
              "outlinewidth": 0,
              "ticks": ""
             }
            },
            "type": "parcoords"
           }
          ],
          "pie": [
           {
            "automargin": true,
            "type": "pie"
           }
          ],
          "scatter": [
           {
            "fillpattern": {
             "fillmode": "overlay",
             "size": 10,
             "solidity": 0.2
            },
            "type": "scatter"
           }
          ],
          "scatter3d": [
           {
            "line": {
             "colorbar": {
              "outlinewidth": 0,
              "ticks": ""
             }
            },
            "marker": {
             "colorbar": {
              "outlinewidth": 0,
              "ticks": ""
             }
            },
            "type": "scatter3d"
           }
          ],
          "scattercarpet": [
           {
            "marker": {
             "colorbar": {
              "outlinewidth": 0,
              "ticks": ""
             }
            },
            "type": "scattercarpet"
           }
          ],
          "scattergeo": [
           {
            "marker": {
             "colorbar": {
              "outlinewidth": 0,
              "ticks": ""
             }
            },
            "type": "scattergeo"
           }
          ],
          "scattergl": [
           {
            "marker": {
             "colorbar": {
              "outlinewidth": 0,
              "ticks": ""
             }
            },
            "type": "scattergl"
           }
          ],
          "scattermapbox": [
           {
            "marker": {
             "colorbar": {
              "outlinewidth": 0,
              "ticks": ""
             }
            },
            "type": "scattermapbox"
           }
          ],
          "scatterpolar": [
           {
            "marker": {
             "colorbar": {
              "outlinewidth": 0,
              "ticks": ""
             }
            },
            "type": "scatterpolar"
           }
          ],
          "scatterpolargl": [
           {
            "marker": {
             "colorbar": {
              "outlinewidth": 0,
              "ticks": ""
             }
            },
            "type": "scatterpolargl"
           }
          ],
          "scatterternary": [
           {
            "marker": {
             "colorbar": {
              "outlinewidth": 0,
              "ticks": ""
             }
            },
            "type": "scatterternary"
           }
          ],
          "surface": [
           {
            "colorbar": {
             "outlinewidth": 0,
             "ticks": ""
            },
            "colorscale": [
             [
              0,
              "#0d0887"
             ],
             [
              0.1111111111111111,
              "#46039f"
             ],
             [
              0.2222222222222222,
              "#7201a8"
             ],
             [
              0.3333333333333333,
              "#9c179e"
             ],
             [
              0.4444444444444444,
              "#bd3786"
             ],
             [
              0.5555555555555556,
              "#d8576b"
             ],
             [
              0.6666666666666666,
              "#ed7953"
             ],
             [
              0.7777777777777778,
              "#fb9f3a"
             ],
             [
              0.8888888888888888,
              "#fdca26"
             ],
             [
              1,
              "#f0f921"
             ]
            ],
            "type": "surface"
           }
          ],
          "table": [
           {
            "cells": {
             "fill": {
              "color": "#EBF0F8"
             },
             "line": {
              "color": "white"
             }
            },
            "header": {
             "fill": {
              "color": "#C8D4E3"
             },
             "line": {
              "color": "white"
             }
            },
            "type": "table"
           }
          ]
         },
         "layout": {
          "annotationdefaults": {
           "arrowcolor": "#2a3f5f",
           "arrowhead": 0,
           "arrowwidth": 1
          },
          "autotypenumbers": "strict",
          "coloraxis": {
           "colorbar": {
            "outlinewidth": 0,
            "ticks": ""
           }
          },
          "colorscale": {
           "diverging": [
            [
             0,
             "#8e0152"
            ],
            [
             0.1,
             "#c51b7d"
            ],
            [
             0.2,
             "#de77ae"
            ],
            [
             0.3,
             "#f1b6da"
            ],
            [
             0.4,
             "#fde0ef"
            ],
            [
             0.5,
             "#f7f7f7"
            ],
            [
             0.6,
             "#e6f5d0"
            ],
            [
             0.7,
             "#b8e186"
            ],
            [
             0.8,
             "#7fbc41"
            ],
            [
             0.9,
             "#4d9221"
            ],
            [
             1,
             "#276419"
            ]
           ],
           "sequential": [
            [
             0,
             "#0d0887"
            ],
            [
             0.1111111111111111,
             "#46039f"
            ],
            [
             0.2222222222222222,
             "#7201a8"
            ],
            [
             0.3333333333333333,
             "#9c179e"
            ],
            [
             0.4444444444444444,
             "#bd3786"
            ],
            [
             0.5555555555555556,
             "#d8576b"
            ],
            [
             0.6666666666666666,
             "#ed7953"
            ],
            [
             0.7777777777777778,
             "#fb9f3a"
            ],
            [
             0.8888888888888888,
             "#fdca26"
            ],
            [
             1,
             "#f0f921"
            ]
           ],
           "sequentialminus": [
            [
             0,
             "#0d0887"
            ],
            [
             0.1111111111111111,
             "#46039f"
            ],
            [
             0.2222222222222222,
             "#7201a8"
            ],
            [
             0.3333333333333333,
             "#9c179e"
            ],
            [
             0.4444444444444444,
             "#bd3786"
            ],
            [
             0.5555555555555556,
             "#d8576b"
            ],
            [
             0.6666666666666666,
             "#ed7953"
            ],
            [
             0.7777777777777778,
             "#fb9f3a"
            ],
            [
             0.8888888888888888,
             "#fdca26"
            ],
            [
             1,
             "#f0f921"
            ]
           ]
          },
          "colorway": [
           "#636efa",
           "#EF553B",
           "#00cc96",
           "#ab63fa",
           "#FFA15A",
           "#19d3f3",
           "#FF6692",
           "#B6E880",
           "#FF97FF",
           "#FECB52"
          ],
          "font": {
           "color": "#2a3f5f"
          },
          "geo": {
           "bgcolor": "white",
           "lakecolor": "white",
           "landcolor": "#E5ECF6",
           "showlakes": true,
           "showland": true,
           "subunitcolor": "white"
          },
          "hoverlabel": {
           "align": "left"
          },
          "hovermode": "closest",
          "mapbox": {
           "style": "light"
          },
          "paper_bgcolor": "white",
          "plot_bgcolor": "#E5ECF6",
          "polar": {
           "angularaxis": {
            "gridcolor": "white",
            "linecolor": "white",
            "ticks": ""
           },
           "bgcolor": "#E5ECF6",
           "radialaxis": {
            "gridcolor": "white",
            "linecolor": "white",
            "ticks": ""
           }
          },
          "scene": {
           "xaxis": {
            "backgroundcolor": "#E5ECF6",
            "gridcolor": "white",
            "gridwidth": 2,
            "linecolor": "white",
            "showbackground": true,
            "ticks": "",
            "zerolinecolor": "white"
           },
           "yaxis": {
            "backgroundcolor": "#E5ECF6",
            "gridcolor": "white",
            "gridwidth": 2,
            "linecolor": "white",
            "showbackground": true,
            "ticks": "",
            "zerolinecolor": "white"
           },
           "zaxis": {
            "backgroundcolor": "#E5ECF6",
            "gridcolor": "white",
            "gridwidth": 2,
            "linecolor": "white",
            "showbackground": true,
            "ticks": "",
            "zerolinecolor": "white"
           }
          },
          "shapedefaults": {
           "line": {
            "color": "#2a3f5f"
           }
          },
          "ternary": {
           "aaxis": {
            "gridcolor": "white",
            "linecolor": "white",
            "ticks": ""
           },
           "baxis": {
            "gridcolor": "white",
            "linecolor": "white",
            "ticks": ""
           },
           "bgcolor": "#E5ECF6",
           "caxis": {
            "gridcolor": "white",
            "linecolor": "white",
            "ticks": ""
           }
          },
          "title": {
           "x": 0.05
          },
          "xaxis": {
           "automargin": true,
           "gridcolor": "white",
           "linecolor": "white",
           "ticks": "",
           "title": {
            "standoff": 15
           },
           "zerolinecolor": "white",
           "zerolinewidth": 2
          },
          "yaxis": {
           "automargin": true,
           "gridcolor": "white",
           "linecolor": "white",
           "ticks": "",
           "title": {
            "standoff": 15
           },
           "zerolinecolor": "white",
           "zerolinewidth": 2
          }
         }
        }
       }
      }
     },
     "metadata": {},
     "output_type": "display_data"
    }
   ],
   "source": [
    "import plotly.graph_objects as go\n",
    "import numpy as np\n",
    "\n",
    "x = np.random.randn(200)\n",
    "group_labels = ['Group 2']\n",
    "fig = go.Figure(data=go.Scatter(x=x, y=group_labels))\n",
    "fig.show()"
   ]
  },
  {
   "cell_type": "markdown",
   "metadata": {},
   "source": [
    "---"
   ]
  },
  {
   "cell_type": "code",
   "execution_count": 35,
   "metadata": {},
   "outputs": [
    {
     "ename": "NameError",
     "evalue": "name 'ser_time' is not defined",
     "output_type": "error",
     "traceback": [
      "\u001b[0;31m---------------------------------------------------------------------------\u001b[0m",
      "\u001b[0;31mNameError\u001b[0m                                 Traceback (most recent call last)",
      "\u001b[1;32m/Users/stefanlippl/dev/forecast_dashboard/analysis.ipynb Cell 48'\u001b[0m in \u001b[0;36m<cell line: 6>\u001b[0;34m()\u001b[0m\n\u001b[1;32m      <a href='vscode-notebook-cell:/Users/stefanlippl/dev/forecast_dashboard/analysis.ipynb#ch0000054?line=1'>2</a>\u001b[0m \u001b[39mimport\u001b[39;00m \u001b[39mplotly\u001b[39;00m\u001b[39m.\u001b[39;00m\u001b[39mexpress\u001b[39;00m \u001b[39mas\u001b[39;00m \u001b[39mpx\u001b[39;00m\n\u001b[1;32m      <a href='vscode-notebook-cell:/Users/stefanlippl/dev/forecast_dashboard/analysis.ipynb#ch0000054?line=3'>4</a>\u001b[0m fig \u001b[39m=\u001b[39m make_subplots(rows\u001b[39m=\u001b[39m\u001b[39m2\u001b[39m, cols\u001b[39m=\u001b[39m\u001b[39m1\u001b[39m)\n\u001b[0;32m----> <a href='vscode-notebook-cell:/Users/stefanlippl/dev/forecast_dashboard/analysis.ipynb#ch0000054?line=5'>6</a>\u001b[0m fig\u001b[39m.\u001b[39madd_trace(px\u001b[39m.\u001b[39mhistogram(ser_time, x\u001b[39m=\u001b[39mser_time\u001b[39m.\u001b[39mindex, y\u001b[39m=\u001b[39mser_time\u001b[39m.\u001b[39mvalues, text_auto\u001b[39m=\u001b[39m\u001b[39m'\u001b[39m\u001b[39m.2s\u001b[39m\u001b[39m'\u001b[39m, height\u001b[39m=\u001b[39m\u001b[39m800\u001b[39m), row\u001b[39m=\u001b[39m\u001b[39m1\u001b[39m, col\u001b[39m=\u001b[39m\u001b[39m1\u001b[39m)\n\u001b[1;32m      <a href='vscode-notebook-cell:/Users/stefanlippl/dev/forecast_dashboard/analysis.ipynb#ch0000054?line=6'>7</a>\u001b[0m fig\u001b[39m.\u001b[39madd_trace(go\u001b[39m.\u001b[39mBar(y\u001b[39m=\u001b[39m[\u001b[39m2\u001b[39m, \u001b[39m1\u001b[39m, \u001b[39m3\u001b[39m]), row\u001b[39m=\u001b[39m\u001b[39m2\u001b[39m, col\u001b[39m=\u001b[39m\u001b[39m1\u001b[39m)\n\u001b[1;32m      <a href='vscode-notebook-cell:/Users/stefanlippl/dev/forecast_dashboard/analysis.ipynb#ch0000054?line=8'>9</a>\u001b[0m fig\u001b[39m.\u001b[39mshow()\n",
      "\u001b[0;31mNameError\u001b[0m: name 'ser_time' is not defined"
     ]
    }
   ],
   "source": [
    "from plotly.subplots import make_subplots\n",
    "\n",
    "fig = make_subplots(rows=1, cols=2)\n",
    "\n",
    "fig.add_trace(go.Scatter(y=[4, 2, 1], mode=\"lines\"), row=1, col=1)\n",
    "fig.add_trace(go.Bar(y=[2, 1, 3]), row=2, col=1)\n",
    "\n",
    "fig.show()"
   ]
  },
  {
   "cell_type": "code",
   "execution_count": null,
   "metadata": {},
   "outputs": [],
   "source": []
  }
 ],
 "metadata": {
  "interpreter": {
   "hash": "e2f730bd68a04194e8127a1c77974eb1a7c175cb76893a87d6c5ab3e06416c53"
  },
  "kernelspec": {
   "display_name": "Python 3.9.12 ('forecast_dashboard')",
   "language": "python",
   "name": "python3"
  },
  "language_info": {
   "codemirror_mode": {
    "name": "ipython",
    "version": 3
   },
   "file_extension": ".py",
   "mimetype": "text/x-python",
   "name": "python",
   "nbconvert_exporter": "python",
   "pygments_lexer": "ipython3",
   "version": "3.9.12"
  },
  "orig_nbformat": 4
 },
 "nbformat": 4,
 "nbformat_minor": 2
}
